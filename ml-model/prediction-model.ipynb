{
  "nbformat": 4,
  "nbformat_minor": 0,
  "metadata": {
    "colab": {
      "name": "H2HBABBA2557_Janice_Utkarsh_Chaurasia_milestone3.ipynb",
      "provenance": [],
      "collapsed_sections": []
    },
    "kernelspec": {
      "display_name": "Python 3",
      "name": "python3"
    },
    "language_info": {
      "name": "python"
    }
  },
  "cells": [
    {
      "cell_type": "markdown",
      "metadata": {
        "id": "tsDxuK6MYoRX"
      },
      "source": [
        "# **PAYMENT DATE PREDICTION**"
      ]
    },
    {
      "cell_type": "code",
      "metadata": {
        "id": "Ibje9X_kwFCO"
      },
      "source": [
        "import pandas as pd\n",
        "import numpy as np"
      ],
      "execution_count": null,
      "outputs": []
    },
    {
      "cell_type": "code",
      "metadata": {
        "colab": {
          "base_uri": "https://localhost:8080/",
          "height": 588
        },
        "id": "0Hj6cOf0xV8a",
        "outputId": "b846737b-d51c-4e11-fb76-50ddda7014f3"
      },
      "source": [
        "data = pd.read_csv('/content/H2HBABBA2557.csv')\n",
        "data"
      ],
      "execution_count": null,
      "outputs": [
        {
          "output_type": "execute_result",
          "data": {
            "text/html": [
              "<div>\n",
              "<style scoped>\n",
              "    .dataframe tbody tr th:only-of-type {\n",
              "        vertical-align: middle;\n",
              "    }\n",
              "\n",
              "    .dataframe tbody tr th {\n",
              "        vertical-align: top;\n",
              "    }\n",
              "\n",
              "    .dataframe thead th {\n",
              "        text-align: right;\n",
              "    }\n",
              "</style>\n",
              "<table border=\"1\" class=\"dataframe\">\n",
              "  <thead>\n",
              "    <tr style=\"text-align: right;\">\n",
              "      <th></th>\n",
              "      <th>business_code</th>\n",
              "      <th>cust_number</th>\n",
              "      <th>name_customer</th>\n",
              "      <th>clear_date</th>\n",
              "      <th>buisness_year</th>\n",
              "      <th>doc_id</th>\n",
              "      <th>posting_date</th>\n",
              "      <th>document_create_date</th>\n",
              "      <th>document_create_date.1</th>\n",
              "      <th>due_in_date</th>\n",
              "      <th>invoice_currency</th>\n",
              "      <th>document type</th>\n",
              "      <th>posting_id</th>\n",
              "      <th>area_business</th>\n",
              "      <th>total_open_amount</th>\n",
              "      <th>baseline_create_date</th>\n",
              "      <th>cust_payment_terms</th>\n",
              "      <th>invoice_id</th>\n",
              "      <th>isOpen</th>\n",
              "    </tr>\n",
              "  </thead>\n",
              "  <tbody>\n",
              "    <tr>\n",
              "      <th>0</th>\n",
              "      <td>U001</td>\n",
              "      <td>0200769623</td>\n",
              "      <td>WAL-MAR systems</td>\n",
              "      <td>2019-05-24 00:00:00</td>\n",
              "      <td>2019.0</td>\n",
              "      <td>1.929315e+09</td>\n",
              "      <td>2019-05-14</td>\n",
              "      <td>20190514</td>\n",
              "      <td>20190514</td>\n",
              "      <td>20190529.0</td>\n",
              "      <td>USD</td>\n",
              "      <td>RV</td>\n",
              "      <td>1.0</td>\n",
              "      <td>NaN</td>\n",
              "      <td>41005.61</td>\n",
              "      <td>20190514.0</td>\n",
              "      <td>NAH4</td>\n",
              "      <td>1.929315e+09</td>\n",
              "      <td>0</td>\n",
              "    </tr>\n",
              "    <tr>\n",
              "      <th>1</th>\n",
              "      <td>U001</td>\n",
              "      <td>0200769623</td>\n",
              "      <td>WAL-MAR corp</td>\n",
              "      <td>2019-02-12 00:00:00</td>\n",
              "      <td>2019.0</td>\n",
              "      <td>1.928721e+09</td>\n",
              "      <td>2019-02-01</td>\n",
              "      <td>20190201</td>\n",
              "      <td>20190201</td>\n",
              "      <td>20190216.0</td>\n",
              "      <td>USD</td>\n",
              "      <td>RV</td>\n",
              "      <td>1.0</td>\n",
              "      <td>NaN</td>\n",
              "      <td>25260.12</td>\n",
              "      <td>20190201.0</td>\n",
              "      <td>NAH4</td>\n",
              "      <td>1.928721e+09</td>\n",
              "      <td>0</td>\n",
              "    </tr>\n",
              "    <tr>\n",
              "      <th>2</th>\n",
              "      <td>U001</td>\n",
              "      <td>0200744019</td>\n",
              "      <td>TARG llc</td>\n",
              "      <td>NaN</td>\n",
              "      <td>2020.0</td>\n",
              "      <td>1.930708e+09</td>\n",
              "      <td>2020-03-27</td>\n",
              "      <td>20200326</td>\n",
              "      <td>20200327</td>\n",
              "      <td>20200411.0</td>\n",
              "      <td>USD</td>\n",
              "      <td>RV</td>\n",
              "      <td>1.0</td>\n",
              "      <td>NaN</td>\n",
              "      <td>7664.54</td>\n",
              "      <td>20200327.0</td>\n",
              "      <td>NAA8</td>\n",
              "      <td>1.930708e+09</td>\n",
              "      <td>1</td>\n",
              "    </tr>\n",
              "    <tr>\n",
              "      <th>3</th>\n",
              "      <td>U001</td>\n",
              "      <td>0200705089</td>\n",
              "      <td>JETR llc</td>\n",
              "      <td>NaN</td>\n",
              "      <td>2020.0</td>\n",
              "      <td>1.930788e+09</td>\n",
              "      <td>2020-04-15</td>\n",
              "      <td>20200415</td>\n",
              "      <td>20200415</td>\n",
              "      <td>20200430.0</td>\n",
              "      <td>USD</td>\n",
              "      <td>RV</td>\n",
              "      <td>1.0</td>\n",
              "      <td>NaN</td>\n",
              "      <td>19509.74</td>\n",
              "      <td>20200415.0</td>\n",
              "      <td>NAA8</td>\n",
              "      <td>1.930788e+09</td>\n",
              "      <td>1</td>\n",
              "    </tr>\n",
              "    <tr>\n",
              "      <th>4</th>\n",
              "      <td>U001</td>\n",
              "      <td>0200769623</td>\n",
              "      <td>WAL-MAR us</td>\n",
              "      <td>2019-04-23 00:00:00</td>\n",
              "      <td>2019.0</td>\n",
              "      <td>1.929115e+09</td>\n",
              "      <td>2019-04-12</td>\n",
              "      <td>20190410</td>\n",
              "      <td>20190412</td>\n",
              "      <td>20190427.0</td>\n",
              "      <td>USD</td>\n",
              "      <td>RV</td>\n",
              "      <td>1.0</td>\n",
              "      <td>NaN</td>\n",
              "      <td>1561.80</td>\n",
              "      <td>20190412.0</td>\n",
              "      <td>NAH4</td>\n",
              "      <td>1.929115e+09</td>\n",
              "      <td>0</td>\n",
              "    </tr>\n",
              "    <tr>\n",
              "      <th>...</th>\n",
              "      <td>...</td>\n",
              "      <td>...</td>\n",
              "      <td>...</td>\n",
              "      <td>...</td>\n",
              "      <td>...</td>\n",
              "      <td>...</td>\n",
              "      <td>...</td>\n",
              "      <td>...</td>\n",
              "      <td>...</td>\n",
              "      <td>...</td>\n",
              "      <td>...</td>\n",
              "      <td>...</td>\n",
              "      <td>...</td>\n",
              "      <td>...</td>\n",
              "      <td>...</td>\n",
              "      <td>...</td>\n",
              "      <td>...</td>\n",
              "      <td>...</td>\n",
              "      <td>...</td>\n",
              "    </tr>\n",
              "    <tr>\n",
              "      <th>49995</th>\n",
              "      <td>U001</td>\n",
              "      <td>0200782001</td>\n",
              "      <td>GORDO trust</td>\n",
              "      <td>2019-11-26 00:00:00</td>\n",
              "      <td>2019.0</td>\n",
              "      <td>1.930139e+09</td>\n",
              "      <td>2019-11-11</td>\n",
              "      <td>20191111</td>\n",
              "      <td>20191111</td>\n",
              "      <td>20191126.0</td>\n",
              "      <td>USD</td>\n",
              "      <td>RV</td>\n",
              "      <td>1.0</td>\n",
              "      <td>NaN</td>\n",
              "      <td>20270.30</td>\n",
              "      <td>20191111.0</td>\n",
              "      <td>NAA8</td>\n",
              "      <td>1.930139e+09</td>\n",
              "      <td>0</td>\n",
              "    </tr>\n",
              "    <tr>\n",
              "      <th>49996</th>\n",
              "      <td>U001</td>\n",
              "      <td>0200769623</td>\n",
              "      <td>WAL-MAR</td>\n",
              "      <td>2019-05-03 00:00:00</td>\n",
              "      <td>2019.0</td>\n",
              "      <td>1.929187e+09</td>\n",
              "      <td>2019-04-23</td>\n",
              "      <td>20190422</td>\n",
              "      <td>20190423</td>\n",
              "      <td>20190508.0</td>\n",
              "      <td>USD</td>\n",
              "      <td>RV</td>\n",
              "      <td>1.0</td>\n",
              "      <td>NaN</td>\n",
              "      <td>38176.05</td>\n",
              "      <td>20190423.0</td>\n",
              "      <td>NAH4</td>\n",
              "      <td>1.929187e+09</td>\n",
              "      <td>0</td>\n",
              "    </tr>\n",
              "    <tr>\n",
              "      <th>49997</th>\n",
              "      <td>U001</td>\n",
              "      <td>0200769623</td>\n",
              "      <td>WAL-MAR corp</td>\n",
              "      <td>2019-12-16 00:00:00</td>\n",
              "      <td>2019.0</td>\n",
              "      <td>1.930217e+09</td>\n",
              "      <td>2019-12-05</td>\n",
              "      <td>20191204</td>\n",
              "      <td>20191205</td>\n",
              "      <td>20191220.0</td>\n",
              "      <td>USD</td>\n",
              "      <td>RV</td>\n",
              "      <td>1.0</td>\n",
              "      <td>NaN</td>\n",
              "      <td>683.91</td>\n",
              "      <td>20191205.0</td>\n",
              "      <td>NAH4</td>\n",
              "      <td>1.930217e+09</td>\n",
              "      <td>0</td>\n",
              "    </tr>\n",
              "    <tr>\n",
              "      <th>49998</th>\n",
              "      <td>U001</td>\n",
              "      <td>0200759878</td>\n",
              "      <td>SA</td>\n",
              "      <td>2019-06-07 00:00:00</td>\n",
              "      <td>2019.0</td>\n",
              "      <td>1.929363e+09</td>\n",
              "      <td>2019-05-23</td>\n",
              "      <td>20190522</td>\n",
              "      <td>20190523</td>\n",
              "      <td>20190607.0</td>\n",
              "      <td>USD</td>\n",
              "      <td>RV</td>\n",
              "      <td>1.0</td>\n",
              "      <td>NaN</td>\n",
              "      <td>15072.62</td>\n",
              "      <td>20190523.0</td>\n",
              "      <td>NAH4</td>\n",
              "      <td>1.929363e+09</td>\n",
              "      <td>0</td>\n",
              "    </tr>\n",
              "    <tr>\n",
              "      <th>49999</th>\n",
              "      <td>U001</td>\n",
              "      <td>0200707822</td>\n",
              "      <td>PUBLI associates</td>\n",
              "      <td>2020-02-06 00:00:00</td>\n",
              "      <td>2020.0</td>\n",
              "      <td>1.930426e+09</td>\n",
              "      <td>2020-01-22</td>\n",
              "      <td>20200122</td>\n",
              "      <td>20200122</td>\n",
              "      <td>20200206.0</td>\n",
              "      <td>USD</td>\n",
              "      <td>RV</td>\n",
              "      <td>1.0</td>\n",
              "      <td>NaN</td>\n",
              "      <td>91401.41</td>\n",
              "      <td>20200122.0</td>\n",
              "      <td>NAA8</td>\n",
              "      <td>1.930426e+09</td>\n",
              "      <td>0</td>\n",
              "    </tr>\n",
              "  </tbody>\n",
              "</table>\n",
              "<p>50000 rows × 19 columns</p>\n",
              "</div>"
            ],
            "text/plain": [
              "      business_code cust_number  ...    invoice_id isOpen\n",
              "0              U001  0200769623  ...  1.929315e+09      0\n",
              "1              U001  0200769623  ...  1.928721e+09      0\n",
              "2              U001  0200744019  ...  1.930708e+09      1\n",
              "3              U001  0200705089  ...  1.930788e+09      1\n",
              "4              U001  0200769623  ...  1.929115e+09      0\n",
              "...             ...         ...  ...           ...    ...\n",
              "49995          U001  0200782001  ...  1.930139e+09      0\n",
              "49996          U001  0200769623  ...  1.929187e+09      0\n",
              "49997          U001  0200769623  ...  1.930217e+09      0\n",
              "49998          U001  0200759878  ...  1.929363e+09      0\n",
              "49999          U001  0200707822  ...  1.930426e+09      0\n",
              "\n",
              "[50000 rows x 19 columns]"
            ]
          },
          "metadata": {
            "tags": []
          },
          "execution_count": 4
        }
      ]
    },
    {
      "cell_type": "code",
      "metadata": {
        "colab": {
          "base_uri": "https://localhost:8080/"
        },
        "id": "UhNAFBS8xaAh",
        "outputId": "86969793-d968-4c02-b3a6-12116b9180ab"
      },
      "source": [
        "data.info()"
      ],
      "execution_count": null,
      "outputs": [
        {
          "output_type": "stream",
          "text": [
            "<class 'pandas.core.frame.DataFrame'>\n",
            "RangeIndex: 50000 entries, 0 to 49999\n",
            "Data columns (total 19 columns):\n",
            " #   Column                  Non-Null Count  Dtype  \n",
            "---  ------                  --------------  -----  \n",
            " 0   business_code           50000 non-null  object \n",
            " 1   cust_number             50000 non-null  object \n",
            " 2   name_customer           50000 non-null  object \n",
            " 3   clear_date              40000 non-null  object \n",
            " 4   buisness_year           50000 non-null  float64\n",
            " 5   doc_id                  50000 non-null  float64\n",
            " 6   posting_date            50000 non-null  object \n",
            " 7   document_create_date    50000 non-null  int64  \n",
            " 8   document_create_date.1  50000 non-null  int64  \n",
            " 9   due_in_date             50000 non-null  float64\n",
            " 10  invoice_currency        50000 non-null  object \n",
            " 11  document type           50000 non-null  object \n",
            " 12  posting_id              50000 non-null  float64\n",
            " 13  area_business           0 non-null      float64\n",
            " 14  total_open_amount       50000 non-null  float64\n",
            " 15  baseline_create_date    50000 non-null  float64\n",
            " 16  cust_payment_terms      50000 non-null  object \n",
            " 17  invoice_id              49992 non-null  float64\n",
            " 18  isOpen                  50000 non-null  int64  \n",
            "dtypes: float64(8), int64(3), object(8)\n",
            "memory usage: 7.2+ MB\n"
          ],
          "name": "stdout"
        }
      ]
    },
    {
      "cell_type": "code",
      "metadata": {
        "colab": {
          "base_uri": "https://localhost:8080/"
        },
        "id": "M-6H06iAxfOI",
        "outputId": "90ef4ae3-31da-4b74-8c79-b3caf0f17456"
      },
      "source": [
        "#checking total null in each column\n",
        "data.isnull().sum()"
      ],
      "execution_count": null,
      "outputs": [
        {
          "output_type": "execute_result",
          "data": {
            "text/plain": [
              "business_code                 0\n",
              "cust_number                   0\n",
              "name_customer                 0\n",
              "clear_date                10000\n",
              "buisness_year                 0\n",
              "doc_id                        0\n",
              "posting_date                  0\n",
              "document_create_date          0\n",
              "document_create_date.1        0\n",
              "due_in_date                   0\n",
              "invoice_currency              0\n",
              "document type                 0\n",
              "posting_id                    0\n",
              "area_business             50000\n",
              "total_open_amount             0\n",
              "baseline_create_date          0\n",
              "cust_payment_terms            0\n",
              "invoice_id                    8\n",
              "isOpen                        0\n",
              "dtype: int64"
            ]
          },
          "metadata": {
            "tags": []
          },
          "execution_count": 6
        }
      ]
    },
    {
      "cell_type": "code",
      "metadata": {
        "colab": {
          "base_uri": "https://localhost:8080/"
        },
        "id": "bGQlu9ujxjTv",
        "outputId": "856d1d28-3889-4174-9b01-e0c02ce1468b"
      },
      "source": [
        "data.isnull().mean()"
      ],
      "execution_count": null,
      "outputs": [
        {
          "output_type": "execute_result",
          "data": {
            "text/plain": [
              "business_code             0.00000\n",
              "cust_number               0.00000\n",
              "name_customer             0.00000\n",
              "clear_date                0.20000\n",
              "buisness_year             0.00000\n",
              "doc_id                    0.00000\n",
              "posting_date              0.00000\n",
              "document_create_date      0.00000\n",
              "document_create_date.1    0.00000\n",
              "due_in_date               0.00000\n",
              "invoice_currency          0.00000\n",
              "document type             0.00000\n",
              "posting_id                0.00000\n",
              "area_business             1.00000\n",
              "total_open_amount         0.00000\n",
              "baseline_create_date      0.00000\n",
              "cust_payment_terms        0.00000\n",
              "invoice_id                0.00016\n",
              "isOpen                    0.00000\n",
              "dtype: float64"
            ]
          },
          "metadata": {
            "tags": []
          },
          "execution_count": 7
        }
      ]
    },
    {
      "cell_type": "code",
      "metadata": {
        "colab": {
          "base_uri": "https://localhost:8080/"
        },
        "id": "lb6DsD4yA5Su",
        "outputId": "fc22c577-80f0-4b56-bcf5-45b85148b110"
      },
      "source": [
        "#checking total unique in each column\n",
        "data.nunique()"
      ],
      "execution_count": null,
      "outputs": [
        {
          "output_type": "execute_result",
          "data": {
            "text/plain": [
              "business_code                 6\n",
              "cust_number                1398\n",
              "name_customer              4161\n",
              "clear_date                  399\n",
              "buisness_year                 2\n",
              "doc_id                    48789\n",
              "posting_date                505\n",
              "document_create_date        510\n",
              "document_create_date.1      505\n",
              "due_in_date                 545\n",
              "invoice_currency              2\n",
              "document type                 2\n",
              "posting_id                    1\n",
              "area_business                 0\n",
              "total_open_amount         44189\n",
              "baseline_create_date        507\n",
              "cust_payment_terms           70\n",
              "invoice_id                48781\n",
              "isOpen                        2\n",
              "dtype: int64"
            ]
          },
          "metadata": {
            "tags": []
          },
          "execution_count": 8
        }
      ]
    },
    {
      "cell_type": "markdown",
      "metadata": {
        "id": "14S_eUhrBJVK"
      },
      "source": [
        "# **PREPROCESSING**"
      ]
    },
    {
      "cell_type": "code",
      "metadata": {
        "id": "VaHLmZo7yL8q"
      },
      "source": [
        "# slicing tha dataset by removing rows having clear_date as null\n",
        "# we will use this data at last to check our model\n",
        "\n",
        "clear_date_null = data[data['clear_date'].isnull()].copy()"
      ],
      "execution_count": null,
      "outputs": []
    },
    {
      "cell_type": "code",
      "metadata": {
        "id": "6G5I1czPQlPV"
      },
      "source": [
        "clear_date_null_copy = clear_date_null.copy()"
      ],
      "execution_count": null,
      "outputs": []
    },
    {
      "cell_type": "code",
      "metadata": {
        "id": "ZPp0NwxsxMk8"
      },
      "source": [
        "# copy of data to load in database\n",
        "db_data = clear_date_null.copy()"
      ],
      "execution_count": null,
      "outputs": []
    },
    {
      "cell_type": "code",
      "metadata": {
        "colab": {
          "base_uri": "https://localhost:8080/",
          "height": 257
        },
        "id": "GQ-f-49wyPh0",
        "outputId": "bda065e9-be3b-48b1-851a-2fecdf3bcb75"
      },
      "source": [
        "clear_date_null.head()"
      ],
      "execution_count": null,
      "outputs": [
        {
          "output_type": "execute_result",
          "data": {
            "text/html": [
              "<div>\n",
              "<style scoped>\n",
              "    .dataframe tbody tr th:only-of-type {\n",
              "        vertical-align: middle;\n",
              "    }\n",
              "\n",
              "    .dataframe tbody tr th {\n",
              "        vertical-align: top;\n",
              "    }\n",
              "\n",
              "    .dataframe thead th {\n",
              "        text-align: right;\n",
              "    }\n",
              "</style>\n",
              "<table border=\"1\" class=\"dataframe\">\n",
              "  <thead>\n",
              "    <tr style=\"text-align: right;\">\n",
              "      <th></th>\n",
              "      <th>business_code</th>\n",
              "      <th>cust_number</th>\n",
              "      <th>name_customer</th>\n",
              "      <th>clear_date</th>\n",
              "      <th>buisness_year</th>\n",
              "      <th>doc_id</th>\n",
              "      <th>posting_date</th>\n",
              "      <th>document_create_date</th>\n",
              "      <th>document_create_date.1</th>\n",
              "      <th>due_in_date</th>\n",
              "      <th>invoice_currency</th>\n",
              "      <th>document type</th>\n",
              "      <th>posting_id</th>\n",
              "      <th>area_business</th>\n",
              "      <th>total_open_amount</th>\n",
              "      <th>baseline_create_date</th>\n",
              "      <th>cust_payment_terms</th>\n",
              "      <th>invoice_id</th>\n",
              "      <th>isOpen</th>\n",
              "    </tr>\n",
              "  </thead>\n",
              "  <tbody>\n",
              "    <tr>\n",
              "      <th>2</th>\n",
              "      <td>U001</td>\n",
              "      <td>0200744019</td>\n",
              "      <td>TARG llc</td>\n",
              "      <td>NaN</td>\n",
              "      <td>2020.0</td>\n",
              "      <td>1.930708e+09</td>\n",
              "      <td>2020-03-27</td>\n",
              "      <td>20200326</td>\n",
              "      <td>20200327</td>\n",
              "      <td>20200411.0</td>\n",
              "      <td>USD</td>\n",
              "      <td>RV</td>\n",
              "      <td>1.0</td>\n",
              "      <td>NaN</td>\n",
              "      <td>7664.54</td>\n",
              "      <td>20200327.0</td>\n",
              "      <td>NAA8</td>\n",
              "      <td>1.930708e+09</td>\n",
              "      <td>1</td>\n",
              "    </tr>\n",
              "    <tr>\n",
              "      <th>3</th>\n",
              "      <td>U001</td>\n",
              "      <td>0200705089</td>\n",
              "      <td>JETR llc</td>\n",
              "      <td>NaN</td>\n",
              "      <td>2020.0</td>\n",
              "      <td>1.930788e+09</td>\n",
              "      <td>2020-04-15</td>\n",
              "      <td>20200415</td>\n",
              "      <td>20200415</td>\n",
              "      <td>20200430.0</td>\n",
              "      <td>USD</td>\n",
              "      <td>RV</td>\n",
              "      <td>1.0</td>\n",
              "      <td>NaN</td>\n",
              "      <td>19509.74</td>\n",
              "      <td>20200415.0</td>\n",
              "      <td>NAA8</td>\n",
              "      <td>1.930788e+09</td>\n",
              "      <td>1</td>\n",
              "    </tr>\n",
              "    <tr>\n",
              "      <th>7</th>\n",
              "      <td>U001</td>\n",
              "      <td>0200793513</td>\n",
              "      <td>KROGER associates</td>\n",
              "      <td>NaN</td>\n",
              "      <td>2020.0</td>\n",
              "      <td>1.930779e+09</td>\n",
              "      <td>2020-04-12</td>\n",
              "      <td>20200412</td>\n",
              "      <td>20200412</td>\n",
              "      <td>20200427.0</td>\n",
              "      <td>USD</td>\n",
              "      <td>RV</td>\n",
              "      <td>1.0</td>\n",
              "      <td>NaN</td>\n",
              "      <td>28910.14</td>\n",
              "      <td>20200412.0</td>\n",
              "      <td>NAA8</td>\n",
              "      <td>1.930779e+09</td>\n",
              "      <td>1</td>\n",
              "    </tr>\n",
              "    <tr>\n",
              "      <th>10</th>\n",
              "      <td>U001</td>\n",
              "      <td>0200020431</td>\n",
              "      <td>DEC systems</td>\n",
              "      <td>NaN</td>\n",
              "      <td>2020.0</td>\n",
              "      <td>1.930600e+09</td>\n",
              "      <td>2020-03-04</td>\n",
              "      <td>20200304</td>\n",
              "      <td>20200304</td>\n",
              "      <td>20200308.0</td>\n",
              "      <td>USD</td>\n",
              "      <td>RV</td>\n",
              "      <td>1.0</td>\n",
              "      <td>NaN</td>\n",
              "      <td>4408.13</td>\n",
              "      <td>20200301.0</td>\n",
              "      <td>NAM1</td>\n",
              "      <td>1.930600e+09</td>\n",
              "      <td>1</td>\n",
              "    </tr>\n",
              "    <tr>\n",
              "      <th>16</th>\n",
              "      <td>U001</td>\n",
              "      <td>0200769623</td>\n",
              "      <td>WAL-MAR us</td>\n",
              "      <td>NaN</td>\n",
              "      <td>2020.0</td>\n",
              "      <td>1.930714e+09</td>\n",
              "      <td>2020-03-28</td>\n",
              "      <td>20200328</td>\n",
              "      <td>20200328</td>\n",
              "      <td>20200412.0</td>\n",
              "      <td>USD</td>\n",
              "      <td>RV</td>\n",
              "      <td>1.0</td>\n",
              "      <td>NaN</td>\n",
              "      <td>13155.10</td>\n",
              "      <td>20200328.0</td>\n",
              "      <td>NAH4</td>\n",
              "      <td>1.930714e+09</td>\n",
              "      <td>1</td>\n",
              "    </tr>\n",
              "  </tbody>\n",
              "</table>\n",
              "</div>"
            ],
            "text/plain": [
              "   business_code cust_number  ...    invoice_id isOpen\n",
              "2           U001  0200744019  ...  1.930708e+09      1\n",
              "3           U001  0200705089  ...  1.930788e+09      1\n",
              "7           U001  0200793513  ...  1.930779e+09      1\n",
              "10          U001  0200020431  ...  1.930600e+09      1\n",
              "16          U001  0200769623  ...  1.930714e+09      1\n",
              "\n",
              "[5 rows x 19 columns]"
            ]
          },
          "metadata": {
            "tags": []
          },
          "execution_count": 12
        }
      ]
    },
    {
      "cell_type": "code",
      "metadata": {
        "id": "0nDO2dEXySCd"
      },
      "source": [
        "#dropping area_business as it has same value for all the rows\n",
        "\n",
        "data.drop(['area_business'], axis = 1, inplace=True)"
      ],
      "execution_count": null,
      "outputs": []
    },
    {
      "cell_type": "code",
      "metadata": {
        "id": "ADsISgKdyXhB"
      },
      "source": [
        "# dropping rows having clear_date as NULL because this is the main feature for \n",
        "# prediction and do not make any sense to keep those rows having clear_date as NULL\n",
        "\n",
        "data.dropna(subset=['clear_date'], inplace=True)"
      ],
      "execution_count": null,
      "outputs": []
    },
    {
      "cell_type": "code",
      "metadata": {
        "colab": {
          "base_uri": "https://localhost:8080/"
        },
        "id": "AhF-kA0LyaKP",
        "outputId": "5941afc7-692d-4133-d988-d8c1a2223bd2"
      },
      "source": [
        "data.shape"
      ],
      "execution_count": null,
      "outputs": [
        {
          "output_type": "execute_result",
          "data": {
            "text/plain": [
              "(40000, 18)"
            ]
          },
          "metadata": {
            "tags": []
          },
          "execution_count": 15
        }
      ]
    },
    {
      "cell_type": "code",
      "metadata": {
        "id": "t_O_zzG_ykKq"
      },
      "source": [
        "data.drop(['document_create_date'], axis=1, inplace=True)"
      ],
      "execution_count": null,
      "outputs": []
    },
    {
      "cell_type": "code",
      "metadata": {
        "id": "5HW7muVUDjb9"
      },
      "source": [
        "#converting into date time format in data\n",
        "\n",
        "data['due_in_date'] = pd.to_datetime(data['due_in_date'], format='%Y%m%d')\n",
        "data['baseline_create_date'] = pd.to_datetime(data['baseline_create_date'], format='%Y%m%d')\n",
        "data['clear_date'] = pd.to_datetime(data['clear_date'])\n",
        "data['posting_date'] = pd.to_datetime(data['posting_date'])\n",
        "data['document_create_date.1'] = pd.to_datetime(data['document_create_date.1'], format='%Y%m%d')"
      ],
      "execution_count": null,
      "outputs": []
    },
    {
      "cell_type": "code",
      "metadata": {
        "colab": {
          "base_uri": "https://localhost:8080/",
          "height": 274
        },
        "id": "FXgbpUwCDzzt",
        "outputId": "a35d8141-9b98-463d-bf71-e85ba2e9b806"
      },
      "source": [
        "data.head()"
      ],
      "execution_count": null,
      "outputs": [
        {
          "output_type": "execute_result",
          "data": {
            "text/html": [
              "<div>\n",
              "<style scoped>\n",
              "    .dataframe tbody tr th:only-of-type {\n",
              "        vertical-align: middle;\n",
              "    }\n",
              "\n",
              "    .dataframe tbody tr th {\n",
              "        vertical-align: top;\n",
              "    }\n",
              "\n",
              "    .dataframe thead th {\n",
              "        text-align: right;\n",
              "    }\n",
              "</style>\n",
              "<table border=\"1\" class=\"dataframe\">\n",
              "  <thead>\n",
              "    <tr style=\"text-align: right;\">\n",
              "      <th></th>\n",
              "      <th>business_code</th>\n",
              "      <th>cust_number</th>\n",
              "      <th>name_customer</th>\n",
              "      <th>clear_date</th>\n",
              "      <th>buisness_year</th>\n",
              "      <th>doc_id</th>\n",
              "      <th>posting_date</th>\n",
              "      <th>document_create_date.1</th>\n",
              "      <th>due_in_date</th>\n",
              "      <th>invoice_currency</th>\n",
              "      <th>document type</th>\n",
              "      <th>posting_id</th>\n",
              "      <th>total_open_amount</th>\n",
              "      <th>baseline_create_date</th>\n",
              "      <th>cust_payment_terms</th>\n",
              "      <th>invoice_id</th>\n",
              "      <th>isOpen</th>\n",
              "    </tr>\n",
              "  </thead>\n",
              "  <tbody>\n",
              "    <tr>\n",
              "      <th>0</th>\n",
              "      <td>U001</td>\n",
              "      <td>0200769623</td>\n",
              "      <td>WAL-MAR systems</td>\n",
              "      <td>2019-05-24</td>\n",
              "      <td>2019.0</td>\n",
              "      <td>1.929315e+09</td>\n",
              "      <td>2019-05-14</td>\n",
              "      <td>2019-05-14</td>\n",
              "      <td>2019-05-29</td>\n",
              "      <td>USD</td>\n",
              "      <td>RV</td>\n",
              "      <td>1.0</td>\n",
              "      <td>41005.61</td>\n",
              "      <td>2019-05-14</td>\n",
              "      <td>NAH4</td>\n",
              "      <td>1.929315e+09</td>\n",
              "      <td>0</td>\n",
              "    </tr>\n",
              "    <tr>\n",
              "      <th>1</th>\n",
              "      <td>U001</td>\n",
              "      <td>0200769623</td>\n",
              "      <td>WAL-MAR corp</td>\n",
              "      <td>2019-02-12</td>\n",
              "      <td>2019.0</td>\n",
              "      <td>1.928721e+09</td>\n",
              "      <td>2019-02-01</td>\n",
              "      <td>2019-02-01</td>\n",
              "      <td>2019-02-16</td>\n",
              "      <td>USD</td>\n",
              "      <td>RV</td>\n",
              "      <td>1.0</td>\n",
              "      <td>25260.12</td>\n",
              "      <td>2019-02-01</td>\n",
              "      <td>NAH4</td>\n",
              "      <td>1.928721e+09</td>\n",
              "      <td>0</td>\n",
              "    </tr>\n",
              "    <tr>\n",
              "      <th>4</th>\n",
              "      <td>U001</td>\n",
              "      <td>0200769623</td>\n",
              "      <td>WAL-MAR us</td>\n",
              "      <td>2019-04-23</td>\n",
              "      <td>2019.0</td>\n",
              "      <td>1.929115e+09</td>\n",
              "      <td>2019-04-12</td>\n",
              "      <td>2019-04-12</td>\n",
              "      <td>2019-04-27</td>\n",
              "      <td>USD</td>\n",
              "      <td>RV</td>\n",
              "      <td>1.0</td>\n",
              "      <td>1561.80</td>\n",
              "      <td>2019-04-12</td>\n",
              "      <td>NAH4</td>\n",
              "      <td>1.929115e+09</td>\n",
              "      <td>0</td>\n",
              "    </tr>\n",
              "    <tr>\n",
              "      <th>5</th>\n",
              "      <td>CA02</td>\n",
              "      <td>0140104249</td>\n",
              "      <td>SOB corporation</td>\n",
              "      <td>2020-03-16</td>\n",
              "      <td>2020.0</td>\n",
              "      <td>2.960614e+09</td>\n",
              "      <td>2020-02-18</td>\n",
              "      <td>2020-02-18</td>\n",
              "      <td>2020-03-06</td>\n",
              "      <td>CAD</td>\n",
              "      <td>RV</td>\n",
              "      <td>1.0</td>\n",
              "      <td>3999.67</td>\n",
              "      <td>2020-02-25</td>\n",
              "      <td>CA10</td>\n",
              "      <td>2.960614e+09</td>\n",
              "      <td>0</td>\n",
              "    </tr>\n",
              "    <tr>\n",
              "      <th>6</th>\n",
              "      <td>U001</td>\n",
              "      <td>0200726979</td>\n",
              "      <td>BJ'S</td>\n",
              "      <td>2020-03-04</td>\n",
              "      <td>2020.0</td>\n",
              "      <td>1.930539e+09</td>\n",
              "      <td>2020-02-18</td>\n",
              "      <td>2020-02-18</td>\n",
              "      <td>2020-03-04</td>\n",
              "      <td>USD</td>\n",
              "      <td>RV</td>\n",
              "      <td>1.0</td>\n",
              "      <td>544.62</td>\n",
              "      <td>2020-02-18</td>\n",
              "      <td>NAA8</td>\n",
              "      <td>1.930539e+09</td>\n",
              "      <td>0</td>\n",
              "    </tr>\n",
              "  </tbody>\n",
              "</table>\n",
              "</div>"
            ],
            "text/plain": [
              "  business_code cust_number  ...    invoice_id isOpen\n",
              "0          U001  0200769623  ...  1.929315e+09      0\n",
              "1          U001  0200769623  ...  1.928721e+09      0\n",
              "4          U001  0200769623  ...  1.929115e+09      0\n",
              "5          CA02  0140104249  ...  2.960614e+09      0\n",
              "6          U001  0200726979  ...  1.930539e+09      0\n",
              "\n",
              "[5 rows x 17 columns]"
            ]
          },
          "metadata": {
            "tags": []
          },
          "execution_count": 18
        }
      ]
    },
    {
      "cell_type": "code",
      "metadata": {
        "colab": {
          "base_uri": "https://localhost:8080/"
        },
        "id": "SKGuEqdoD5T_",
        "outputId": "bd964bc8-0768-49bf-f0cf-45e01a0a3571"
      },
      "source": [
        "data.info()"
      ],
      "execution_count": null,
      "outputs": [
        {
          "output_type": "stream",
          "text": [
            "<class 'pandas.core.frame.DataFrame'>\n",
            "Int64Index: 40000 entries, 0 to 49999\n",
            "Data columns (total 17 columns):\n",
            " #   Column                  Non-Null Count  Dtype         \n",
            "---  ------                  --------------  -----         \n",
            " 0   business_code           40000 non-null  object        \n",
            " 1   cust_number             40000 non-null  object        \n",
            " 2   name_customer           40000 non-null  object        \n",
            " 3   clear_date              40000 non-null  datetime64[ns]\n",
            " 4   buisness_year           40000 non-null  float64       \n",
            " 5   doc_id                  40000 non-null  float64       \n",
            " 6   posting_date            40000 non-null  datetime64[ns]\n",
            " 7   document_create_date.1  40000 non-null  datetime64[ns]\n",
            " 8   due_in_date             40000 non-null  datetime64[ns]\n",
            " 9   invoice_currency        40000 non-null  object        \n",
            " 10  document type           40000 non-null  object        \n",
            " 11  posting_id              40000 non-null  float64       \n",
            " 12  total_open_amount       40000 non-null  float64       \n",
            " 13  baseline_create_date    40000 non-null  datetime64[ns]\n",
            " 14  cust_payment_terms      40000 non-null  object        \n",
            " 15  invoice_id              39992 non-null  float64       \n",
            " 16  isOpen                  40000 non-null  int64         \n",
            "dtypes: datetime64[ns](5), float64(5), int64(1), object(6)\n",
            "memory usage: 5.5+ MB\n"
          ],
          "name": "stdout"
        }
      ]
    },
    {
      "cell_type": "markdown",
      "metadata": {
        "id": "Ph7-iPAdZsHI"
      },
      "source": [
        "##### Checking anomalies"
      ]
    },
    {
      "cell_type": "code",
      "metadata": {
        "colab": {
          "base_uri": "https://localhost:8080/"
        },
        "id": "o-4vxRAxD9s-",
        "outputId": "c68b895c-4296-4233-f1c4-fd614613d3cd"
      },
      "source": [
        "data[data['clear_date']<data['baseline_create_date']].shape"
      ],
      "execution_count": null,
      "outputs": [
        {
          "output_type": "execute_result",
          "data": {
            "text/plain": [
              "(9, 17)"
            ]
          },
          "metadata": {
            "tags": []
          },
          "execution_count": 20
        }
      ]
    },
    {
      "cell_type": "code",
      "metadata": {
        "colab": {
          "base_uri": "https://localhost:8080/"
        },
        "id": "7zNfTTHyFTU9",
        "outputId": "f85dbed7-a630-4d08-9ccf-ee77526937f3"
      },
      "source": [
        "data[data['baseline_create_date']>data['due_in_date']].shape"
      ],
      "execution_count": null,
      "outputs": [
        {
          "output_type": "execute_result",
          "data": {
            "text/plain": [
              "(0, 17)"
            ]
          },
          "metadata": {
            "tags": []
          },
          "execution_count": 21
        }
      ]
    },
    {
      "cell_type": "code",
      "metadata": {
        "colab": {
          "base_uri": "https://localhost:8080/"
        },
        "id": "52WkV7VCFWqZ",
        "outputId": "1f231ef1-90c2-4214-b450-8619202a001a"
      },
      "source": [
        "data[data['posting_date']>data['due_in_date']].shape"
      ],
      "execution_count": null,
      "outputs": [
        {
          "output_type": "execute_result",
          "data": {
            "text/plain": [
              "(117, 17)"
            ]
          },
          "metadata": {
            "tags": []
          },
          "execution_count": 22
        }
      ]
    },
    {
      "cell_type": "code",
      "metadata": {
        "colab": {
          "base_uri": "https://localhost:8080/"
        },
        "id": "7M4ILuDWT0Eu",
        "outputId": "caf1b5cf-4ce8-491d-e84d-c25eeaaea33a"
      },
      "source": [
        "data[data['clear_date']<data['due_in_date']].shape "
      ],
      "execution_count": null,
      "outputs": [
        {
          "output_type": "execute_result",
          "data": {
            "text/plain": [
              "(14577, 17)"
            ]
          },
          "metadata": {
            "tags": []
          },
          "execution_count": 23
        }
      ]
    },
    {
      "cell_type": "code",
      "metadata": {
        "id": "O6lw5iX9D91V"
      },
      "source": [
        "data.drop(data[data['posting_date']>data['due_in_date']].index, inplace = True)"
      ],
      "execution_count": null,
      "outputs": []
    },
    {
      "cell_type": "markdown",
      "metadata": {
        "id": "IWBQYgMgZ6AC"
      },
      "source": [
        "##### Creating delay column"
      ]
    },
    {
      "cell_type": "code",
      "metadata": {
        "id": "sFr2Lh1yFjO8"
      },
      "source": [
        "data.drop(data[data['clear_date']<data['baseline_create_date']].index, inplace = True)"
      ],
      "execution_count": null,
      "outputs": []
    },
    {
      "cell_type": "code",
      "metadata": {
        "id": "6eGpAnwWD95l"
      },
      "source": [
        "data['delay'] = (data['clear_date']-data['due_in_date']).dt.days"
      ],
      "execution_count": null,
      "outputs": []
    },
    {
      "cell_type": "code",
      "metadata": {
        "colab": {
          "base_uri": "https://localhost:8080/"
        },
        "id": "gwQcTMhMD-AO",
        "outputId": "ca869b00-58b4-40c9-aec9-82a50801696f"
      },
      "source": [
        "data.shape"
      ],
      "execution_count": null,
      "outputs": [
        {
          "output_type": "execute_result",
          "data": {
            "text/plain": [
              "(39874, 18)"
            ]
          },
          "metadata": {
            "tags": []
          },
          "execution_count": 27
        }
      ]
    },
    {
      "cell_type": "code",
      "metadata": {
        "id": "IFTCpX7oD-Dn"
      },
      "source": [
        "data.sort_values(by='posting_date',inplace = True)"
      ],
      "execution_count": null,
      "outputs": []
    },
    {
      "cell_type": "code",
      "metadata": {
        "colab": {
          "base_uri": "https://localhost:8080/"
        },
        "id": "LnFgl14vD-H0",
        "outputId": "3ec62837-7237-483d-8cb5-e048004cda20"
      },
      "source": [
        "data.nunique()"
      ],
      "execution_count": null,
      "outputs": [
        {
          "output_type": "execute_result",
          "data": {
            "text/plain": [
              "business_code                 6\n",
              "cust_number                1325\n",
              "name_customer              3857\n",
              "clear_date                  399\n",
              "buisness_year                 2\n",
              "doc_id                    38963\n",
              "posting_date                422\n",
              "document_create_date.1      422\n",
              "due_in_date                 488\n",
              "invoice_currency              2\n",
              "document type                 2\n",
              "posting_id                    1\n",
              "total_open_amount         35419\n",
              "baseline_create_date        429\n",
              "cust_payment_terms           68\n",
              "invoice_id                38960\n",
              "isOpen                        1\n",
              "delay                       178\n",
              "dtype: int64"
            ]
          },
          "metadata": {
            "tags": []
          },
          "execution_count": 29
        }
      ]
    },
    {
      "cell_type": "code",
      "metadata": {
        "colab": {
          "base_uri": "https://localhost:8080/"
        },
        "id": "r0ESuY-QJEaC",
        "outputId": "cd93792f-bd41-4e4d-a765-52b605aed9c1"
      },
      "source": [
        "data.isnull().sum()"
      ],
      "execution_count": null,
      "outputs": [
        {
          "output_type": "execute_result",
          "data": {
            "text/plain": [
              "business_code             0\n",
              "cust_number               0\n",
              "name_customer             0\n",
              "clear_date                0\n",
              "buisness_year             0\n",
              "doc_id                    0\n",
              "posting_date              0\n",
              "document_create_date.1    0\n",
              "due_in_date               0\n",
              "invoice_currency          0\n",
              "document type             0\n",
              "posting_id                0\n",
              "total_open_amount         0\n",
              "baseline_create_date      0\n",
              "cust_payment_terms        0\n",
              "invoice_id                3\n",
              "isOpen                    0\n",
              "delay                     0\n",
              "dtype: int64"
            ]
          },
          "metadata": {
            "tags": []
          },
          "execution_count": 30
        }
      ]
    },
    {
      "cell_type": "code",
      "metadata": {
        "id": "fsNI9f1ZD-Qr"
      },
      "source": [
        "data.dropna(subset=['invoice_id'], inplace=True)"
      ],
      "execution_count": null,
      "outputs": []
    },
    {
      "cell_type": "code",
      "metadata": {
        "id": "yqy6vDjKD-Tb"
      },
      "source": [
        "data.drop(columns=['isOpen', 'posting_id','document type'], inplace = True)"
      ],
      "execution_count": null,
      "outputs": []
    },
    {
      "cell_type": "code",
      "metadata": {
        "colab": {
          "base_uri": "https://localhost:8080/"
        },
        "id": "MSbyqdXRKZOa",
        "outputId": "d7f494e1-2dc1-43a4-8007-72f74bd8b493"
      },
      "source": [
        "data.shape"
      ],
      "execution_count": null,
      "outputs": [
        {
          "output_type": "execute_result",
          "data": {
            "text/plain": [
              "(39871, 15)"
            ]
          },
          "metadata": {
            "tags": []
          },
          "execution_count": 33
        }
      ]
    },
    {
      "cell_type": "code",
      "metadata": {
        "colab": {
          "base_uri": "https://localhost:8080/"
        },
        "id": "oBIqqIW_D-W-",
        "outputId": "4ca669c4-f62b-4a9b-9a6f-dc71a3a2e136"
      },
      "source": [
        "data.nunique()"
      ],
      "execution_count": null,
      "outputs": [
        {
          "output_type": "execute_result",
          "data": {
            "text/plain": [
              "business_code                 6\n",
              "cust_number                1325\n",
              "name_customer              3856\n",
              "clear_date                  399\n",
              "buisness_year                 2\n",
              "doc_id                    38960\n",
              "posting_date                422\n",
              "document_create_date.1      422\n",
              "due_in_date                 488\n",
              "invoice_currency              2\n",
              "total_open_amount         35416\n",
              "baseline_create_date        429\n",
              "cust_payment_terms           68\n",
              "invoice_id                38960\n",
              "delay                       177\n",
              "dtype: int64"
            ]
          },
          "metadata": {
            "tags": []
          },
          "execution_count": 34
        }
      ]
    },
    {
      "cell_type": "markdown",
      "metadata": {
        "id": "1mGliRB6aG_c"
      },
      "source": [
        "##### Changing currency and dropping unncessary columns"
      ]
    },
    {
      "cell_type": "code",
      "metadata": {
        "colab": {
          "base_uri": "https://localhost:8080/"
        },
        "id": "KQnfFTxFD-cN",
        "outputId": "7a2c76d7-eef7-4d72-ab9e-c2dc18bf01c7"
      },
      "source": [
        "#cheking types of currencies in data\n",
        "\n",
        "curr_type=pd.unique(data['invoice_currency'])\n",
        "curr_type"
      ],
      "execution_count": null,
      "outputs": [
        {
          "output_type": "execute_result",
          "data": {
            "text/plain": [
              "array(['USD', 'CAD'], dtype=object)"
            ]
          },
          "metadata": {
            "tags": []
          },
          "execution_count": 35
        }
      ]
    },
    {
      "cell_type": "code",
      "metadata": {
        "id": "GgzBLVToK4RD"
      },
      "source": [
        "#converting currency from CAD to USD by multiplying by 0.81\n",
        "\n",
        "data['total_open_amount'] = np.where(data['invoice_currency']==\"CAD\", data['total_open_amount']*0.81, data['total_open_amount'])"
      ],
      "execution_count": null,
      "outputs": []
    },
    {
      "cell_type": "code",
      "metadata": {
        "id": "aMMjJrDpK4UR"
      },
      "source": [
        "#dropping invoice_currency column from data\n",
        "\n",
        "data.drop('invoice_currency',axis=1,inplace=True)"
      ],
      "execution_count": null,
      "outputs": []
    },
    {
      "cell_type": "code",
      "metadata": {
        "colab": {
          "base_uri": "https://localhost:8080/"
        },
        "id": "_PSD-67eK4Wu",
        "outputId": "57baf4ef-11d4-4f93-96e6-f7b3ba2e73fe"
      },
      "source": [
        "data.shape"
      ],
      "execution_count": null,
      "outputs": [
        {
          "output_type": "execute_result",
          "data": {
            "text/plain": [
              "(39871, 14)"
            ]
          },
          "metadata": {
            "tags": []
          },
          "execution_count": 38
        }
      ]
    },
    {
      "cell_type": "code",
      "metadata": {
        "colab": {
          "base_uri": "https://localhost:8080/"
        },
        "id": "DOYt3xFYNbxm",
        "outputId": "4e3b1aab-40bc-4f8c-e892-4f9c5b84843a"
      },
      "source": [
        "data.nunique()"
      ],
      "execution_count": null,
      "outputs": [
        {
          "output_type": "execute_result",
          "data": {
            "text/plain": [
              "business_code                 6\n",
              "cust_number                1325\n",
              "name_customer              3856\n",
              "clear_date                  399\n",
              "buisness_year                 2\n",
              "doc_id                    38960\n",
              "posting_date                422\n",
              "document_create_date.1      422\n",
              "due_in_date                 488\n",
              "total_open_amount         35434\n",
              "baseline_create_date        429\n",
              "cust_payment_terms           68\n",
              "invoice_id                38960\n",
              "delay                       177\n",
              "dtype: int64"
            ]
          },
          "metadata": {
            "tags": []
          },
          "execution_count": 39
        }
      ]
    },
    {
      "cell_type": "code",
      "metadata": {
        "colab": {
          "base_uri": "https://localhost:8080/",
          "height": 257
        },
        "id": "j1-MC5sdMFFD",
        "outputId": "c86cdfc4-00c4-4ce8-fe1a-db355df44d8a"
      },
      "source": [
        "clear_date_null.head()"
      ],
      "execution_count": null,
      "outputs": [
        {
          "output_type": "execute_result",
          "data": {
            "text/html": [
              "<div>\n",
              "<style scoped>\n",
              "    .dataframe tbody tr th:only-of-type {\n",
              "        vertical-align: middle;\n",
              "    }\n",
              "\n",
              "    .dataframe tbody tr th {\n",
              "        vertical-align: top;\n",
              "    }\n",
              "\n",
              "    .dataframe thead th {\n",
              "        text-align: right;\n",
              "    }\n",
              "</style>\n",
              "<table border=\"1\" class=\"dataframe\">\n",
              "  <thead>\n",
              "    <tr style=\"text-align: right;\">\n",
              "      <th></th>\n",
              "      <th>business_code</th>\n",
              "      <th>cust_number</th>\n",
              "      <th>name_customer</th>\n",
              "      <th>clear_date</th>\n",
              "      <th>buisness_year</th>\n",
              "      <th>doc_id</th>\n",
              "      <th>posting_date</th>\n",
              "      <th>document_create_date</th>\n",
              "      <th>document_create_date.1</th>\n",
              "      <th>due_in_date</th>\n",
              "      <th>invoice_currency</th>\n",
              "      <th>document type</th>\n",
              "      <th>posting_id</th>\n",
              "      <th>area_business</th>\n",
              "      <th>total_open_amount</th>\n",
              "      <th>baseline_create_date</th>\n",
              "      <th>cust_payment_terms</th>\n",
              "      <th>invoice_id</th>\n",
              "      <th>isOpen</th>\n",
              "    </tr>\n",
              "  </thead>\n",
              "  <tbody>\n",
              "    <tr>\n",
              "      <th>2</th>\n",
              "      <td>U001</td>\n",
              "      <td>0200744019</td>\n",
              "      <td>TARG llc</td>\n",
              "      <td>NaN</td>\n",
              "      <td>2020.0</td>\n",
              "      <td>1.930708e+09</td>\n",
              "      <td>2020-03-27</td>\n",
              "      <td>20200326</td>\n",
              "      <td>20200327</td>\n",
              "      <td>20200411.0</td>\n",
              "      <td>USD</td>\n",
              "      <td>RV</td>\n",
              "      <td>1.0</td>\n",
              "      <td>NaN</td>\n",
              "      <td>7664.54</td>\n",
              "      <td>20200327.0</td>\n",
              "      <td>NAA8</td>\n",
              "      <td>1.930708e+09</td>\n",
              "      <td>1</td>\n",
              "    </tr>\n",
              "    <tr>\n",
              "      <th>3</th>\n",
              "      <td>U001</td>\n",
              "      <td>0200705089</td>\n",
              "      <td>JETR llc</td>\n",
              "      <td>NaN</td>\n",
              "      <td>2020.0</td>\n",
              "      <td>1.930788e+09</td>\n",
              "      <td>2020-04-15</td>\n",
              "      <td>20200415</td>\n",
              "      <td>20200415</td>\n",
              "      <td>20200430.0</td>\n",
              "      <td>USD</td>\n",
              "      <td>RV</td>\n",
              "      <td>1.0</td>\n",
              "      <td>NaN</td>\n",
              "      <td>19509.74</td>\n",
              "      <td>20200415.0</td>\n",
              "      <td>NAA8</td>\n",
              "      <td>1.930788e+09</td>\n",
              "      <td>1</td>\n",
              "    </tr>\n",
              "    <tr>\n",
              "      <th>7</th>\n",
              "      <td>U001</td>\n",
              "      <td>0200793513</td>\n",
              "      <td>KROGER associates</td>\n",
              "      <td>NaN</td>\n",
              "      <td>2020.0</td>\n",
              "      <td>1.930779e+09</td>\n",
              "      <td>2020-04-12</td>\n",
              "      <td>20200412</td>\n",
              "      <td>20200412</td>\n",
              "      <td>20200427.0</td>\n",
              "      <td>USD</td>\n",
              "      <td>RV</td>\n",
              "      <td>1.0</td>\n",
              "      <td>NaN</td>\n",
              "      <td>28910.14</td>\n",
              "      <td>20200412.0</td>\n",
              "      <td>NAA8</td>\n",
              "      <td>1.930779e+09</td>\n",
              "      <td>1</td>\n",
              "    </tr>\n",
              "    <tr>\n",
              "      <th>10</th>\n",
              "      <td>U001</td>\n",
              "      <td>0200020431</td>\n",
              "      <td>DEC systems</td>\n",
              "      <td>NaN</td>\n",
              "      <td>2020.0</td>\n",
              "      <td>1.930600e+09</td>\n",
              "      <td>2020-03-04</td>\n",
              "      <td>20200304</td>\n",
              "      <td>20200304</td>\n",
              "      <td>20200308.0</td>\n",
              "      <td>USD</td>\n",
              "      <td>RV</td>\n",
              "      <td>1.0</td>\n",
              "      <td>NaN</td>\n",
              "      <td>4408.13</td>\n",
              "      <td>20200301.0</td>\n",
              "      <td>NAM1</td>\n",
              "      <td>1.930600e+09</td>\n",
              "      <td>1</td>\n",
              "    </tr>\n",
              "    <tr>\n",
              "      <th>16</th>\n",
              "      <td>U001</td>\n",
              "      <td>0200769623</td>\n",
              "      <td>WAL-MAR us</td>\n",
              "      <td>NaN</td>\n",
              "      <td>2020.0</td>\n",
              "      <td>1.930714e+09</td>\n",
              "      <td>2020-03-28</td>\n",
              "      <td>20200328</td>\n",
              "      <td>20200328</td>\n",
              "      <td>20200412.0</td>\n",
              "      <td>USD</td>\n",
              "      <td>RV</td>\n",
              "      <td>1.0</td>\n",
              "      <td>NaN</td>\n",
              "      <td>13155.10</td>\n",
              "      <td>20200328.0</td>\n",
              "      <td>NAH4</td>\n",
              "      <td>1.930714e+09</td>\n",
              "      <td>1</td>\n",
              "    </tr>\n",
              "  </tbody>\n",
              "</table>\n",
              "</div>"
            ],
            "text/plain": [
              "   business_code cust_number  ...    invoice_id isOpen\n",
              "2           U001  0200744019  ...  1.930708e+09      1\n",
              "3           U001  0200705089  ...  1.930788e+09      1\n",
              "7           U001  0200793513  ...  1.930779e+09      1\n",
              "10          U001  0200020431  ...  1.930600e+09      1\n",
              "16          U001  0200769623  ...  1.930714e+09      1\n",
              "\n",
              "[5 rows x 19 columns]"
            ]
          },
          "metadata": {
            "tags": []
          },
          "execution_count": 40
        }
      ]
    },
    {
      "cell_type": "markdown",
      "metadata": {
        "id": "GrRK_xPLaSQq"
      },
      "source": [
        "##### Changing date time format in clear_date_null"
      ]
    },
    {
      "cell_type": "code",
      "metadata": {
        "id": "Yt1WvEcdK4Z7"
      },
      "source": [
        "clear_date_null['due_in_date'] = pd.to_datetime(clear_date_null['due_in_date'], format='%Y%m%d')\n",
        "clear_date_null['baseline_create_date'] = pd.to_datetime(clear_date_null['baseline_create_date'], format='%Y%m%d')\n",
        "clear_date_null['clear_date'] = pd.to_datetime(clear_date_null['clear_date'])\n",
        "clear_date_null['posting_date'] = pd.to_datetime(clear_date_null['posting_date'])\n",
        "clear_date_null['document_create_date.1'] = pd.to_datetime(clear_date_null['document_create_date.1'], format='%Y%m%d')"
      ],
      "execution_count": null,
      "outputs": []
    },
    {
      "cell_type": "code",
      "metadata": {
        "id": "-LkaKD1ZK4dI"
      },
      "source": [
        "clear_date_null.drop(['document_create_date'], axis=1, inplace=True)"
      ],
      "execution_count": null,
      "outputs": []
    },
    {
      "cell_type": "code",
      "metadata": {
        "id": "jh3-eXCIMUts"
      },
      "source": [
        "clear_date_null.drop(['area_business'], axis=1, inplace=True)\n",
        "clear_date_null.drop(['clear_date'], axis=1, inplace=True)"
      ],
      "execution_count": null,
      "outputs": []
    },
    {
      "cell_type": "code",
      "metadata": {
        "colab": {
          "base_uri": "https://localhost:8080/"
        },
        "id": "Opls1ORKK4fk",
        "outputId": "15ef7c68-c83a-4606-acb3-4e5c75b60508"
      },
      "source": [
        "clear_date_null.isnull().sum()"
      ],
      "execution_count": null,
      "outputs": [
        {
          "output_type": "execute_result",
          "data": {
            "text/plain": [
              "business_code             0\n",
              "cust_number               0\n",
              "name_customer             0\n",
              "buisness_year             0\n",
              "doc_id                    0\n",
              "posting_date              0\n",
              "document_create_date.1    0\n",
              "due_in_date               0\n",
              "invoice_currency          0\n",
              "document type             0\n",
              "posting_id                0\n",
              "total_open_amount         0\n",
              "baseline_create_date      0\n",
              "cust_payment_terms        0\n",
              "invoice_id                0\n",
              "isOpen                    0\n",
              "dtype: int64"
            ]
          },
          "metadata": {
            "tags": []
          },
          "execution_count": 44
        }
      ]
    },
    {
      "cell_type": "markdown",
      "metadata": {
        "id": "WCh_DnGuOrxS"
      },
      "source": [
        "## **DETECTING OUTLIERS**"
      ]
    },
    {
      "cell_type": "code",
      "metadata": {
        "colab": {
          "base_uri": "https://localhost:8080/",
          "height": 295
        },
        "id": "q3oWE3krK4iI",
        "outputId": "b7684961-0cd3-4342-dfd2-588e51cebe30"
      },
      "source": [
        "data.describe()"
      ],
      "execution_count": null,
      "outputs": [
        {
          "output_type": "execute_result",
          "data": {
            "text/html": [
              "<div>\n",
              "<style scoped>\n",
              "    .dataframe tbody tr th:only-of-type {\n",
              "        vertical-align: middle;\n",
              "    }\n",
              "\n",
              "    .dataframe tbody tr th {\n",
              "        vertical-align: top;\n",
              "    }\n",
              "\n",
              "    .dataframe thead th {\n",
              "        text-align: right;\n",
              "    }\n",
              "</style>\n",
              "<table border=\"1\" class=\"dataframe\">\n",
              "  <thead>\n",
              "    <tr style=\"text-align: right;\">\n",
              "      <th></th>\n",
              "      <th>buisness_year</th>\n",
              "      <th>doc_id</th>\n",
              "      <th>total_open_amount</th>\n",
              "      <th>invoice_id</th>\n",
              "      <th>delay</th>\n",
              "    </tr>\n",
              "  </thead>\n",
              "  <tbody>\n",
              "    <tr>\n",
              "      <th>count</th>\n",
              "      <td>39871.000000</td>\n",
              "      <td>3.987100e+04</td>\n",
              "      <td>39871.000000</td>\n",
              "      <td>3.987100e+04</td>\n",
              "      <td>39871.000000</td>\n",
              "    </tr>\n",
              "    <tr>\n",
              "      <th>mean</th>\n",
              "      <td>2019.132628</td>\n",
              "      <td>2.012964e+09</td>\n",
              "      <td>31422.039159</td>\n",
              "      <td>2.012964e+09</td>\n",
              "      <td>0.904316</td>\n",
              "    </tr>\n",
              "    <tr>\n",
              "      <th>std</th>\n",
              "      <td>0.339176</td>\n",
              "      <td>2.792781e+08</td>\n",
              "      <td>37856.754065</td>\n",
              "      <td>2.792781e+08</td>\n",
              "      <td>10.879865</td>\n",
              "    </tr>\n",
              "    <tr>\n",
              "      <th>min</th>\n",
              "      <td>2019.000000</td>\n",
              "      <td>1.928513e+09</td>\n",
              "      <td>2.760000</td>\n",
              "      <td>1.928513e+09</td>\n",
              "      <td>-90.000000</td>\n",
              "    </tr>\n",
              "    <tr>\n",
              "      <th>25%</th>\n",
              "      <td>2019.000000</td>\n",
              "      <td>1.929185e+09</td>\n",
              "      <td>4561.610000</td>\n",
              "      <td>1.929185e+09</td>\n",
              "      <td>-3.000000</td>\n",
              "    </tr>\n",
              "    <tr>\n",
              "      <th>50%</th>\n",
              "      <td>2019.000000</td>\n",
              "      <td>1.929736e+09</td>\n",
              "      <td>17026.560000</td>\n",
              "      <td>1.929736e+09</td>\n",
              "      <td>0.000000</td>\n",
              "    </tr>\n",
              "    <tr>\n",
              "      <th>75%</th>\n",
              "      <td>2019.000000</td>\n",
              "      <td>1.930212e+09</td>\n",
              "      <td>46291.305000</td>\n",
              "      <td>1.930212e+09</td>\n",
              "      <td>2.000000</td>\n",
              "    </tr>\n",
              "    <tr>\n",
              "      <th>max</th>\n",
              "      <td>2020.000000</td>\n",
              "      <td>2.960617e+09</td>\n",
              "      <td>816385.810000</td>\n",
              "      <td>2.960617e+09</td>\n",
              "      <td>300.000000</td>\n",
              "    </tr>\n",
              "  </tbody>\n",
              "</table>\n",
              "</div>"
            ],
            "text/plain": [
              "       buisness_year        doc_id  ...    invoice_id         delay\n",
              "count   39871.000000  3.987100e+04  ...  3.987100e+04  39871.000000\n",
              "mean     2019.132628  2.012964e+09  ...  2.012964e+09      0.904316\n",
              "std         0.339176  2.792781e+08  ...  2.792781e+08     10.879865\n",
              "min      2019.000000  1.928513e+09  ...  1.928513e+09    -90.000000\n",
              "25%      2019.000000  1.929185e+09  ...  1.929185e+09     -3.000000\n",
              "50%      2019.000000  1.929736e+09  ...  1.929736e+09      0.000000\n",
              "75%      2019.000000  1.930212e+09  ...  1.930212e+09      2.000000\n",
              "max      2020.000000  2.960617e+09  ...  2.960617e+09    300.000000\n",
              "\n",
              "[8 rows x 5 columns]"
            ]
          },
          "metadata": {
            "tags": []
          },
          "execution_count": 45
        }
      ]
    },
    {
      "cell_type": "code",
      "metadata": {
        "colab": {
          "base_uri": "https://localhost:8080/",
          "height": 296
        },
        "id": "uzRZl0PxyzDl",
        "outputId": "eaa88de3-8417-44c4-f9e6-63eb4c3fd822"
      },
      "source": [
        "import seaborn as sns\n",
        "import matplotlib.pyplot as plt\n",
        "sns.boxplot(x=data['delay'])\n",
        "plt.ylabel(\"density\")"
      ],
      "execution_count": null,
      "outputs": [
        {
          "output_type": "execute_result",
          "data": {
            "text/plain": [
              "Text(0, 0.5, 'density')"
            ]
          },
          "metadata": {
            "tags": []
          },
          "execution_count": 46
        },
        {
          "output_type": "display_data",
          "data": {
            "image/png": "[encoded data removed]",
            "text/plain": [
              "<Figure size 432x288 with 1 Axes>"
            ]
          },
          "metadata": {
            "tags": [],
            "needs_background": "light"
          }
        }
      ]
    },
    {
      "cell_type": "code",
      "metadata": {
        "colab": {
          "base_uri": "https://localhost:8080/",
          "height": 350
        },
        "id": "LVADoPNZT97Q",
        "outputId": "19b51753-43eb-4f3e-efae-9345390bc618"
      },
      "source": [
        "# distribution of the target column \n",
        "# right skewed distribution\n",
        "# outliers present but not that significant , hence  \n",
        "sns.distplot(data['delay'])"
      ],
      "execution_count": null,
      "outputs": [
        {
          "output_type": "stream",
          "text": [
            "/usr/local/lib/python3.7/dist-packages/seaborn/distributions.py:2557: FutureWarning: `distplot` is a deprecated function and will be removed in a future version. Please adapt your code to use either `displot` (a figure-level function with similar flexibility) or `histplot` (an axes-level function for histograms).\n",
            "  warnings.warn(msg, FutureWarning)\n"
          ],
          "name": "stderr"
        },
        {
          "output_type": "execute_result",
          "data": {
            "text/plain": [
              "<matplotlib.axes._subplots.AxesSubplot at 0x7f68504a0990>"
            ]
          },
          "metadata": {
            "tags": []
          },
          "execution_count": 47
        },
        {
          "output_type": "display_data",
          "data": {
            "image/png": "[encoded data removed]",
            "text/plain": [
              "<Figure size 432x288 with 1 Axes>"
            ]
          },
          "metadata": {
            "tags": [],
            "needs_background": "light"
          }
        }
      ]
    },
    {
      "cell_type": "code",
      "metadata": {
        "colab": {
          "base_uri": "https://localhost:8080/"
        },
        "id": "WZKqy9VFUylL",
        "outputId": "45334055-de06-4919-9aca-0f0e37ff338f"
      },
      "source": [
        "# Many hit and trials later, we were able to find the Q3 value to successfully point out the outliers\n",
        "Q1 = np.percentile(data['delay'], 1.7 )  \n",
        "Q2 = np.percentile(data['delay'], 50)  \n",
        "Q3 = np.percentile(data['delay'], 99.3)\n",
        "\n",
        "print('Q1 1.1 percentile of the given data is, ', Q1) \n",
        "print('Q2 50 percentile of the given data is, ', Q2) \n",
        "print('Q3 99.4 percentile of the given data is, ', Q3)"
      ],
      "execution_count": null,
      "outputs": [
        {
          "output_type": "stream",
          "text": [
            "Q1 1.1 percentile of the given data is,  -12.0\n",
            "Q2 50 percentile of the given data is,  0.0\n",
            "Q3 99.4 percentile of the given data is,  56.0\n"
          ],
          "name": "stdout"
        }
      ]
    },
    {
      "cell_type": "code",
      "metadata": {
        "colab": {
          "base_uri": "https://localhost:8080/"
        },
        "id": "-DijhsS9UytN",
        "outputId": "3554a142-7add-459f-f480-1d1b60d83139"
      },
      "source": [
        "IQR = Q3 - Q1  \n",
        "print('Interquartile range is', IQR)"
      ],
      "execution_count": null,
      "outputs": [
        {
          "output_type": "stream",
          "text": [
            "Interquartile range is 68.0\n"
          ],
          "name": "stdout"
        }
      ]
    },
    {
      "cell_type": "code",
      "metadata": {
        "colab": {
          "base_uri": "https://localhost:8080/"
        },
        "id": "woQJhcHfUywe",
        "outputId": "5119b3cc-bde1-4998-f114-8fc1e8c8dd1b"
      },
      "source": [
        "low_lim = Q1 - 1.5 * IQR \n",
        "up_lim = Q3 + 1.5 * IQR \n",
        "print('low_limit is', low_lim) \n",
        "print('up_limit is', up_lim)"
      ],
      "execution_count": null,
      "outputs": [
        {
          "output_type": "stream",
          "text": [
            "low_limit is -114.0\n",
            "up_limit is 158.0\n"
          ],
          "name": "stdout"
        }
      ]
    },
    {
      "cell_type": "code",
      "metadata": {
        "colab": {
          "base_uri": "https://localhost:8080/"
        },
        "id": "6xzeji4WUyze",
        "outputId": "10aa7512-333c-4e2e-bd33-5ea5676d99a2"
      },
      "source": [
        "outlier =[] \n",
        "for x in data['delay']: \n",
        "    if ((x> up_lim) or (x<low_lim)): \n",
        "         outlier.append(x) \n",
        "print(' outlier in the dataset is', outlier)"
      ],
      "execution_count": null,
      "outputs": [
        {
          "output_type": "stream",
          "text": [
            " outlier in the dataset is [300, 258, 174, 166, 161, 159, 159, 159]\n"
          ],
          "name": "stdout"
        }
      ]
    },
    {
      "cell_type": "code",
      "metadata": {
        "id": "fdbIcTWBUy3e"
      },
      "source": [
        "# remove outliers in delay \n",
        "data.drop(data[data['delay']>up_lim].index,index=None,inplace=True)"
      ],
      "execution_count": null,
      "outputs": []
    },
    {
      "cell_type": "code",
      "metadata": {
        "colab": {
          "base_uri": "https://localhost:8080/"
        },
        "id": "iPbtyu2_WAls",
        "outputId": "5c6f1162-2ea0-4d0f-88fe-484514bdc620"
      },
      "source": [
        "data.shape"
      ],
      "execution_count": null,
      "outputs": [
        {
          "output_type": "execute_result",
          "data": {
            "text/plain": [
              "(39863, 14)"
            ]
          },
          "metadata": {
            "tags": []
          },
          "execution_count": 53
        }
      ]
    },
    {
      "cell_type": "code",
      "metadata": {
        "colab": {
          "base_uri": "https://localhost:8080/",
          "height": 296
        },
        "id": "d4iUPGGcWCw4",
        "outputId": "b78eb1ba-3274-4c7e-8a40-0d632841d661"
      },
      "source": [
        "sns.boxplot(x=data['delay'])"
      ],
      "execution_count": null,
      "outputs": [
        {
          "output_type": "execute_result",
          "data": {
            "text/plain": [
              "<matplotlib.axes._subplots.AxesSubplot at 0x7f6844ea42d0>"
            ]
          },
          "metadata": {
            "tags": []
          },
          "execution_count": 54
        },
        {
          "output_type": "display_data",
          "data": {
            "image/png": "[encoded data removed]",
            "text/plain": [
              "<Figure size 432x288 with 1 Axes>"
            ]
          },
          "metadata": {
            "tags": [],
            "needs_background": "light"
          }
        }
      ]
    },
    {
      "cell_type": "markdown",
      "metadata": {
        "id": "OeXIbnmqZmda"
      },
      "source": [
        "## **Train Test and Validation Split**"
      ]
    },
    {
      "cell_type": "code",
      "metadata": {
        "id": "tcIMN5sBZn2U"
      },
      "source": [
        "# splitting the dataset of 40,000 rows into training, testing and Validation sets\n",
        "\n",
        "from sklearn.model_selection import train_test_split\n",
        "x_train,x_test,y_train,y_test = train_test_split(data.drop(['clear_date','delay'],axis=1),data['delay'],test_size=0.2,shuffle=False)\n",
        "x_train,x_val,y_train,y_val = train_test_split(x_train,y_train,test_size=0.25,shuffle=False) # 0.25 x 0.8 = 0.2"
      ],
      "execution_count": null,
      "outputs": []
    },
    {
      "cell_type": "code",
      "metadata": {
        "colab": {
          "base_uri": "https://localhost:8080/"
        },
        "id": "8FwW_9woZ0k-",
        "outputId": "81ce0391-f5be-4e1d-8ea1-8a86945cfac8"
      },
      "source": [
        "x_train.shape , x_test.shape, x_val.shape"
      ],
      "execution_count": null,
      "outputs": [
        {
          "output_type": "execute_result",
          "data": {
            "text/plain": [
              "((23917, 12), (7973, 12), (7973, 12))"
            ]
          },
          "metadata": {
            "tags": []
          },
          "execution_count": 56
        }
      ]
    },
    {
      "cell_type": "code",
      "metadata": {
        "colab": {
          "base_uri": "https://localhost:8080/"
        },
        "id": "wCh78VIYZ0oP",
        "outputId": "5913528b-969d-4665-840c-93222b580540"
      },
      "source": [
        "y_train.shape , y_test.shape, y_val.shape"
      ],
      "execution_count": null,
      "outputs": [
        {
          "output_type": "execute_result",
          "data": {
            "text/plain": [
              "((23917,), (7973,), (7973,))"
            ]
          },
          "metadata": {
            "tags": []
          },
          "execution_count": 57
        }
      ]
    },
    {
      "cell_type": "markdown",
      "metadata": {
        "id": "Swk0nAYdaTSp"
      },
      "source": [
        "## **EDA**"
      ]
    },
    {
      "cell_type": "code",
      "metadata": {
        "colab": {
          "base_uri": "https://localhost:8080/",
          "height": 295
        },
        "id": "QfR2OuBDaYAi",
        "outputId": "6f891031-5d71-446e-b8d3-6e1c29b0182a"
      },
      "source": [
        "x_train.describe()"
      ],
      "execution_count": null,
      "outputs": [
        {
          "output_type": "execute_result",
          "data": {
            "text/html": [
              "<div>\n",
              "<style scoped>\n",
              "    .dataframe tbody tr th:only-of-type {\n",
              "        vertical-align: middle;\n",
              "    }\n",
              "\n",
              "    .dataframe tbody tr th {\n",
              "        vertical-align: top;\n",
              "    }\n",
              "\n",
              "    .dataframe thead th {\n",
              "        text-align: right;\n",
              "    }\n",
              "</style>\n",
              "<table border=\"1\" class=\"dataframe\">\n",
              "  <thead>\n",
              "    <tr style=\"text-align: right;\">\n",
              "      <th></th>\n",
              "      <th>buisness_year</th>\n",
              "      <th>doc_id</th>\n",
              "      <th>total_open_amount</th>\n",
              "      <th>invoice_id</th>\n",
              "    </tr>\n",
              "  </thead>\n",
              "  <tbody>\n",
              "    <tr>\n",
              "      <th>count</th>\n",
              "      <td>23917.0</td>\n",
              "      <td>2.391700e+04</td>\n",
              "      <td>23917.000000</td>\n",
              "      <td>2.391700e+04</td>\n",
              "    </tr>\n",
              "    <tr>\n",
              "      <th>mean</th>\n",
              "      <td>2019.0</td>\n",
              "      <td>2.013732e+09</td>\n",
              "      <td>31005.332722</td>\n",
              "      <td>2.013732e+09</td>\n",
              "    </tr>\n",
              "    <tr>\n",
              "      <th>std</th>\n",
              "      <td>0.0</td>\n",
              "      <td>2.808874e+08</td>\n",
              "      <td>37966.663772</td>\n",
              "      <td>2.808874e+08</td>\n",
              "    </tr>\n",
              "    <tr>\n",
              "      <th>min</th>\n",
              "      <td>2019.0</td>\n",
              "      <td>1.928513e+09</td>\n",
              "      <td>2.760000</td>\n",
              "      <td>1.928513e+09</td>\n",
              "    </tr>\n",
              "    <tr>\n",
              "      <th>25%</th>\n",
              "      <td>2019.0</td>\n",
              "      <td>1.928940e+09</td>\n",
              "      <td>4344.550000</td>\n",
              "      <td>1.928940e+09</td>\n",
              "    </tr>\n",
              "    <tr>\n",
              "      <th>50%</th>\n",
              "      <td>2019.0</td>\n",
              "      <td>1.929318e+09</td>\n",
              "      <td>16708.610000</td>\n",
              "      <td>1.929318e+09</td>\n",
              "    </tr>\n",
              "    <tr>\n",
              "      <th>75%</th>\n",
              "      <td>2019.0</td>\n",
              "      <td>1.929645e+09</td>\n",
              "      <td>45556.160000</td>\n",
              "      <td>1.929645e+09</td>\n",
              "    </tr>\n",
              "    <tr>\n",
              "      <th>max</th>\n",
              "      <td>2019.0</td>\n",
              "      <td>2.960577e+09</td>\n",
              "      <td>816385.810000</td>\n",
              "      <td>2.960577e+09</td>\n",
              "    </tr>\n",
              "  </tbody>\n",
              "</table>\n",
              "</div>"
            ],
            "text/plain": [
              "       buisness_year        doc_id  total_open_amount    invoice_id\n",
              "count        23917.0  2.391700e+04       23917.000000  2.391700e+04\n",
              "mean          2019.0  2.013732e+09       31005.332722  2.013732e+09\n",
              "std              0.0  2.808874e+08       37966.663772  2.808874e+08\n",
              "min           2019.0  1.928513e+09           2.760000  1.928513e+09\n",
              "25%           2019.0  1.928940e+09        4344.550000  1.928940e+09\n",
              "50%           2019.0  1.929318e+09       16708.610000  1.929318e+09\n",
              "75%           2019.0  1.929645e+09       45556.160000  1.929645e+09\n",
              "max           2019.0  2.960577e+09      816385.810000  2.960577e+09"
            ]
          },
          "metadata": {
            "tags": []
          },
          "execution_count": 58
        }
      ]
    },
    {
      "cell_type": "code",
      "metadata": {
        "colab": {
          "base_uri": "https://localhost:8080/",
          "height": 257
        },
        "id": "ITodgXl5aYDh",
        "outputId": "cc934baa-6b35-48bd-cd07-81173f9df80b"
      },
      "source": [
        "x_train.head()"
      ],
      "execution_count": null,
      "outputs": [
        {
          "output_type": "execute_result",
          "data": {
            "text/html": [
              "<div>\n",
              "<style scoped>\n",
              "    .dataframe tbody tr th:only-of-type {\n",
              "        vertical-align: middle;\n",
              "    }\n",
              "\n",
              "    .dataframe tbody tr th {\n",
              "        vertical-align: top;\n",
              "    }\n",
              "\n",
              "    .dataframe thead th {\n",
              "        text-align: right;\n",
              "    }\n",
              "</style>\n",
              "<table border=\"1\" class=\"dataframe\">\n",
              "  <thead>\n",
              "    <tr style=\"text-align: right;\">\n",
              "      <th></th>\n",
              "      <th>business_code</th>\n",
              "      <th>cust_number</th>\n",
              "      <th>name_customer</th>\n",
              "      <th>buisness_year</th>\n",
              "      <th>doc_id</th>\n",
              "      <th>posting_date</th>\n",
              "      <th>document_create_date.1</th>\n",
              "      <th>due_in_date</th>\n",
              "      <th>total_open_amount</th>\n",
              "      <th>baseline_create_date</th>\n",
              "      <th>cust_payment_terms</th>\n",
              "      <th>invoice_id</th>\n",
              "    </tr>\n",
              "  </thead>\n",
              "  <tbody>\n",
              "    <tr>\n",
              "      <th>37760</th>\n",
              "      <td>U001</td>\n",
              "      <td>0200769623</td>\n",
              "      <td>WAL-MAR in</td>\n",
              "      <td>2019.0</td>\n",
              "      <td>1.928540e+09</td>\n",
              "      <td>2018-12-30</td>\n",
              "      <td>2018-12-30</td>\n",
              "      <td>2019-01-14</td>\n",
              "      <td>33810.3200</td>\n",
              "      <td>2018-12-30</td>\n",
              "      <td>NAH4</td>\n",
              "      <td>1.928540e+09</td>\n",
              "    </tr>\n",
              "    <tr>\n",
              "      <th>41256</th>\n",
              "      <td>U001</td>\n",
              "      <td>0200769623</td>\n",
              "      <td>WAL-MAR corp</td>\n",
              "      <td>2019.0</td>\n",
              "      <td>1.928539e+09</td>\n",
              "      <td>2018-12-30</td>\n",
              "      <td>2018-12-30</td>\n",
              "      <td>2019-01-14</td>\n",
              "      <td>51583.1600</td>\n",
              "      <td>2018-12-30</td>\n",
              "      <td>NAH4</td>\n",
              "      <td>1.928539e+09</td>\n",
              "    </tr>\n",
              "    <tr>\n",
              "      <th>18049</th>\n",
              "      <td>U001</td>\n",
              "      <td>0200769623</td>\n",
              "      <td>WAL-MAR us</td>\n",
              "      <td>2019.0</td>\n",
              "      <td>1.928541e+09</td>\n",
              "      <td>2018-12-30</td>\n",
              "      <td>2018-12-30</td>\n",
              "      <td>2019-01-14</td>\n",
              "      <td>57924.5500</td>\n",
              "      <td>2018-12-30</td>\n",
              "      <td>NAH4</td>\n",
              "      <td>1.928541e+09</td>\n",
              "    </tr>\n",
              "    <tr>\n",
              "      <th>41599</th>\n",
              "      <td>U001</td>\n",
              "      <td>0200769623</td>\n",
              "      <td>WAL-MAR systems</td>\n",
              "      <td>2019.0</td>\n",
              "      <td>1.928531e+09</td>\n",
              "      <td>2018-12-30</td>\n",
              "      <td>2018-12-30</td>\n",
              "      <td>2019-01-14</td>\n",
              "      <td>1839.5300</td>\n",
              "      <td>2018-12-30</td>\n",
              "      <td>NAH4</td>\n",
              "      <td>1.928531e+09</td>\n",
              "    </tr>\n",
              "    <tr>\n",
              "      <th>15023</th>\n",
              "      <td>CA02</td>\n",
              "      <td>0140106408</td>\n",
              "      <td>WAL-M systems</td>\n",
              "      <td>2019.0</td>\n",
              "      <td>2.960520e+09</td>\n",
              "      <td>2018-12-30</td>\n",
              "      <td>2018-12-30</td>\n",
              "      <td>2019-01-09</td>\n",
              "      <td>57166.5357</td>\n",
              "      <td>2018-12-30</td>\n",
              "      <td>CA10</td>\n",
              "      <td>2.960520e+09</td>\n",
              "    </tr>\n",
              "  </tbody>\n",
              "</table>\n",
              "</div>"
            ],
            "text/plain": [
              "      business_code cust_number  ... cust_payment_terms    invoice_id\n",
              "37760          U001  0200769623  ...               NAH4  1.928540e+09\n",
              "41256          U001  0200769623  ...               NAH4  1.928539e+09\n",
              "18049          U001  0200769623  ...               NAH4  1.928541e+09\n",
              "41599          U001  0200769623  ...               NAH4  1.928531e+09\n",
              "15023          CA02  0140106408  ...               CA10  2.960520e+09\n",
              "\n",
              "[5 rows x 12 columns]"
            ]
          },
          "metadata": {
            "tags": []
          },
          "execution_count": 59
        }
      ]
    },
    {
      "cell_type": "code",
      "metadata": {
        "colab": {
          "base_uri": "https://localhost:8080/",
          "height": 1000
        },
        "id": "rZOzWxD_aYKU",
        "outputId": "ad6cdb76-d39f-4bd9-a510-f5e14c458ad8"
      },
      "source": [
        "plt.figure(figsize=(10,20))\n",
        "sns.scatterplot(x_train['document_create_date.1'],y_train)"
      ],
      "execution_count": null,
      "outputs": [
        {
          "output_type": "stream",
          "text": [
            "/usr/local/lib/python3.7/dist-packages/seaborn/_decorators.py:43: FutureWarning: Pass the following variables as keyword args: x, y. From version 0.12, the only valid positional argument will be `data`, and passing other arguments without an explicit keyword will result in an error or misinterpretation.\n",
            "  FutureWarning\n"
          ],
          "name": "stderr"
        },
        {
          "output_type": "execute_result",
          "data": {
            "text/plain": [
              "<matplotlib.axes._subplots.AxesSubplot at 0x7f68436a0d90>"
            ]
          },
          "metadata": {
            "tags": []
          },
          "execution_count": 60
        },
        {
          "output_type": "display_data",
          "data": {
            "image/png": "[encoded data removed]",
            "text/plain": [
              "<Figure size 720x1440 with 1 Axes>"
            ]
          },
          "metadata": {
            "tags": [],
            "needs_background": "light"
          }
        }
      ]
    },
    {
      "cell_type": "markdown",
      "metadata": {
        "id": "xPyM_FGqUZ0E"
      },
      "source": [
        "### Creating mean_delay columns"
      ]
    },
    {
      "cell_type": "code",
      "metadata": {
        "id": "B1lEJ9ZsSmSQ"
      },
      "source": [
        "x_train['delay']=pd.DataFrame(y_train,x_train.index)\n",
        "map_cust_num=x_train.groupby(\"cust_number\")['delay'].mean().to_dict()\n",
        "\n",
        "x_train['mean_delay']=x_train['cust_number'].map(map_cust_num)"
      ],
      "execution_count": null,
      "outputs": []
    },
    {
      "cell_type": "code",
      "metadata": {
        "colab": {
          "base_uri": "https://localhost:8080/"
        },
        "id": "cu8XmARCSmI3",
        "outputId": "46f61d87-3778-4033-e337-d957c73f5248"
      },
      "source": [
        "x_val['mean_delay']=x_val['cust_number'].map(map_cust_num)\n",
        "x_val['mean_delay'][x_val['mean_delay'].isnull()]= x_train['delay'].mean()\n",
        "\n",
        "x_test['mean_delay']=x_test['cust_number'].map(map_cust_num)\n",
        "x_test['mean_delay'][x_test['mean_delay'].isnull()]= x_train['delay'].mean()"
      ],
      "execution_count": null,
      "outputs": [
        {
          "output_type": "stream",
          "text": [
            "/usr/local/lib/python3.7/dist-packages/ipykernel_launcher.py:2: SettingWithCopyWarning: \n",
            "A value is trying to be set on a copy of a slice from a DataFrame\n",
            "\n",
            "See the caveats in the documentation: https://pandas.pydata.org/pandas-docs/stable/user_guide/indexing.html#returning-a-view-versus-a-copy\n",
            "  \n",
            "/usr/local/lib/python3.7/dist-packages/ipykernel_launcher.py:5: SettingWithCopyWarning: \n",
            "A value is trying to be set on a copy of a slice from a DataFrame\n",
            "\n",
            "See the caveats in the documentation: https://pandas.pydata.org/pandas-docs/stable/user_guide/indexing.html#returning-a-view-versus-a-copy\n",
            "  \"\"\"\n"
          ],
          "name": "stderr"
        }
      ]
    },
    {
      "cell_type": "code",
      "metadata": {
        "colab": {
          "base_uri": "https://localhost:8080/"
        },
        "id": "fdLaaJUNUi4U",
        "outputId": "2780c3aa-c89e-4819-ed43-ed49e938a8d2"
      },
      "source": [
        "clear_date_null['mean_delay']=clear_date_null['cust_number'].map(map_cust_num)\n",
        "clear_date_null['mean_delay'][clear_date_null['mean_delay'].isnull()]= x_train['delay'].mean()"
      ],
      "execution_count": null,
      "outputs": [
        {
          "output_type": "stream",
          "text": [
            "/usr/local/lib/python3.7/dist-packages/ipykernel_launcher.py:2: SettingWithCopyWarning: \n",
            "A value is trying to be set on a copy of a slice from a DataFrame\n",
            "\n",
            "See the caveats in the documentation: https://pandas.pydata.org/pandas-docs/stable/user_guide/indexing.html#returning-a-view-versus-a-copy\n",
            "  \n"
          ],
          "name": "stderr"
        }
      ]
    },
    {
      "cell_type": "code",
      "metadata": {
        "colab": {
          "base_uri": "https://localhost:8080/"
        },
        "id": "wAgF6t1OUKUc",
        "outputId": "cbae1203-8c12-4e1e-affd-7b0bf47ca35b"
      },
      "source": [
        "x_train['delay'].mean()"
      ],
      "execution_count": null,
      "outputs": [
        {
          "output_type": "execute_result",
          "data": {
            "text/plain": [
              "1.1038591796630013"
            ]
          },
          "metadata": {
            "tags": []
          },
          "execution_count": 64
        }
      ]
    },
    {
      "cell_type": "code",
      "metadata": {
        "colab": {
          "base_uri": "https://localhost:8080/",
          "height": 257
        },
        "id": "FPtI4qmqUwyP",
        "outputId": "0d865765-2cd6-401a-b03c-718f0db6da42"
      },
      "source": [
        "x_train.head()"
      ],
      "execution_count": null,
      "outputs": [
        {
          "output_type": "execute_result",
          "data": {
            "text/html": [
              "<div>\n",
              "<style scoped>\n",
              "    .dataframe tbody tr th:only-of-type {\n",
              "        vertical-align: middle;\n",
              "    }\n",
              "\n",
              "    .dataframe tbody tr th {\n",
              "        vertical-align: top;\n",
              "    }\n",
              "\n",
              "    .dataframe thead th {\n",
              "        text-align: right;\n",
              "    }\n",
              "</style>\n",
              "<table border=\"1\" class=\"dataframe\">\n",
              "  <thead>\n",
              "    <tr style=\"text-align: right;\">\n",
              "      <th></th>\n",
              "      <th>business_code</th>\n",
              "      <th>cust_number</th>\n",
              "      <th>name_customer</th>\n",
              "      <th>buisness_year</th>\n",
              "      <th>doc_id</th>\n",
              "      <th>posting_date</th>\n",
              "      <th>document_create_date.1</th>\n",
              "      <th>due_in_date</th>\n",
              "      <th>total_open_amount</th>\n",
              "      <th>baseline_create_date</th>\n",
              "      <th>cust_payment_terms</th>\n",
              "      <th>invoice_id</th>\n",
              "      <th>delay</th>\n",
              "      <th>mean_delay</th>\n",
              "    </tr>\n",
              "  </thead>\n",
              "  <tbody>\n",
              "    <tr>\n",
              "      <th>37760</th>\n",
              "      <td>U001</td>\n",
              "      <td>0200769623</td>\n",
              "      <td>WAL-MAR in</td>\n",
              "      <td>2019.0</td>\n",
              "      <td>1.928540e+09</td>\n",
              "      <td>2018-12-30</td>\n",
              "      <td>2018-12-30</td>\n",
              "      <td>2019-01-14</td>\n",
              "      <td>33810.3200</td>\n",
              "      <td>2018-12-30</td>\n",
              "      <td>NAH4</td>\n",
              "      <td>1.928540e+09</td>\n",
              "      <td>-5</td>\n",
              "      <td>-1.893127</td>\n",
              "    </tr>\n",
              "    <tr>\n",
              "      <th>41256</th>\n",
              "      <td>U001</td>\n",
              "      <td>0200769623</td>\n",
              "      <td>WAL-MAR corp</td>\n",
              "      <td>2019.0</td>\n",
              "      <td>1.928539e+09</td>\n",
              "      <td>2018-12-30</td>\n",
              "      <td>2018-12-30</td>\n",
              "      <td>2019-01-14</td>\n",
              "      <td>51583.1600</td>\n",
              "      <td>2018-12-30</td>\n",
              "      <td>NAH4</td>\n",
              "      <td>1.928539e+09</td>\n",
              "      <td>-5</td>\n",
              "      <td>-1.893127</td>\n",
              "    </tr>\n",
              "    <tr>\n",
              "      <th>18049</th>\n",
              "      <td>U001</td>\n",
              "      <td>0200769623</td>\n",
              "      <td>WAL-MAR us</td>\n",
              "      <td>2019.0</td>\n",
              "      <td>1.928541e+09</td>\n",
              "      <td>2018-12-30</td>\n",
              "      <td>2018-12-30</td>\n",
              "      <td>2019-01-14</td>\n",
              "      <td>57924.5500</td>\n",
              "      <td>2018-12-30</td>\n",
              "      <td>NAH4</td>\n",
              "      <td>1.928541e+09</td>\n",
              "      <td>-4</td>\n",
              "      <td>-1.893127</td>\n",
              "    </tr>\n",
              "    <tr>\n",
              "      <th>41599</th>\n",
              "      <td>U001</td>\n",
              "      <td>0200769623</td>\n",
              "      <td>WAL-MAR systems</td>\n",
              "      <td>2019.0</td>\n",
              "      <td>1.928531e+09</td>\n",
              "      <td>2018-12-30</td>\n",
              "      <td>2018-12-30</td>\n",
              "      <td>2019-01-14</td>\n",
              "      <td>1839.5300</td>\n",
              "      <td>2018-12-30</td>\n",
              "      <td>NAH4</td>\n",
              "      <td>1.928531e+09</td>\n",
              "      <td>1</td>\n",
              "      <td>-1.893127</td>\n",
              "    </tr>\n",
              "    <tr>\n",
              "      <th>15023</th>\n",
              "      <td>CA02</td>\n",
              "      <td>0140106408</td>\n",
              "      <td>WAL-M systems</td>\n",
              "      <td>2019.0</td>\n",
              "      <td>2.960520e+09</td>\n",
              "      <td>2018-12-30</td>\n",
              "      <td>2018-12-30</td>\n",
              "      <td>2019-01-09</td>\n",
              "      <td>57166.5357</td>\n",
              "      <td>2018-12-30</td>\n",
              "      <td>CA10</td>\n",
              "      <td>2.960520e+09</td>\n",
              "      <td>16</td>\n",
              "      <td>9.420168</td>\n",
              "    </tr>\n",
              "  </tbody>\n",
              "</table>\n",
              "</div>"
            ],
            "text/plain": [
              "      business_code cust_number  ... delay  mean_delay\n",
              "37760          U001  0200769623  ...    -5   -1.893127\n",
              "41256          U001  0200769623  ...    -5   -1.893127\n",
              "18049          U001  0200769623  ...    -4   -1.893127\n",
              "41599          U001  0200769623  ...     1   -1.893127\n",
              "15023          CA02  0140106408  ...    16    9.420168\n",
              "\n",
              "[5 rows x 14 columns]"
            ]
          },
          "metadata": {
            "tags": []
          },
          "execution_count": 65
        }
      ]
    },
    {
      "cell_type": "code",
      "metadata": {
        "colab": {
          "base_uri": "https://localhost:8080/",
          "height": 279
        },
        "id": "W1xI5lHjaYNN",
        "outputId": "1e601734-e37e-4397-85f1-cc8b80c0ed8e"
      },
      "source": [
        "plt.scatter(x_train['business_code'] , y_train, color='red')\n",
        "plt.xlabel('Business Code')\n",
        "plt.ylabel('Delay')\n",
        "plt.show()"
      ],
      "execution_count": null,
      "outputs": [
        {
          "output_type": "display_data",
          "data": {
            "image/png": "[encoded data removed]",
            "text/plain": [
              "<Figure size 432x288 with 1 Axes>"
            ]
          },
          "metadata": {
            "tags": [],
            "needs_background": "light"
          }
        }
      ]
    },
    {
      "cell_type": "code",
      "metadata": {
        "colab": {
          "base_uri": "https://localhost:8080/",
          "height": 334
        },
        "id": "UXsWWiV8aYP8",
        "outputId": "c757183f-8158-4fa9-ebb6-c61f04c0542c"
      },
      "source": [
        "plt.figure(figsize=(10, 4))\n",
        "sns.countplot(x_train['business_code'], order = x_train['business_code'].value_counts().index);"
      ],
      "execution_count": null,
      "outputs": [
        {
          "output_type": "stream",
          "text": [
            "/usr/local/lib/python3.7/dist-packages/seaborn/_decorators.py:43: FutureWarning: Pass the following variable as a keyword arg: x. From version 0.12, the only valid positional argument will be `data`, and passing other arguments without an explicit keyword will result in an error or misinterpretation.\n",
            "  FutureWarning\n"
          ],
          "name": "stderr"
        },
        {
          "output_type": "display_data",
          "data": {
            "image/png": "[encoded data removed]",
            "text/plain": [
              "<Figure size 720x288 with 1 Axes>"
            ]
          },
          "metadata": {
            "tags": [],
            "needs_background": "light"
          }
        }
      ]
    },
    {
      "cell_type": "code",
      "metadata": {
        "colab": {
          "base_uri": "https://localhost:8080/",
          "height": 350
        },
        "id": "d787X69CuLGV",
        "outputId": "b91aae26-5338-43be-e939-eceb57413e46"
      },
      "source": [
        "sns.distplot(y_train)"
      ],
      "execution_count": null,
      "outputs": [
        {
          "output_type": "stream",
          "text": [
            "/usr/local/lib/python3.7/dist-packages/seaborn/distributions.py:2557: FutureWarning: `distplot` is a deprecated function and will be removed in a future version. Please adapt your code to use either `displot` (a figure-level function with similar flexibility) or `histplot` (an axes-level function for histograms).\n",
            "  warnings.warn(msg, FutureWarning)\n"
          ],
          "name": "stderr"
        },
        {
          "output_type": "execute_result",
          "data": {
            "text/plain": [
              "<matplotlib.axes._subplots.AxesSubplot at 0x7f6841a96150>"
            ]
          },
          "metadata": {
            "tags": []
          },
          "execution_count": 68
        },
        {
          "output_type": "display_data",
          "data": {
            "image/png": "[encoded data removed]",
            "text/plain": [
              "<Figure size 432x288 with 1 Axes>"
            ]
          },
          "metadata": {
            "tags": [],
            "needs_background": "light"
          }
        }
      ]
    },
    {
      "cell_type": "code",
      "metadata": {
        "colab": {
          "base_uri": "https://localhost:8080/",
          "height": 313
        },
        "id": "7slzQbcauTq8",
        "outputId": "20462229-f338-42d2-cdef-ad11e49e1444"
      },
      "source": [
        "plt.title(\"due day vs delay\".format(x_train['total_open_amount'],y_train))\n",
        "sns.scatterplot(x=x_train['total_open_amount'],y=y_train)"
      ],
      "execution_count": null,
      "outputs": [
        {
          "output_type": "execute_result",
          "data": {
            "text/plain": [
              "<matplotlib.axes._subplots.AxesSubplot at 0x7f6841ad0410>"
            ]
          },
          "metadata": {
            "tags": []
          },
          "execution_count": 69
        },
        {
          "output_type": "display_data",
          "data": {
            "image/png": "[encoded data removed]",
            "text/plain": [
              "<Figure size 432x288 with 1 Axes>"
            ]
          },
          "metadata": {
            "tags": [],
            "needs_background": "light"
          }
        }
      ]
    },
    {
      "cell_type": "code",
      "metadata": {
        "colab": {
          "base_uri": "https://localhost:8080/",
          "height": 740
        },
        "id": "daUT8CKfuccI",
        "outputId": "1f64ded7-3dc6-483a-848d-a30560e5eccd"
      },
      "source": [
        "colormap=plt.cm.RdBu\n",
        "plt.figure(figsize=(14,12))\n",
        "plt.title(\"Pearson Correlation of Features\",y=1.05,size=15)\n",
        "sns.heatmap(x_train.merge(y_train,on=x_train.index).corr(),vmax=1.0,square=True,cmap=colormap,linecolor='white',annot=True)"
      ],
      "execution_count": null,
      "outputs": [
        {
          "output_type": "execute_result",
          "data": {
            "text/plain": [
              "<matplotlib.axes._subplots.AxesSubplot at 0x7f6841984590>"
            ]
          },
          "metadata": {
            "tags": []
          },
          "execution_count": 70
        },
        {
          "output_type": "display_data",
          "data": {
            "image/png": "[encoded data removed]",
            "text/plain": [
              "<Figure size 1008x864 with 2 Axes>"
            ]
          },
          "metadata": {
            "tags": [],
            "needs_background": "light"
          }
        }
      ]
    },
    {
      "cell_type": "markdown",
      "metadata": {
        "id": "qrDP7GltwHlR"
      },
      "source": [
        "**We can see that correlation between invoice id and doc id is 1 so we can drop either of them**"
      ]
    },
    {
      "cell_type": "markdown",
      "metadata": {
        "id": "thpRy54ZwVoH"
      },
      "source": [
        "## **Feature Enigneering**"
      ]
    },
    {
      "cell_type": "markdown",
      "metadata": {
        "id": "fyipXjzGxY7s"
      },
      "source": [
        "### We can make features from due date"
      ]
    },
    {
      "cell_type": "code",
      "metadata": {
        "colab": {
          "base_uri": "https://localhost:8080/"
        },
        "id": "bIryxeDIwRYE",
        "outputId": "47843283-237c-4c8f-8490-84d2931e9a8b"
      },
      "source": [
        "x_train['due_dt_week']=pd.to_datetime(x_train['due_in_date']).dt.week\n",
        "x_train['due_dt_mon']=pd.to_datetime(x_train['due_in_date']).dt.month\n",
        "x_train['due_dt_day_of_week']=pd.to_datetime(x_train['due_in_date']).dt.dayofweek"
      ],
      "execution_count": null,
      "outputs": [
        {
          "output_type": "stream",
          "text": [
            "/usr/local/lib/python3.7/dist-packages/ipykernel_launcher.py:1: FutureWarning: Series.dt.weekofyear and Series.dt.week have been deprecated.  Please use Series.dt.isocalendar().week instead.\n",
            "  \"\"\"Entry point for launching an IPython kernel.\n"
          ],
          "name": "stderr"
        }
      ]
    },
    {
      "cell_type": "code",
      "metadata": {
        "id": "ZpkFq6xDxQGQ"
      },
      "source": [
        "x_train['due_dt_day']=pd.to_datetime(x_train['due_in_date']).dt.day"
      ],
      "execution_count": null,
      "outputs": []
    },
    {
      "cell_type": "markdown",
      "metadata": {
        "id": "153XlqAXxcpT"
      },
      "source": [
        "### Some changes in test set and validation set, separating day of week, week and month to keep everything in int"
      ]
    },
    {
      "cell_type": "code",
      "metadata": {
        "colab": {
          "base_uri": "https://localhost:8080/"
        },
        "id": "dipDmkufxTdZ",
        "outputId": "a0fd52f3-462b-4073-b271-4f76ea9bc492"
      },
      "source": [
        "x_test['due_dt_week']=pd.to_datetime(x_test['due_in_date']).dt.week\n",
        "x_test['due_dt_mon']=pd.to_datetime(x_test['due_in_date']).dt.month\n",
        "x_test['due_dt_day_of_week']=pd.to_datetime(x_test['due_in_date']).dt.dayofweek"
      ],
      "execution_count": null,
      "outputs": [
        {
          "output_type": "stream",
          "text": [
            "/usr/local/lib/python3.7/dist-packages/ipykernel_launcher.py:1: FutureWarning: Series.dt.weekofyear and Series.dt.week have been deprecated.  Please use Series.dt.isocalendar().week instead.\n",
            "  \"\"\"Entry point for launching an IPython kernel.\n"
          ],
          "name": "stderr"
        }
      ]
    },
    {
      "cell_type": "code",
      "metadata": {
        "colab": {
          "base_uri": "https://localhost:8080/"
        },
        "id": "-4UbUGvEzRXD",
        "outputId": "747a2f2e-d16a-4acb-eca4-c9be7d1c25cd"
      },
      "source": [
        "# same feature building for test set\n",
        "x_val['due_dt_week']=pd.to_datetime(x_val['due_in_date']).dt.week\n",
        "x_val['due_dt_mon']=pd.to_datetime(x_val['due_in_date']).dt.month\n",
        "x_val['due_dt_day_of_week']=pd.to_datetime(x_val['due_in_date']).dt.dayofweek"
      ],
      "execution_count": null,
      "outputs": [
        {
          "output_type": "stream",
          "text": [
            "/usr/local/lib/python3.7/dist-packages/ipykernel_launcher.py:2: FutureWarning: Series.dt.weekofyear and Series.dt.week have been deprecated.  Please use Series.dt.isocalendar().week instead.\n",
            "  \n"
          ],
          "name": "stderr"
        }
      ]
    },
    {
      "cell_type": "code",
      "metadata": {
        "colab": {
          "base_uri": "https://localhost:8080/",
          "height": 257
        },
        "id": "utMvIcyUzdtv",
        "outputId": "d9c16d44-05a8-4eec-9b09-45d68c098bfb"
      },
      "source": [
        "x_train.head()"
      ],
      "execution_count": null,
      "outputs": [
        {
          "output_type": "execute_result",
          "data": {
            "text/html": [
              "<div>\n",
              "<style scoped>\n",
              "    .dataframe tbody tr th:only-of-type {\n",
              "        vertical-align: middle;\n",
              "    }\n",
              "\n",
              "    .dataframe tbody tr th {\n",
              "        vertical-align: top;\n",
              "    }\n",
              "\n",
              "    .dataframe thead th {\n",
              "        text-align: right;\n",
              "    }\n",
              "</style>\n",
              "<table border=\"1\" class=\"dataframe\">\n",
              "  <thead>\n",
              "    <tr style=\"text-align: right;\">\n",
              "      <th></th>\n",
              "      <th>business_code</th>\n",
              "      <th>cust_number</th>\n",
              "      <th>name_customer</th>\n",
              "      <th>buisness_year</th>\n",
              "      <th>doc_id</th>\n",
              "      <th>posting_date</th>\n",
              "      <th>document_create_date.1</th>\n",
              "      <th>due_in_date</th>\n",
              "      <th>total_open_amount</th>\n",
              "      <th>baseline_create_date</th>\n",
              "      <th>cust_payment_terms</th>\n",
              "      <th>invoice_id</th>\n",
              "      <th>delay</th>\n",
              "      <th>mean_delay</th>\n",
              "      <th>due_dt_week</th>\n",
              "      <th>due_dt_mon</th>\n",
              "      <th>due_dt_day_of_week</th>\n",
              "      <th>due_dt_day</th>\n",
              "    </tr>\n",
              "  </thead>\n",
              "  <tbody>\n",
              "    <tr>\n",
              "      <th>37760</th>\n",
              "      <td>U001</td>\n",
              "      <td>0200769623</td>\n",
              "      <td>WAL-MAR in</td>\n",
              "      <td>2019.0</td>\n",
              "      <td>1.928540e+09</td>\n",
              "      <td>2018-12-30</td>\n",
              "      <td>2018-12-30</td>\n",
              "      <td>2019-01-14</td>\n",
              "      <td>33810.3200</td>\n",
              "      <td>2018-12-30</td>\n",
              "      <td>NAH4</td>\n",
              "      <td>1.928540e+09</td>\n",
              "      <td>-5</td>\n",
              "      <td>-1.893127</td>\n",
              "      <td>3</td>\n",
              "      <td>1</td>\n",
              "      <td>0</td>\n",
              "      <td>14</td>\n",
              "    </tr>\n",
              "    <tr>\n",
              "      <th>41256</th>\n",
              "      <td>U001</td>\n",
              "      <td>0200769623</td>\n",
              "      <td>WAL-MAR corp</td>\n",
              "      <td>2019.0</td>\n",
              "      <td>1.928539e+09</td>\n",
              "      <td>2018-12-30</td>\n",
              "      <td>2018-12-30</td>\n",
              "      <td>2019-01-14</td>\n",
              "      <td>51583.1600</td>\n",
              "      <td>2018-12-30</td>\n",
              "      <td>NAH4</td>\n",
              "      <td>1.928539e+09</td>\n",
              "      <td>-5</td>\n",
              "      <td>-1.893127</td>\n",
              "      <td>3</td>\n",
              "      <td>1</td>\n",
              "      <td>0</td>\n",
              "      <td>14</td>\n",
              "    </tr>\n",
              "    <tr>\n",
              "      <th>18049</th>\n",
              "      <td>U001</td>\n",
              "      <td>0200769623</td>\n",
              "      <td>WAL-MAR us</td>\n",
              "      <td>2019.0</td>\n",
              "      <td>1.928541e+09</td>\n",
              "      <td>2018-12-30</td>\n",
              "      <td>2018-12-30</td>\n",
              "      <td>2019-01-14</td>\n",
              "      <td>57924.5500</td>\n",
              "      <td>2018-12-30</td>\n",
              "      <td>NAH4</td>\n",
              "      <td>1.928541e+09</td>\n",
              "      <td>-4</td>\n",
              "      <td>-1.893127</td>\n",
              "      <td>3</td>\n",
              "      <td>1</td>\n",
              "      <td>0</td>\n",
              "      <td>14</td>\n",
              "    </tr>\n",
              "    <tr>\n",
              "      <th>41599</th>\n",
              "      <td>U001</td>\n",
              "      <td>0200769623</td>\n",
              "      <td>WAL-MAR systems</td>\n",
              "      <td>2019.0</td>\n",
              "      <td>1.928531e+09</td>\n",
              "      <td>2018-12-30</td>\n",
              "      <td>2018-12-30</td>\n",
              "      <td>2019-01-14</td>\n",
              "      <td>1839.5300</td>\n",
              "      <td>2018-12-30</td>\n",
              "      <td>NAH4</td>\n",
              "      <td>1.928531e+09</td>\n",
              "      <td>1</td>\n",
              "      <td>-1.893127</td>\n",
              "      <td>3</td>\n",
              "      <td>1</td>\n",
              "      <td>0</td>\n",
              "      <td>14</td>\n",
              "    </tr>\n",
              "    <tr>\n",
              "      <th>15023</th>\n",
              "      <td>CA02</td>\n",
              "      <td>0140106408</td>\n",
              "      <td>WAL-M systems</td>\n",
              "      <td>2019.0</td>\n",
              "      <td>2.960520e+09</td>\n",
              "      <td>2018-12-30</td>\n",
              "      <td>2018-12-30</td>\n",
              "      <td>2019-01-09</td>\n",
              "      <td>57166.5357</td>\n",
              "      <td>2018-12-30</td>\n",
              "      <td>CA10</td>\n",
              "      <td>2.960520e+09</td>\n",
              "      <td>16</td>\n",
              "      <td>9.420168</td>\n",
              "      <td>2</td>\n",
              "      <td>1</td>\n",
              "      <td>2</td>\n",
              "      <td>9</td>\n",
              "    </tr>\n",
              "  </tbody>\n",
              "</table>\n",
              "</div>"
            ],
            "text/plain": [
              "      business_code cust_number  ... due_dt_day_of_week  due_dt_day\n",
              "37760          U001  0200769623  ...                  0          14\n",
              "41256          U001  0200769623  ...                  0          14\n",
              "18049          U001  0200769623  ...                  0          14\n",
              "41599          U001  0200769623  ...                  0          14\n",
              "15023          CA02  0140106408  ...                  2           9\n",
              "\n",
              "[5 rows x 18 columns]"
            ]
          },
          "metadata": {
            "tags": []
          },
          "execution_count": 75
        }
      ]
    },
    {
      "cell_type": "code",
      "metadata": {
        "colab": {
          "base_uri": "https://localhost:8080/"
        },
        "id": "XKK8qF6MzVpY",
        "outputId": "07ec0a7e-bb41-4158-9bd2-dc5918286407"
      },
      "source": [
        "clear_date_null['due_dt_week']=pd.to_datetime(clear_date_null['due_in_date']).dt.week\n",
        "clear_date_null['due_dt_mon']=pd.to_datetime(clear_date_null['due_in_date']).dt.month\n",
        "clear_date_null['due_dt_day_of_week']=pd.to_datetime(clear_date_null['due_in_date']).dt.dayofweek"
      ],
      "execution_count": null,
      "outputs": [
        {
          "output_type": "stream",
          "text": [
            "/usr/local/lib/python3.7/dist-packages/ipykernel_launcher.py:1: FutureWarning: Series.dt.weekofyear and Series.dt.week have been deprecated.  Please use Series.dt.isocalendar().week instead.\n",
            "  \"\"\"Entry point for launching an IPython kernel.\n"
          ],
          "name": "stderr"
        }
      ]
    },
    {
      "cell_type": "code",
      "metadata": {
        "colab": {
          "base_uri": "https://localhost:8080/",
          "height": 257
        },
        "id": "4b1yDefrzgDP",
        "outputId": "fcbab7c1-d438-41c2-abe5-12b4cbc26374"
      },
      "source": [
        "clear_date_null.head()"
      ],
      "execution_count": null,
      "outputs": [
        {
          "output_type": "execute_result",
          "data": {
            "text/html": [
              "<div>\n",
              "<style scoped>\n",
              "    .dataframe tbody tr th:only-of-type {\n",
              "        vertical-align: middle;\n",
              "    }\n",
              "\n",
              "    .dataframe tbody tr th {\n",
              "        vertical-align: top;\n",
              "    }\n",
              "\n",
              "    .dataframe thead th {\n",
              "        text-align: right;\n",
              "    }\n",
              "</style>\n",
              "<table border=\"1\" class=\"dataframe\">\n",
              "  <thead>\n",
              "    <tr style=\"text-align: right;\">\n",
              "      <th></th>\n",
              "      <th>business_code</th>\n",
              "      <th>cust_number</th>\n",
              "      <th>name_customer</th>\n",
              "      <th>buisness_year</th>\n",
              "      <th>doc_id</th>\n",
              "      <th>posting_date</th>\n",
              "      <th>document_create_date.1</th>\n",
              "      <th>due_in_date</th>\n",
              "      <th>invoice_currency</th>\n",
              "      <th>document type</th>\n",
              "      <th>posting_id</th>\n",
              "      <th>total_open_amount</th>\n",
              "      <th>baseline_create_date</th>\n",
              "      <th>cust_payment_terms</th>\n",
              "      <th>invoice_id</th>\n",
              "      <th>isOpen</th>\n",
              "      <th>mean_delay</th>\n",
              "      <th>due_dt_week</th>\n",
              "      <th>due_dt_mon</th>\n",
              "      <th>due_dt_day_of_week</th>\n",
              "    </tr>\n",
              "  </thead>\n",
              "  <tbody>\n",
              "    <tr>\n",
              "      <th>2</th>\n",
              "      <td>U001</td>\n",
              "      <td>0200744019</td>\n",
              "      <td>TARG llc</td>\n",
              "      <td>2020.0</td>\n",
              "      <td>1.930708e+09</td>\n",
              "      <td>2020-03-27</td>\n",
              "      <td>2020-03-27</td>\n",
              "      <td>2020-04-11</td>\n",
              "      <td>USD</td>\n",
              "      <td>RV</td>\n",
              "      <td>1.0</td>\n",
              "      <td>7664.54</td>\n",
              "      <td>2020-03-27</td>\n",
              "      <td>NAA8</td>\n",
              "      <td>1.930708e+09</td>\n",
              "      <td>1</td>\n",
              "      <td>3.863309</td>\n",
              "      <td>15</td>\n",
              "      <td>4</td>\n",
              "      <td>5</td>\n",
              "    </tr>\n",
              "    <tr>\n",
              "      <th>3</th>\n",
              "      <td>U001</td>\n",
              "      <td>0200705089</td>\n",
              "      <td>JETR llc</td>\n",
              "      <td>2020.0</td>\n",
              "      <td>1.930788e+09</td>\n",
              "      <td>2020-04-15</td>\n",
              "      <td>2020-04-15</td>\n",
              "      <td>2020-04-30</td>\n",
              "      <td>USD</td>\n",
              "      <td>RV</td>\n",
              "      <td>1.0</td>\n",
              "      <td>19509.74</td>\n",
              "      <td>2020-04-15</td>\n",
              "      <td>NAA8</td>\n",
              "      <td>1.930788e+09</td>\n",
              "      <td>1</td>\n",
              "      <td>1.348837</td>\n",
              "      <td>18</td>\n",
              "      <td>4</td>\n",
              "      <td>3</td>\n",
              "    </tr>\n",
              "    <tr>\n",
              "      <th>7</th>\n",
              "      <td>U001</td>\n",
              "      <td>0200793513</td>\n",
              "      <td>KROGER associates</td>\n",
              "      <td>2020.0</td>\n",
              "      <td>1.930779e+09</td>\n",
              "      <td>2020-04-12</td>\n",
              "      <td>2020-04-12</td>\n",
              "      <td>2020-04-27</td>\n",
              "      <td>USD</td>\n",
              "      <td>RV</td>\n",
              "      <td>1.0</td>\n",
              "      <td>28910.14</td>\n",
              "      <td>2020-04-12</td>\n",
              "      <td>NAA8</td>\n",
              "      <td>1.930779e+09</td>\n",
              "      <td>1</td>\n",
              "      <td>0.795918</td>\n",
              "      <td>18</td>\n",
              "      <td>4</td>\n",
              "      <td>0</td>\n",
              "    </tr>\n",
              "    <tr>\n",
              "      <th>10</th>\n",
              "      <td>U001</td>\n",
              "      <td>0200020431</td>\n",
              "      <td>DEC systems</td>\n",
              "      <td>2020.0</td>\n",
              "      <td>1.930600e+09</td>\n",
              "      <td>2020-03-04</td>\n",
              "      <td>2020-03-04</td>\n",
              "      <td>2020-03-08</td>\n",
              "      <td>USD</td>\n",
              "      <td>RV</td>\n",
              "      <td>1.0</td>\n",
              "      <td>4408.13</td>\n",
              "      <td>2020-03-01</td>\n",
              "      <td>NAM1</td>\n",
              "      <td>1.930600e+09</td>\n",
              "      <td>1</td>\n",
              "      <td>-5.042857</td>\n",
              "      <td>10</td>\n",
              "      <td>3</td>\n",
              "      <td>6</td>\n",
              "    </tr>\n",
              "    <tr>\n",
              "      <th>16</th>\n",
              "      <td>U001</td>\n",
              "      <td>0200769623</td>\n",
              "      <td>WAL-MAR us</td>\n",
              "      <td>2020.0</td>\n",
              "      <td>1.930714e+09</td>\n",
              "      <td>2020-03-28</td>\n",
              "      <td>2020-03-28</td>\n",
              "      <td>2020-04-12</td>\n",
              "      <td>USD</td>\n",
              "      <td>RV</td>\n",
              "      <td>1.0</td>\n",
              "      <td>13155.10</td>\n",
              "      <td>2020-03-28</td>\n",
              "      <td>NAH4</td>\n",
              "      <td>1.930714e+09</td>\n",
              "      <td>1</td>\n",
              "      <td>-1.893127</td>\n",
              "      <td>15</td>\n",
              "      <td>4</td>\n",
              "      <td>6</td>\n",
              "    </tr>\n",
              "  </tbody>\n",
              "</table>\n",
              "</div>"
            ],
            "text/plain": [
              "   business_code cust_number  ... due_dt_mon  due_dt_day_of_week\n",
              "2           U001  0200744019  ...          4                   5\n",
              "3           U001  0200705089  ...          4                   3\n",
              "7           U001  0200793513  ...          4                   0\n",
              "10          U001  0200020431  ...          3                   6\n",
              "16          U001  0200769623  ...          4                   6\n",
              "\n",
              "[5 rows x 20 columns]"
            ]
          },
          "metadata": {
            "tags": []
          },
          "execution_count": 77
        }
      ]
    },
    {
      "cell_type": "code",
      "metadata": {
        "colab": {
          "base_uri": "https://localhost:8080/",
          "height": 422
        },
        "id": "r6LilUo9znxb",
        "outputId": "4e0b7ea1-2042-438e-b31f-7dcc4cbaedeb"
      },
      "source": [
        "plt.figure(figsize=(15,5))\n",
        "sns.lineplot(x_train['due_dt_day_of_week'],y_train,color='blue')\n",
        "plt.title('due weekday vs delay')"
      ],
      "execution_count": null,
      "outputs": [
        {
          "output_type": "stream",
          "text": [
            "/usr/local/lib/python3.7/dist-packages/seaborn/_decorators.py:43: FutureWarning: Pass the following variables as keyword args: x, y. From version 0.12, the only valid positional argument will be `data`, and passing other arguments without an explicit keyword will result in an error or misinterpretation.\n",
            "  FutureWarning\n"
          ],
          "name": "stderr"
        },
        {
          "output_type": "execute_result",
          "data": {
            "text/plain": [
              "Text(0.5, 1.0, 'due weekday vs delay')"
            ]
          },
          "metadata": {
            "tags": []
          },
          "execution_count": 78
        },
        {
          "output_type": "display_data",
          "data": {
            "image/png": "[encoded data removed]",
            "text/plain": [
              "<Figure size 1080x360 with 1 Axes>"
            ]
          },
          "metadata": {
            "tags": [],
            "needs_background": "light"
          }
        }
      ]
    },
    {
      "cell_type": "code",
      "metadata": {
        "colab": {
          "base_uri": "https://localhost:8080/",
          "height": 406
        },
        "id": "mKMJGZi2zstA",
        "outputId": "0db6b2f1-bd03-470d-c351-8f435679a339"
      },
      "source": [
        "plt.figure(figsize=(15,5))\n",
        "sns.lineplot(x_train['due_dt_week'],y_train,color='yellow')"
      ],
      "execution_count": null,
      "outputs": [
        {
          "output_type": "stream",
          "text": [
            "/usr/local/lib/python3.7/dist-packages/seaborn/_decorators.py:43: FutureWarning: Pass the following variables as keyword args: x, y. From version 0.12, the only valid positional argument will be `data`, and passing other arguments without an explicit keyword will result in an error or misinterpretation.\n",
            "  FutureWarning\n"
          ],
          "name": "stderr"
        },
        {
          "output_type": "execute_result",
          "data": {
            "text/plain": [
              "<matplotlib.axes._subplots.AxesSubplot at 0x7f6841afdcd0>"
            ]
          },
          "metadata": {
            "tags": []
          },
          "execution_count": 79
        },
        {
          "output_type": "display_data",
          "data": {
            "image/png": "[encoded data removed]",
            "text/plain": [
              "<Figure size 1080x360 with 1 Axes>"
            ]
          },
          "metadata": {
            "tags": [],
            "needs_background": "light"
          }
        }
      ]
    },
    {
      "cell_type": "code",
      "metadata": {
        "colab": {
          "base_uri": "https://localhost:8080/",
          "height": 514
        },
        "id": "w01kG_1E0Bb-",
        "outputId": "d660d0ad-8430-47e0-d9a6-a768e0bca56a"
      },
      "source": [
        "plt.figure(figsize=(15,7))\n",
        "sns.lineplot(x_train['due_dt_day'],y_train,data=x_train,color='orange')"
      ],
      "execution_count": null,
      "outputs": [
        {
          "output_type": "stream",
          "text": [
            "/usr/local/lib/python3.7/dist-packages/seaborn/_decorators.py:43: FutureWarning: Pass the following variables as keyword args: x, y. From version 0.12, the only valid positional argument will be `data`, and passing other arguments without an explicit keyword will result in an error or misinterpretation.\n",
            "  FutureWarning\n"
          ],
          "name": "stderr"
        },
        {
          "output_type": "execute_result",
          "data": {
            "text/plain": [
              "<matplotlib.axes._subplots.AxesSubplot at 0x7f68433cf5d0>"
            ]
          },
          "metadata": {
            "tags": []
          },
          "execution_count": 80
        },
        {
          "output_type": "display_data",
          "data": {
            "image/png": "[encoded data removed]",
            "text/plain": [
              "<Figure size 1080x504 with 1 Axes>"
            ]
          },
          "metadata": {
            "tags": [],
            "needs_background": "light"
          }
        }
      ]
    },
    {
      "cell_type": "code",
      "metadata": {
        "id": "YDUwa-6U2DDK"
      },
      "source": [
        "#dropping due_dt_day as it has no significance on delay\n",
        "x_train.drop('due_dt_day', axis = 1, inplace=True)"
      ],
      "execution_count": null,
      "outputs": []
    },
    {
      "cell_type": "code",
      "metadata": {
        "colab": {
          "base_uri": "https://localhost:8080/",
          "height": 514
        },
        "id": "cTGMzvMt2O49",
        "outputId": "2e17e1e2-878e-4970-adb1-bb8e3432f495"
      },
      "source": [
        "plt.figure(figsize=(15,7))\n",
        "sns.barplot(x_train['due_dt_mon'],y_train,data=x_train)"
      ],
      "execution_count": null,
      "outputs": [
        {
          "output_type": "stream",
          "text": [
            "/usr/local/lib/python3.7/dist-packages/seaborn/_decorators.py:43: FutureWarning: Pass the following variables as keyword args: x, y. From version 0.12, the only valid positional argument will be `data`, and passing other arguments without an explicit keyword will result in an error or misinterpretation.\n",
            "  FutureWarning\n"
          ],
          "name": "stderr"
        },
        {
          "output_type": "execute_result",
          "data": {
            "text/plain": [
              "<matplotlib.axes._subplots.AxesSubplot at 0x7f68419f8c10>"
            ]
          },
          "metadata": {
            "tags": []
          },
          "execution_count": 82
        },
        {
          "output_type": "display_data",
          "data": {
            "image/png": "[encoded data removed]",
            "text/plain": [
              "<Figure size 1080x504 with 1 Axes>"
            ]
          },
          "metadata": {
            "tags": [],
            "needs_background": "light"
          }
        }
      ]
    },
    {
      "cell_type": "code",
      "metadata": {
        "colab": {
          "base_uri": "https://localhost:8080/"
        },
        "id": "-rk3ROfw2gIg",
        "outputId": "ffcbf5a7-dff2-4c7a-b0eb-13c2c79de8d5"
      },
      "source": [
        "x_train['due_dt_day_of_week'].unique()"
      ],
      "execution_count": null,
      "outputs": [
        {
          "output_type": "execute_result",
          "data": {
            "text/plain": [
              "array([0, 2, 1, 3, 4, 5, 6])"
            ]
          },
          "metadata": {
            "tags": []
          },
          "execution_count": 83
        }
      ]
    },
    {
      "cell_type": "code",
      "metadata": {
        "id": "xvsmlWxB3Lqj"
      },
      "source": [
        "x_train['is_weekend']=np.where(x_train['due_dt_day_of_week']>3,1,0)\n",
        "x_val['is_weekend']=np.where(x_val['due_dt_day_of_week']>3,1,0)\n",
        "x_test['is_weekend']=np.where(x_test['due_dt_day_of_week']>3,1,0)"
      ],
      "execution_count": null,
      "outputs": []
    },
    {
      "cell_type": "markdown",
      "metadata": {
        "id": "Mjo76Qu1bGFd"
      },
      "source": [
        "### Normalising total_open_amount by taking log"
      ]
    },
    {
      "cell_type": "code",
      "metadata": {
        "colab": {
          "base_uri": "https://localhost:8080/",
          "height": 366
        },
        "id": "ax3Wjhxv3XpH",
        "outputId": "afbb71ec-f2a1-4a61-a0f8-b8754009db8f"
      },
      "source": [
        "plt.title(\"due day vs delay\".format(x_train['total_open_amount'],y_train))\n",
        "sns.scatterplot(x_train['total_open_amount'],y_train)"
      ],
      "execution_count": null,
      "outputs": [
        {
          "output_type": "stream",
          "text": [
            "/usr/local/lib/python3.7/dist-packages/seaborn/_decorators.py:43: FutureWarning: Pass the following variables as keyword args: x, y. From version 0.12, the only valid positional argument will be `data`, and passing other arguments without an explicit keyword will result in an error or misinterpretation.\n",
            "  FutureWarning\n"
          ],
          "name": "stderr"
        },
        {
          "output_type": "execute_result",
          "data": {
            "text/plain": [
              "<matplotlib.axes._subplots.AxesSubplot at 0x7f6841709910>"
            ]
          },
          "metadata": {
            "tags": []
          },
          "execution_count": 85
        },
        {
          "output_type": "display_data",
          "data": {
            "image/png": "[encoded data removed]",
            "text/plain": [
              "<Figure size 432x288 with 1 Axes>"
            ]
          },
          "metadata": {
            "tags": [],
            "needs_background": "light"
          }
        }
      ]
    },
    {
      "cell_type": "code",
      "metadata": {
        "colab": {
          "base_uri": "https://localhost:8080/",
          "height": 362
        },
        "id": "lz61ZtS75qz0",
        "outputId": "c5636070-7f8c-4fd1-9a1f-678a6ade2b96"
      },
      "source": [
        "\n",
        "sns.distplot(x_train['total_open_amount'])"
      ],
      "execution_count": null,
      "outputs": [
        {
          "output_type": "stream",
          "text": [
            "/usr/local/lib/python3.7/dist-packages/seaborn/distributions.py:2557: FutureWarning: `distplot` is a deprecated function and will be removed in a future version. Please adapt your code to use either `displot` (a figure-level function with similar flexibility) or `histplot` (an axes-level function for histograms).\n",
            "  warnings.warn(msg, FutureWarning)\n"
          ],
          "name": "stderr"
        },
        {
          "output_type": "execute_result",
          "data": {
            "text/plain": [
              "<matplotlib.axes._subplots.AxesSubplot at 0x7f684178de50>"
            ]
          },
          "metadata": {
            "tags": []
          },
          "execution_count": 86
        },
        {
          "output_type": "display_data",
          "data": {
            "image/png": "[encoded data removed]",
            "text/plain": [
              "<Figure size 432x288 with 1 Axes>"
            ]
          },
          "metadata": {
            "tags": [],
            "needs_background": "light"
          }
        }
      ]
    },
    {
      "cell_type": "code",
      "metadata": {
        "colab": {
          "base_uri": "https://localhost:8080/"
        },
        "id": "JJZG4hu052Hx",
        "outputId": "d0e5fad3-7454-46dd-f06e-ca1dcec899d5"
      },
      "source": [
        "x_train['total_open_amount'].describe()"
      ],
      "execution_count": null,
      "outputs": [
        {
          "output_type": "execute_result",
          "data": {
            "text/plain": [
              "count     23917.000000\n",
              "mean      31005.332722\n",
              "std       37966.663772\n",
              "min           2.760000\n",
              "25%        4344.550000\n",
              "50%       16708.610000\n",
              "75%       45556.160000\n",
              "max      816385.810000\n",
              "Name: total_open_amount, dtype: float64"
            ]
          },
          "metadata": {
            "tags": []
          },
          "execution_count": 87
        }
      ]
    },
    {
      "cell_type": "code",
      "metadata": {
        "colab": {
          "base_uri": "https://localhost:8080/"
        },
        "id": "FN4u29G0Wk3Q",
        "outputId": "2327fd80-018a-40c9-9810-95b72b6331dd"
      },
      "source": [
        "# the total_open_amount has high values and if i give these values to for comparision the computer will assign high priority to total open amount\n",
        "# that too when it does not deserve it and in the end give wrong prediction\n",
        "# so it is important to scale the values before giving the dataset for feature selection\n",
        "\n",
        "x_train['amnt_log']=np.log(x_train['total_open_amount'])\n",
        "x_train[\"amnt_log\"].describe()"
      ],
      "execution_count": null,
      "outputs": [
        {
          "output_type": "execute_result",
          "data": {
            "text/plain": [
              "count    23917.000000\n",
              "mean         9.355909\n",
              "std          1.789300\n",
              "min          1.015231\n",
              "25%          8.376677\n",
              "50%          9.723679\n",
              "75%         10.726701\n",
              "max         13.612642\n",
              "Name: amnt_log, dtype: float64"
            ]
          },
          "metadata": {
            "tags": []
          },
          "execution_count": 88
        }
      ]
    },
    {
      "cell_type": "code",
      "metadata": {
        "colab": {
          "base_uri": "https://localhost:8080/"
        },
        "id": "8GCoKhN-Wu_v",
        "outputId": "2267b143-cdb2-4036-ca83-7a60fc5158af"
      },
      "source": [
        "x_test['amnt_log']=np.log(x_test['total_open_amount'])\n",
        "x_val['amnt_log']=np.log(x_val['total_open_amount'])\n",
        "clear_date_null['amnt_log']=np.log(clear_date_null['total_open_amount'])\n",
        "clear_date_null['amnt_log'].describe()"
      ],
      "execution_count": null,
      "outputs": [
        {
          "output_type": "execute_result",
          "data": {
            "text/plain": [
              "count    10000.000000\n",
              "mean         9.503634\n",
              "std          1.739321\n",
              "min          0.157004\n",
              "25%          8.654243\n",
              "50%          9.847612\n",
              "75%         10.798385\n",
              "max         13.639678\n",
              "Name: amnt_log, dtype: float64"
            ]
          },
          "metadata": {
            "tags": []
          },
          "execution_count": 89
        }
      ]
    },
    {
      "cell_type": "code",
      "metadata": {
        "colab": {
          "base_uri": "https://localhost:8080/"
        },
        "id": "uAueTeVHXl7N",
        "outputId": "ef13a816-a2b0-4d4c-c3c8-066cd19aad27"
      },
      "source": [
        "x_val['amnt_log'].describe()"
      ],
      "execution_count": null,
      "outputs": [
        {
          "output_type": "execute_result",
          "data": {
            "text/plain": [
              "count    7973.000000\n",
              "mean        9.443319\n",
              "std         1.738055\n",
              "min         2.282382\n",
              "25%         8.519931\n",
              "50%         9.775826\n",
              "75%        10.763683\n",
              "max        12.625466\n",
              "Name: amnt_log, dtype: float64"
            ]
          },
          "metadata": {
            "tags": []
          },
          "execution_count": 90
        }
      ]
    },
    {
      "cell_type": "code",
      "metadata": {
        "colab": {
          "base_uri": "https://localhost:8080/"
        },
        "id": "T23YuQ82Xqnj",
        "outputId": "82adf3fa-bbaf-4b11-9ac6-778d34a43a0a"
      },
      "source": [
        "x_test['amnt_log'].describe()"
      ],
      "execution_count": null,
      "outputs": [
        {
          "output_type": "execute_result",
          "data": {
            "text/plain": [
              "count    7973.000000\n",
              "mean        9.413862\n",
              "std         1.787213\n",
              "min         1.043804\n",
              "25%         8.480079\n",
              "50%         9.778533\n",
              "75%        10.757873\n",
              "max        12.840430\n",
              "Name: amnt_log, dtype: float64"
            ]
          },
          "metadata": {
            "tags": []
          },
          "execution_count": 91
        }
      ]
    },
    {
      "cell_type": "code",
      "metadata": {
        "colab": {
          "base_uri": "https://localhost:8080/",
          "height": 413
        },
        "id": "kHvO8iTWX75B",
        "outputId": "e07b0eab-5e97-499d-e116-cc0bf6ce3c0c"
      },
      "source": [
        "\n",
        "plt.figure(figsize=(35,10))\n",
        "sns.lineplot(x_train['amnt_log'],y_train,color='pink')"
      ],
      "execution_count": null,
      "outputs": [
        {
          "output_type": "stream",
          "text": [
            "/usr/local/lib/python3.7/dist-packages/seaborn/_decorators.py:43: FutureWarning: Pass the following variables as keyword args: x, y. From version 0.12, the only valid positional argument will be `data`, and passing other arguments without an explicit keyword will result in an error or misinterpretation.\n",
            "  FutureWarning\n"
          ],
          "name": "stderr"
        },
        {
          "output_type": "execute_result",
          "data": {
            "text/plain": [
              "<matplotlib.axes._subplots.AxesSubplot at 0x7f6841518910>"
            ]
          },
          "metadata": {
            "tags": []
          },
          "execution_count": 92
        },
        {
          "output_type": "display_data",
          "data": {
            "image/png": "[encoded data removed]",
            "text/plain": [
              "<Figure size 2520x720 with 1 Axes>"
            ]
          },
          "metadata": {
            "tags": [],
            "needs_background": "light"
          }
        }
      ]
    },
    {
      "cell_type": "code",
      "metadata": {
        "colab": {
          "base_uri": "https://localhost:8080/",
          "height": 366
        },
        "id": "JTOBXQbxZaND",
        "outputId": "d0714e7d-feb9-4af9-e3c2-3d64ddd89b0e"
      },
      "source": [
        "\n",
        "sns.distplot(x_train['amnt_log'],color='orange')\n",
        "plt.title(\"X_train amount log\")\n",
        "\n",
        "# this graphs makes more sense than the previous high skewed one."
      ],
      "execution_count": null,
      "outputs": [
        {
          "output_type": "stream",
          "text": [
            "/usr/local/lib/python3.7/dist-packages/seaborn/distributions.py:2557: FutureWarning: `distplot` is a deprecated function and will be removed in a future version. Please adapt your code to use either `displot` (a figure-level function with similar flexibility) or `histplot` (an axes-level function for histograms).\n",
            "  warnings.warn(msg, FutureWarning)\n"
          ],
          "name": "stderr"
        },
        {
          "output_type": "execute_result",
          "data": {
            "text/plain": [
              "Text(0.5, 1.0, 'X_train amount log')"
            ]
          },
          "metadata": {
            "tags": []
          },
          "execution_count": 93
        },
        {
          "output_type": "display_data",
          "data": {
            "image/png": "[encoded data removed]",
            "text/plain": [
              "<Figure size 432x288 with 1 Axes>"
            ]
          },
          "metadata": {
            "tags": [],
            "needs_background": "light"
          }
        }
      ]
    },
    {
      "cell_type": "code",
      "metadata": {
        "colab": {
          "base_uri": "https://localhost:8080/",
          "height": 366
        },
        "id": "Ohk5pow9Zic4",
        "outputId": "7b2cb001-ee4e-42e5-a7dd-2c757f48be8e"
      },
      "source": [
        "sns.distplot(clear_date_null['amnt_log'],color='red')\n",
        "plt.title(\"clear_date_null amount log\")"
      ],
      "execution_count": null,
      "outputs": [
        {
          "output_type": "stream",
          "text": [
            "/usr/local/lib/python3.7/dist-packages/seaborn/distributions.py:2557: FutureWarning: `distplot` is a deprecated function and will be removed in a future version. Please adapt your code to use either `displot` (a figure-level function with similar flexibility) or `histplot` (an axes-level function for histograms).\n",
            "  warnings.warn(msg, FutureWarning)\n"
          ],
          "name": "stderr"
        },
        {
          "output_type": "execute_result",
          "data": {
            "text/plain": [
              "Text(0.5, 1.0, 'clear_date_null amount log')"
            ]
          },
          "metadata": {
            "tags": []
          },
          "execution_count": 94
        },
        {
          "output_type": "display_data",
          "data": {
            "image/png": "[encoded data removed]",
            "text/plain": [
              "<Figure size 432x288 with 1 Axes>"
            ]
          },
          "metadata": {
            "tags": [],
            "needs_background": "light"
          }
        }
      ]
    },
    {
      "cell_type": "markdown",
      "metadata": {
        "id": "Q4QCHFN11dEX"
      },
      "source": [
        "### Preparing cust_payment_terms for feature selection"
      ]
    },
    {
      "cell_type": "code",
      "metadata": {
        "colab": {
          "base_uri": "https://localhost:8080/"
        },
        "id": "i3wyrbporYfT",
        "outputId": "4a443ee9-f92d-409a-ac5a-b10bbc13d31e"
      },
      "source": [
        "x_train['cust_payment_terms'].value_counts()"
      ],
      "execution_count": null,
      "outputs": [
        {
          "output_type": "execute_result",
          "data": {
            "text/plain": [
              "NAA8    9499\n",
              "NAH4    6333\n",
              "CA10    1877\n",
              "NAC6     819\n",
              "NAM4     592\n",
              "        ... \n",
              "CA60       1\n",
              "NABD       1\n",
              "NATK       1\n",
              "NAV2       1\n",
              "B052       1\n",
              "Name: cust_payment_terms, Length: 61, dtype: int64"
            ]
          },
          "metadata": {
            "tags": []
          },
          "execution_count": 95
        }
      ]
    },
    {
      "cell_type": "code",
      "metadata": {
        "id": "_JRBRvq6rvoN"
      },
      "source": [
        "#since there are many values with have occurance 1 or low values and if we try to find mean of their occurance then it would be negligible wrt to NAA8 and the others \n",
        "# so I am grouping them in a list and later will replace those values with a common one called others\n",
        "\n",
        "fem=[xdd for xdd in x_train['cust_payment_terms'] if xdd not in ['NAA8','NAH4','CA10','NAC6','NAM4','NAAX']]\n",
        "fem_val=[xdd1 for xdd1 in x_val['cust_payment_terms'] if xdd1 not in ['NAA8','NAH4','CA10','NAC6','NAM4','NAAX']]\n",
        "fem_test1=[xdd2 for xdd2 in x_test['cust_payment_terms'] if xdd2 not in ['NAA8','NAH4','CA10','NAC6','NAM4','NAAX']]"
      ],
      "execution_count": null,
      "outputs": []
    },
    {
      "cell_type": "code",
      "metadata": {
        "id": "swGzuz2Bsy5N"
      },
      "source": [
        "fem_null=[xdd3 for xdd3 in clear_date_null['cust_payment_terms'] if xdd3 not in ['NAA8','NAH4','CA10','NAC6','NAM4','NAAX']]"
      ],
      "execution_count": null,
      "outputs": []
    },
    {
      "cell_type": "code",
      "metadata": {
        "id": "dQDZmi9OtRBj"
      },
      "source": [
        "\n",
        "#replacing the list elements with others\n",
        "x_train['cust_payment_terms'] = x_train['cust_payment_terms'].replace(fem,'others')\n",
        "x_val['cust_payment_terms'] = x_val['cust_payment_terms'].replace(fem_val,'others')\n",
        "x_test['cust_payment_terms'] = x_test['cust_payment_terms'].replace(fem_test1,'others')"
      ],
      "execution_count": null,
      "outputs": []
    },
    {
      "cell_type": "code",
      "metadata": {
        "id": "ze_I3qwmtqmu"
      },
      "source": [
        "clear_date_null['cust_payment_terms'] = clear_date_null['cust_payment_terms'].replace(fem_null,'others')"
      ],
      "execution_count": null,
      "outputs": []
    },
    {
      "cell_type": "code",
      "metadata": {
        "colab": {
          "base_uri": "https://localhost:8080/"
        },
        "id": "N5W8HY6NtvCX",
        "outputId": "92e055dc-7279-4ea4-d0d9-f8f7eb4b70a7"
      },
      "source": [
        "x_train['cust_payment_terms'].value_counts()\n",
        "#this reduces the total unique values and we can make a feature out of them."
      ],
      "execution_count": null,
      "outputs": [
        {
          "output_type": "execute_result",
          "data": {
            "text/plain": [
              "NAA8      9499\n",
              "NAH4      6333\n",
              "others    4217\n",
              "CA10      1877\n",
              "NAC6       819\n",
              "NAM4       592\n",
              "NAAX       580\n",
              "Name: cust_payment_terms, dtype: int64"
            ]
          },
          "metadata": {
            "tags": []
          },
          "execution_count": 100
        }
      ]
    },
    {
      "cell_type": "code",
      "metadata": {
        "colab": {
          "base_uri": "https://localhost:8080/"
        },
        "id": "PmLQ8kgEt0nG",
        "outputId": "f96c6006-71bb-492f-e117-902bede04274"
      },
      "source": [
        "clear_date_null['cust_payment_terms'].value_counts()"
      ],
      "execution_count": null,
      "outputs": [
        {
          "output_type": "execute_result",
          "data": {
            "text/plain": [
              "NAA8      4102\n",
              "NAH4      2927\n",
              "others    1295\n",
              "CA10       726\n",
              "NAC6       414\n",
              "NAM4       281\n",
              "NAAX       255\n",
              "Name: cust_payment_terms, dtype: int64"
            ]
          },
          "metadata": {
            "tags": []
          },
          "execution_count": 101
        }
      ]
    },
    {
      "cell_type": "code",
      "metadata": {
        "colab": {
          "base_uri": "https://localhost:8080/"
        },
        "id": "RYpMTgDWuBD_",
        "outputId": "c2870b11-a2ce-4184-d781-0dc86dbfebd1"
      },
      "source": [
        "clear_date_null['cust_payment_terms'].value_counts(normalize=True)"
      ],
      "execution_count": null,
      "outputs": [
        {
          "output_type": "execute_result",
          "data": {
            "text/plain": [
              "NAA8      0.4102\n",
              "NAH4      0.2927\n",
              "others    0.1295\n",
              "CA10      0.0726\n",
              "NAC6      0.0414\n",
              "NAM4      0.0281\n",
              "NAAX      0.0255\n",
              "Name: cust_payment_terms, dtype: float64"
            ]
          },
          "metadata": {
            "tags": []
          },
          "execution_count": 102
        }
      ]
    },
    {
      "cell_type": "code",
      "metadata": {
        "colab": {
          "base_uri": "https://localhost:8080/"
        },
        "id": "CNWtk05WvAJh",
        "outputId": "b34cdb3e-8cab-486f-a0c7-2bfd784c43cd"
      },
      "source": [
        "cus_pay_terms={'NAA8':0.401007,'NAH4':0.297426,'CA10':0.078930,'NAC6':0.035143,'NAM4':0.025179,'NAAX':0.024775,'others':0.174988}\n",
        "cus_pay_terms\n",
        "\n",
        "#here i made a list where i inserted value name and the mean of their occurance.\n",
        "#frequency encoding"
      ],
      "execution_count": null,
      "outputs": [
        {
          "output_type": "execute_result",
          "data": {
            "text/plain": [
              "{'CA10': 0.07893,\n",
              " 'NAA8': 0.401007,\n",
              " 'NAAX': 0.024775,\n",
              " 'NAC6': 0.035143,\n",
              " 'NAH4': 0.297426,\n",
              " 'NAM4': 0.025179,\n",
              " 'others': 0.174988}"
            ]
          },
          "metadata": {
            "tags": []
          },
          "execution_count": 103
        }
      ]
    },
    {
      "cell_type": "code",
      "metadata": {
        "id": "rNLMcrsovx__"
      },
      "source": [
        "#mapping the list with train,test_val and clear_date_null.\n",
        "\n",
        "x_train['cust_payment_terms']=x_train['cust_payment_terms'].map(cus_pay_terms)\n",
        "x_val['cust_payment_terms']=x_val['cust_payment_terms'].map(cus_pay_terms)\n",
        "x_test['cust_payment_terms']=x_test['cust_payment_terms'].map(cus_pay_terms)\n",
        "clear_date_null['cust_payment_terms']=clear_date_null['cust_payment_terms'].map(cus_pay_terms)"
      ],
      "execution_count": null,
      "outputs": []
    },
    {
      "cell_type": "code",
      "metadata": {
        "colab": {
          "base_uri": "https://localhost:8080/",
          "height": 470
        },
        "id": "BJo_vjicwQh-",
        "outputId": "fe6b6d3b-4e89-4ab5-e4ed-20b0580f7305"
      },
      "source": [
        "x_train"
      ],
      "execution_count": null,
      "outputs": [
        {
          "output_type": "execute_result",
          "data": {
            "text/html": [
              "<div>\n",
              "<style scoped>\n",
              "    .dataframe tbody tr th:only-of-type {\n",
              "        vertical-align: middle;\n",
              "    }\n",
              "\n",
              "    .dataframe tbody tr th {\n",
              "        vertical-align: top;\n",
              "    }\n",
              "\n",
              "    .dataframe thead th {\n",
              "        text-align: right;\n",
              "    }\n",
              "</style>\n",
              "<table border=\"1\" class=\"dataframe\">\n",
              "  <thead>\n",
              "    <tr style=\"text-align: right;\">\n",
              "      <th></th>\n",
              "      <th>business_code</th>\n",
              "      <th>cust_number</th>\n",
              "      <th>name_customer</th>\n",
              "      <th>buisness_year</th>\n",
              "      <th>doc_id</th>\n",
              "      <th>posting_date</th>\n",
              "      <th>document_create_date.1</th>\n",
              "      <th>due_in_date</th>\n",
              "      <th>total_open_amount</th>\n",
              "      <th>baseline_create_date</th>\n",
              "      <th>cust_payment_terms</th>\n",
              "      <th>invoice_id</th>\n",
              "      <th>delay</th>\n",
              "      <th>mean_delay</th>\n",
              "      <th>due_dt_week</th>\n",
              "      <th>due_dt_mon</th>\n",
              "      <th>due_dt_day_of_week</th>\n",
              "      <th>is_weekend</th>\n",
              "      <th>amnt_log</th>\n",
              "    </tr>\n",
              "  </thead>\n",
              "  <tbody>\n",
              "    <tr>\n",
              "      <th>37760</th>\n",
              "      <td>U001</td>\n",
              "      <td>0200769623</td>\n",
              "      <td>WAL-MAR in</td>\n",
              "      <td>2019.0</td>\n",
              "      <td>1.928540e+09</td>\n",
              "      <td>2018-12-30</td>\n",
              "      <td>2018-12-30</td>\n",
              "      <td>2019-01-14</td>\n",
              "      <td>33810.3200</td>\n",
              "      <td>2018-12-30</td>\n",
              "      <td>0.297426</td>\n",
              "      <td>1.928540e+09</td>\n",
              "      <td>-5</td>\n",
              "      <td>-1.893127</td>\n",
              "      <td>3</td>\n",
              "      <td>1</td>\n",
              "      <td>0</td>\n",
              "      <td>0</td>\n",
              "      <td>10.428521</td>\n",
              "    </tr>\n",
              "    <tr>\n",
              "      <th>41256</th>\n",
              "      <td>U001</td>\n",
              "      <td>0200769623</td>\n",
              "      <td>WAL-MAR corp</td>\n",
              "      <td>2019.0</td>\n",
              "      <td>1.928539e+09</td>\n",
              "      <td>2018-12-30</td>\n",
              "      <td>2018-12-30</td>\n",
              "      <td>2019-01-14</td>\n",
              "      <td>51583.1600</td>\n",
              "      <td>2018-12-30</td>\n",
              "      <td>0.297426</td>\n",
              "      <td>1.928539e+09</td>\n",
              "      <td>-5</td>\n",
              "      <td>-1.893127</td>\n",
              "      <td>3</td>\n",
              "      <td>1</td>\n",
              "      <td>0</td>\n",
              "      <td>0</td>\n",
              "      <td>10.850951</td>\n",
              "    </tr>\n",
              "    <tr>\n",
              "      <th>18049</th>\n",
              "      <td>U001</td>\n",
              "      <td>0200769623</td>\n",
              "      <td>WAL-MAR us</td>\n",
              "      <td>2019.0</td>\n",
              "      <td>1.928541e+09</td>\n",
              "      <td>2018-12-30</td>\n",
              "      <td>2018-12-30</td>\n",
              "      <td>2019-01-14</td>\n",
              "      <td>57924.5500</td>\n",
              "      <td>2018-12-30</td>\n",
              "      <td>0.297426</td>\n",
              "      <td>1.928541e+09</td>\n",
              "      <td>-4</td>\n",
              "      <td>-1.893127</td>\n",
              "      <td>3</td>\n",
              "      <td>1</td>\n",
              "      <td>0</td>\n",
              "      <td>0</td>\n",
              "      <td>10.966897</td>\n",
              "    </tr>\n",
              "    <tr>\n",
              "      <th>41599</th>\n",
              "      <td>U001</td>\n",
              "      <td>0200769623</td>\n",
              "      <td>WAL-MAR systems</td>\n",
              "      <td>2019.0</td>\n",
              "      <td>1.928531e+09</td>\n",
              "      <td>2018-12-30</td>\n",
              "      <td>2018-12-30</td>\n",
              "      <td>2019-01-14</td>\n",
              "      <td>1839.5300</td>\n",
              "      <td>2018-12-30</td>\n",
              "      <td>0.297426</td>\n",
              "      <td>1.928531e+09</td>\n",
              "      <td>1</td>\n",
              "      <td>-1.893127</td>\n",
              "      <td>3</td>\n",
              "      <td>1</td>\n",
              "      <td>0</td>\n",
              "      <td>0</td>\n",
              "      <td>7.517265</td>\n",
              "    </tr>\n",
              "    <tr>\n",
              "      <th>15023</th>\n",
              "      <td>CA02</td>\n",
              "      <td>0140106408</td>\n",
              "      <td>WAL-M systems</td>\n",
              "      <td>2019.0</td>\n",
              "      <td>2.960520e+09</td>\n",
              "      <td>2018-12-30</td>\n",
              "      <td>2018-12-30</td>\n",
              "      <td>2019-01-09</td>\n",
              "      <td>57166.5357</td>\n",
              "      <td>2018-12-30</td>\n",
              "      <td>0.078930</td>\n",
              "      <td>2.960520e+09</td>\n",
              "      <td>16</td>\n",
              "      <td>9.420168</td>\n",
              "      <td>2</td>\n",
              "      <td>1</td>\n",
              "      <td>2</td>\n",
              "      <td>0</td>\n",
              "      <td>10.953724</td>\n",
              "    </tr>\n",
              "    <tr>\n",
              "      <th>...</th>\n",
              "      <td>...</td>\n",
              "      <td>...</td>\n",
              "      <td>...</td>\n",
              "      <td>...</td>\n",
              "      <td>...</td>\n",
              "      <td>...</td>\n",
              "      <td>...</td>\n",
              "      <td>...</td>\n",
              "      <td>...</td>\n",
              "      <td>...</td>\n",
              "      <td>...</td>\n",
              "      <td>...</td>\n",
              "      <td>...</td>\n",
              "      <td>...</td>\n",
              "      <td>...</td>\n",
              "      <td>...</td>\n",
              "      <td>...</td>\n",
              "      <td>...</td>\n",
              "      <td>...</td>\n",
              "    </tr>\n",
              "    <tr>\n",
              "      <th>39573</th>\n",
              "      <td>U001</td>\n",
              "      <td>0200769623</td>\n",
              "      <td>WAL-MAR llc</td>\n",
              "      <td>2019.0</td>\n",
              "      <td>1.929808e+09</td>\n",
              "      <td>2019-08-30</td>\n",
              "      <td>2019-08-30</td>\n",
              "      <td>2019-09-14</td>\n",
              "      <td>14127.2900</td>\n",
              "      <td>2019-08-30</td>\n",
              "      <td>0.297426</td>\n",
              "      <td>1.929808e+09</td>\n",
              "      <td>-4</td>\n",
              "      <td>-1.893127</td>\n",
              "      <td>37</td>\n",
              "      <td>9</td>\n",
              "      <td>5</td>\n",
              "      <td>1</td>\n",
              "      <td>9.555864</td>\n",
              "    </tr>\n",
              "    <tr>\n",
              "      <th>41165</th>\n",
              "      <td>U001</td>\n",
              "      <td>0200769623</td>\n",
              "      <td>WAL-MAR in</td>\n",
              "      <td>2019.0</td>\n",
              "      <td>1.929807e+09</td>\n",
              "      <td>2019-08-30</td>\n",
              "      <td>2019-08-30</td>\n",
              "      <td>2019-09-14</td>\n",
              "      <td>15521.0600</td>\n",
              "      <td>2019-08-30</td>\n",
              "      <td>0.297426</td>\n",
              "      <td>1.929807e+09</td>\n",
              "      <td>-4</td>\n",
              "      <td>-1.893127</td>\n",
              "      <td>37</td>\n",
              "      <td>9</td>\n",
              "      <td>5</td>\n",
              "      <td>1</td>\n",
              "      <td>9.649953</td>\n",
              "    </tr>\n",
              "    <tr>\n",
              "      <th>5213</th>\n",
              "      <td>U001</td>\n",
              "      <td>0200769623</td>\n",
              "      <td>WAL-MAR us</td>\n",
              "      <td>2019.0</td>\n",
              "      <td>1.929812e+09</td>\n",
              "      <td>2019-08-30</td>\n",
              "      <td>2019-08-30</td>\n",
              "      <td>2019-09-14</td>\n",
              "      <td>39806.0600</td>\n",
              "      <td>2019-08-30</td>\n",
              "      <td>0.297426</td>\n",
              "      <td>1.929812e+09</td>\n",
              "      <td>-1</td>\n",
              "      <td>-1.893127</td>\n",
              "      <td>37</td>\n",
              "      <td>9</td>\n",
              "      <td>5</td>\n",
              "      <td>1</td>\n",
              "      <td>10.591774</td>\n",
              "    </tr>\n",
              "    <tr>\n",
              "      <th>26151</th>\n",
              "      <td>U001</td>\n",
              "      <td>0200769623</td>\n",
              "      <td>WAL-MAR in</td>\n",
              "      <td>2019.0</td>\n",
              "      <td>1.929813e+09</td>\n",
              "      <td>2019-08-30</td>\n",
              "      <td>2019-08-30</td>\n",
              "      <td>2019-09-14</td>\n",
              "      <td>943.1200</td>\n",
              "      <td>2019-08-30</td>\n",
              "      <td>0.297426</td>\n",
              "      <td>1.929813e+09</td>\n",
              "      <td>-4</td>\n",
              "      <td>-1.893127</td>\n",
              "      <td>37</td>\n",
              "      <td>9</td>\n",
              "      <td>5</td>\n",
              "      <td>1</td>\n",
              "      <td>6.849194</td>\n",
              "    </tr>\n",
              "    <tr>\n",
              "      <th>26537</th>\n",
              "      <td>U001</td>\n",
              "      <td>0200769623</td>\n",
              "      <td>WAL-MAR us</td>\n",
              "      <td>2019.0</td>\n",
              "      <td>1.929802e+09</td>\n",
              "      <td>2019-08-30</td>\n",
              "      <td>2019-08-30</td>\n",
              "      <td>2019-09-14</td>\n",
              "      <td>20800.0000</td>\n",
              "      <td>2019-08-30</td>\n",
              "      <td>0.297426</td>\n",
              "      <td>1.929802e+09</td>\n",
              "      <td>3</td>\n",
              "      <td>-1.893127</td>\n",
              "      <td>37</td>\n",
              "      <td>9</td>\n",
              "      <td>5</td>\n",
              "      <td>1</td>\n",
              "      <td>9.942708</td>\n",
              "    </tr>\n",
              "  </tbody>\n",
              "</table>\n",
              "<p>23917 rows × 19 columns</p>\n",
              "</div>"
            ],
            "text/plain": [
              "      business_code cust_number  ... is_weekend   amnt_log\n",
              "37760          U001  0200769623  ...          0  10.428521\n",
              "41256          U001  0200769623  ...          0  10.850951\n",
              "18049          U001  0200769623  ...          0  10.966897\n",
              "41599          U001  0200769623  ...          0   7.517265\n",
              "15023          CA02  0140106408  ...          0  10.953724\n",
              "...             ...         ...  ...        ...        ...\n",
              "39573          U001  0200769623  ...          1   9.555864\n",
              "41165          U001  0200769623  ...          1   9.649953\n",
              "5213           U001  0200769623  ...          1  10.591774\n",
              "26151          U001  0200769623  ...          1   6.849194\n",
              "26537          U001  0200769623  ...          1   9.942708\n",
              "\n",
              "[23917 rows x 19 columns]"
            ]
          },
          "metadata": {
            "tags": []
          },
          "execution_count": 105
        }
      ]
    },
    {
      "cell_type": "markdown",
      "metadata": {
        "id": "uKlxIWjo08xx"
      },
      "source": [
        "### Preparing business_code for feature selection"
      ]
    },
    {
      "cell_type": "code",
      "metadata": {
        "colab": {
          "base_uri": "https://localhost:8080/"
        },
        "id": "oHpIGKPyweiu",
        "outputId": "c067cbdb-b098-4072-cf26-ff6ee1ef384c"
      },
      "source": [
        "x_train['business_code'].value_counts()"
      ],
      "execution_count": null,
      "outputs": [
        {
          "output_type": "execute_result",
          "data": {
            "text/plain": [
              "U001    21525\n",
              "CA02     1933\n",
              "U013      365\n",
              "U002       79\n",
              "U005       13\n",
              "U007        2\n",
              "Name: business_code, dtype: int64"
            ]
          },
          "metadata": {
            "tags": []
          },
          "execution_count": 106
        }
      ]
    },
    {
      "cell_type": "code",
      "metadata": {
        "colab": {
          "base_uri": "https://localhost:8080/"
        },
        "id": "X_768hobzizU",
        "outputId": "aa1c7ba8-e5c9-47f6-b203-c8824235d50b"
      },
      "source": [
        "#normalize return proportion \n",
        "x_train['business_code'].value_counts(normalize=True)"
      ],
      "execution_count": null,
      "outputs": [
        {
          "output_type": "execute_result",
          "data": {
            "text/plain": [
              "U001    0.899987\n",
              "CA02    0.080821\n",
              "U013    0.015261\n",
              "U002    0.003303\n",
              "U005    0.000544\n",
              "U007    0.000084\n",
              "Name: business_code, dtype: float64"
            ]
          },
          "metadata": {
            "tags": []
          },
          "execution_count": 107
        }
      ]
    },
    {
      "cell_type": "code",
      "metadata": {
        "id": "k24itJUbzwxC"
      },
      "source": [
        "x_train['business_code'] = x_train['business_code'].replace(['U002','U005','U007','U013'],'others')\n",
        "\n",
        "x_val['business_code'] = x_val['business_code'].replace(['U002','U005','U007','U013'],'others')\n",
        "\n",
        "x_test['business_code'] = x_test['business_code'].replace(['U002','U005','U007','U013'],'others')"
      ],
      "execution_count": null,
      "outputs": []
    },
    {
      "cell_type": "code",
      "metadata": {
        "id": "pbHfxhr3z5zE"
      },
      "source": [
        "clear_date_null['business_code'] = clear_date_null['business_code'].replace(['U002','U005','U007','U013'],'others')"
      ],
      "execution_count": null,
      "outputs": []
    },
    {
      "cell_type": "code",
      "metadata": {
        "colab": {
          "base_uri": "https://localhost:8080/"
        },
        "id": "ast-_7Qm0EEB",
        "outputId": "f2e1167b-4630-4d18-84ae-9b54f8507bbd"
      },
      "source": [
        "x_train['business_code'].value_counts(normalize=True)"
      ],
      "execution_count": null,
      "outputs": [
        {
          "output_type": "execute_result",
          "data": {
            "text/plain": [
              "U001      0.899987\n",
              "CA02      0.080821\n",
              "others    0.019191\n",
              "Name: business_code, dtype: float64"
            ]
          },
          "metadata": {
            "tags": []
          },
          "execution_count": 110
        }
      ]
    },
    {
      "cell_type": "code",
      "metadata": {
        "id": "pOEkUFPy0I06"
      },
      "source": [
        "\n",
        "#dictionary which can be used for mapping which will reduce labour.\n",
        "buss_code={'U001':0.900517,\n",
        "'CA02':0.081116,\n",
        "'others':0.018367\n",
        "}\n"
      ],
      "execution_count": null,
      "outputs": []
    },
    {
      "cell_type": "code",
      "metadata": {
        "colab": {
          "base_uri": "https://localhost:8080/",
          "height": 470
        },
        "id": "C-j_iej70N_m",
        "outputId": "ae49a760-b179-4b23-b33f-c6a423038e66"
      },
      "source": [
        "x_train['business_code']=x_train['business_code'].map(buss_code)\n",
        "x_train"
      ],
      "execution_count": null,
      "outputs": [
        {
          "output_type": "execute_result",
          "data": {
            "text/html": [
              "<div>\n",
              "<style scoped>\n",
              "    .dataframe tbody tr th:only-of-type {\n",
              "        vertical-align: middle;\n",
              "    }\n",
              "\n",
              "    .dataframe tbody tr th {\n",
              "        vertical-align: top;\n",
              "    }\n",
              "\n",
              "    .dataframe thead th {\n",
              "        text-align: right;\n",
              "    }\n",
              "</style>\n",
              "<table border=\"1\" class=\"dataframe\">\n",
              "  <thead>\n",
              "    <tr style=\"text-align: right;\">\n",
              "      <th></th>\n",
              "      <th>business_code</th>\n",
              "      <th>cust_number</th>\n",
              "      <th>name_customer</th>\n",
              "      <th>buisness_year</th>\n",
              "      <th>doc_id</th>\n",
              "      <th>posting_date</th>\n",
              "      <th>document_create_date.1</th>\n",
              "      <th>due_in_date</th>\n",
              "      <th>total_open_amount</th>\n",
              "      <th>baseline_create_date</th>\n",
              "      <th>cust_payment_terms</th>\n",
              "      <th>invoice_id</th>\n",
              "      <th>delay</th>\n",
              "      <th>mean_delay</th>\n",
              "      <th>due_dt_week</th>\n",
              "      <th>due_dt_mon</th>\n",
              "      <th>due_dt_day_of_week</th>\n",
              "      <th>is_weekend</th>\n",
              "      <th>amnt_log</th>\n",
              "    </tr>\n",
              "  </thead>\n",
              "  <tbody>\n",
              "    <tr>\n",
              "      <th>37760</th>\n",
              "      <td>0.900517</td>\n",
              "      <td>0200769623</td>\n",
              "      <td>WAL-MAR in</td>\n",
              "      <td>2019.0</td>\n",
              "      <td>1.928540e+09</td>\n",
              "      <td>2018-12-30</td>\n",
              "      <td>2018-12-30</td>\n",
              "      <td>2019-01-14</td>\n",
              "      <td>33810.3200</td>\n",
              "      <td>2018-12-30</td>\n",
              "      <td>0.297426</td>\n",
              "      <td>1.928540e+09</td>\n",
              "      <td>-5</td>\n",
              "      <td>-1.893127</td>\n",
              "      <td>3</td>\n",
              "      <td>1</td>\n",
              "      <td>0</td>\n",
              "      <td>0</td>\n",
              "      <td>10.428521</td>\n",
              "    </tr>\n",
              "    <tr>\n",
              "      <th>41256</th>\n",
              "      <td>0.900517</td>\n",
              "      <td>0200769623</td>\n",
              "      <td>WAL-MAR corp</td>\n",
              "      <td>2019.0</td>\n",
              "      <td>1.928539e+09</td>\n",
              "      <td>2018-12-30</td>\n",
              "      <td>2018-12-30</td>\n",
              "      <td>2019-01-14</td>\n",
              "      <td>51583.1600</td>\n",
              "      <td>2018-12-30</td>\n",
              "      <td>0.297426</td>\n",
              "      <td>1.928539e+09</td>\n",
              "      <td>-5</td>\n",
              "      <td>-1.893127</td>\n",
              "      <td>3</td>\n",
              "      <td>1</td>\n",
              "      <td>0</td>\n",
              "      <td>0</td>\n",
              "      <td>10.850951</td>\n",
              "    </tr>\n",
              "    <tr>\n",
              "      <th>18049</th>\n",
              "      <td>0.900517</td>\n",
              "      <td>0200769623</td>\n",
              "      <td>WAL-MAR us</td>\n",
              "      <td>2019.0</td>\n",
              "      <td>1.928541e+09</td>\n",
              "      <td>2018-12-30</td>\n",
              "      <td>2018-12-30</td>\n",
              "      <td>2019-01-14</td>\n",
              "      <td>57924.5500</td>\n",
              "      <td>2018-12-30</td>\n",
              "      <td>0.297426</td>\n",
              "      <td>1.928541e+09</td>\n",
              "      <td>-4</td>\n",
              "      <td>-1.893127</td>\n",
              "      <td>3</td>\n",
              "      <td>1</td>\n",
              "      <td>0</td>\n",
              "      <td>0</td>\n",
              "      <td>10.966897</td>\n",
              "    </tr>\n",
              "    <tr>\n",
              "      <th>41599</th>\n",
              "      <td>0.900517</td>\n",
              "      <td>0200769623</td>\n",
              "      <td>WAL-MAR systems</td>\n",
              "      <td>2019.0</td>\n",
              "      <td>1.928531e+09</td>\n",
              "      <td>2018-12-30</td>\n",
              "      <td>2018-12-30</td>\n",
              "      <td>2019-01-14</td>\n",
              "      <td>1839.5300</td>\n",
              "      <td>2018-12-30</td>\n",
              "      <td>0.297426</td>\n",
              "      <td>1.928531e+09</td>\n",
              "      <td>1</td>\n",
              "      <td>-1.893127</td>\n",
              "      <td>3</td>\n",
              "      <td>1</td>\n",
              "      <td>0</td>\n",
              "      <td>0</td>\n",
              "      <td>7.517265</td>\n",
              "    </tr>\n",
              "    <tr>\n",
              "      <th>15023</th>\n",
              "      <td>0.081116</td>\n",
              "      <td>0140106408</td>\n",
              "      <td>WAL-M systems</td>\n",
              "      <td>2019.0</td>\n",
              "      <td>2.960520e+09</td>\n",
              "      <td>2018-12-30</td>\n",
              "      <td>2018-12-30</td>\n",
              "      <td>2019-01-09</td>\n",
              "      <td>57166.5357</td>\n",
              "      <td>2018-12-30</td>\n",
              "      <td>0.078930</td>\n",
              "      <td>2.960520e+09</td>\n",
              "      <td>16</td>\n",
              "      <td>9.420168</td>\n",
              "      <td>2</td>\n",
              "      <td>1</td>\n",
              "      <td>2</td>\n",
              "      <td>0</td>\n",
              "      <td>10.953724</td>\n",
              "    </tr>\n",
              "    <tr>\n",
              "      <th>...</th>\n",
              "      <td>...</td>\n",
              "      <td>...</td>\n",
              "      <td>...</td>\n",
              "      <td>...</td>\n",
              "      <td>...</td>\n",
              "      <td>...</td>\n",
              "      <td>...</td>\n",
              "      <td>...</td>\n",
              "      <td>...</td>\n",
              "      <td>...</td>\n",
              "      <td>...</td>\n",
              "      <td>...</td>\n",
              "      <td>...</td>\n",
              "      <td>...</td>\n",
              "      <td>...</td>\n",
              "      <td>...</td>\n",
              "      <td>...</td>\n",
              "      <td>...</td>\n",
              "      <td>...</td>\n",
              "    </tr>\n",
              "    <tr>\n",
              "      <th>39573</th>\n",
              "      <td>0.900517</td>\n",
              "      <td>0200769623</td>\n",
              "      <td>WAL-MAR llc</td>\n",
              "      <td>2019.0</td>\n",
              "      <td>1.929808e+09</td>\n",
              "      <td>2019-08-30</td>\n",
              "      <td>2019-08-30</td>\n",
              "      <td>2019-09-14</td>\n",
              "      <td>14127.2900</td>\n",
              "      <td>2019-08-30</td>\n",
              "      <td>0.297426</td>\n",
              "      <td>1.929808e+09</td>\n",
              "      <td>-4</td>\n",
              "      <td>-1.893127</td>\n",
              "      <td>37</td>\n",
              "      <td>9</td>\n",
              "      <td>5</td>\n",
              "      <td>1</td>\n",
              "      <td>9.555864</td>\n",
              "    </tr>\n",
              "    <tr>\n",
              "      <th>41165</th>\n",
              "      <td>0.900517</td>\n",
              "      <td>0200769623</td>\n",
              "      <td>WAL-MAR in</td>\n",
              "      <td>2019.0</td>\n",
              "      <td>1.929807e+09</td>\n",
              "      <td>2019-08-30</td>\n",
              "      <td>2019-08-30</td>\n",
              "      <td>2019-09-14</td>\n",
              "      <td>15521.0600</td>\n",
              "      <td>2019-08-30</td>\n",
              "      <td>0.297426</td>\n",
              "      <td>1.929807e+09</td>\n",
              "      <td>-4</td>\n",
              "      <td>-1.893127</td>\n",
              "      <td>37</td>\n",
              "      <td>9</td>\n",
              "      <td>5</td>\n",
              "      <td>1</td>\n",
              "      <td>9.649953</td>\n",
              "    </tr>\n",
              "    <tr>\n",
              "      <th>5213</th>\n",
              "      <td>0.900517</td>\n",
              "      <td>0200769623</td>\n",
              "      <td>WAL-MAR us</td>\n",
              "      <td>2019.0</td>\n",
              "      <td>1.929812e+09</td>\n",
              "      <td>2019-08-30</td>\n",
              "      <td>2019-08-30</td>\n",
              "      <td>2019-09-14</td>\n",
              "      <td>39806.0600</td>\n",
              "      <td>2019-08-30</td>\n",
              "      <td>0.297426</td>\n",
              "      <td>1.929812e+09</td>\n",
              "      <td>-1</td>\n",
              "      <td>-1.893127</td>\n",
              "      <td>37</td>\n",
              "      <td>9</td>\n",
              "      <td>5</td>\n",
              "      <td>1</td>\n",
              "      <td>10.591774</td>\n",
              "    </tr>\n",
              "    <tr>\n",
              "      <th>26151</th>\n",
              "      <td>0.900517</td>\n",
              "      <td>0200769623</td>\n",
              "      <td>WAL-MAR in</td>\n",
              "      <td>2019.0</td>\n",
              "      <td>1.929813e+09</td>\n",
              "      <td>2019-08-30</td>\n",
              "      <td>2019-08-30</td>\n",
              "      <td>2019-09-14</td>\n",
              "      <td>943.1200</td>\n",
              "      <td>2019-08-30</td>\n",
              "      <td>0.297426</td>\n",
              "      <td>1.929813e+09</td>\n",
              "      <td>-4</td>\n",
              "      <td>-1.893127</td>\n",
              "      <td>37</td>\n",
              "      <td>9</td>\n",
              "      <td>5</td>\n",
              "      <td>1</td>\n",
              "      <td>6.849194</td>\n",
              "    </tr>\n",
              "    <tr>\n",
              "      <th>26537</th>\n",
              "      <td>0.900517</td>\n",
              "      <td>0200769623</td>\n",
              "      <td>WAL-MAR us</td>\n",
              "      <td>2019.0</td>\n",
              "      <td>1.929802e+09</td>\n",
              "      <td>2019-08-30</td>\n",
              "      <td>2019-08-30</td>\n",
              "      <td>2019-09-14</td>\n",
              "      <td>20800.0000</td>\n",
              "      <td>2019-08-30</td>\n",
              "      <td>0.297426</td>\n",
              "      <td>1.929802e+09</td>\n",
              "      <td>3</td>\n",
              "      <td>-1.893127</td>\n",
              "      <td>37</td>\n",
              "      <td>9</td>\n",
              "      <td>5</td>\n",
              "      <td>1</td>\n",
              "      <td>9.942708</td>\n",
              "    </tr>\n",
              "  </tbody>\n",
              "</table>\n",
              "<p>23917 rows × 19 columns</p>\n",
              "</div>"
            ],
            "text/plain": [
              "       business_code cust_number  ... is_weekend   amnt_log\n",
              "37760       0.900517  0200769623  ...          0  10.428521\n",
              "41256       0.900517  0200769623  ...          0  10.850951\n",
              "18049       0.900517  0200769623  ...          0  10.966897\n",
              "41599       0.900517  0200769623  ...          0   7.517265\n",
              "15023       0.081116  0140106408  ...          0  10.953724\n",
              "...              ...         ...  ...        ...        ...\n",
              "39573       0.900517  0200769623  ...          1   9.555864\n",
              "41165       0.900517  0200769623  ...          1   9.649953\n",
              "5213        0.900517  0200769623  ...          1  10.591774\n",
              "26151       0.900517  0200769623  ...          1   6.849194\n",
              "26537       0.900517  0200769623  ...          1   9.942708\n",
              "\n",
              "[23917 rows x 19 columns]"
            ]
          },
          "metadata": {
            "tags": []
          },
          "execution_count": 112
        }
      ]
    },
    {
      "cell_type": "code",
      "metadata": {
        "id": "CX5f9nJT0gHC"
      },
      "source": [
        "clear_date_null['business_code']=clear_date_null['business_code'].map(buss_code)\n",
        "x_test['business_code']=x_test['business_code'].map(buss_code)\n",
        "x_val['business_code']=x_val['business_code'].map(buss_code)"
      ],
      "execution_count": null,
      "outputs": []
    },
    {
      "cell_type": "code",
      "metadata": {
        "colab": {
          "base_uri": "https://localhost:8080/",
          "height": 470
        },
        "id": "5L6rD-Uf0o6A",
        "outputId": "ce5072f8-1688-47fb-d13f-8e21e6c27ccd"
      },
      "source": [
        "x_train"
      ],
      "execution_count": null,
      "outputs": [
        {
          "output_type": "execute_result",
          "data": {
            "text/html": [
              "<div>\n",
              "<style scoped>\n",
              "    .dataframe tbody tr th:only-of-type {\n",
              "        vertical-align: middle;\n",
              "    }\n",
              "\n",
              "    .dataframe tbody tr th {\n",
              "        vertical-align: top;\n",
              "    }\n",
              "\n",
              "    .dataframe thead th {\n",
              "        text-align: right;\n",
              "    }\n",
              "</style>\n",
              "<table border=\"1\" class=\"dataframe\">\n",
              "  <thead>\n",
              "    <tr style=\"text-align: right;\">\n",
              "      <th></th>\n",
              "      <th>business_code</th>\n",
              "      <th>cust_number</th>\n",
              "      <th>name_customer</th>\n",
              "      <th>buisness_year</th>\n",
              "      <th>doc_id</th>\n",
              "      <th>posting_date</th>\n",
              "      <th>document_create_date.1</th>\n",
              "      <th>due_in_date</th>\n",
              "      <th>total_open_amount</th>\n",
              "      <th>baseline_create_date</th>\n",
              "      <th>cust_payment_terms</th>\n",
              "      <th>invoice_id</th>\n",
              "      <th>delay</th>\n",
              "      <th>mean_delay</th>\n",
              "      <th>due_dt_week</th>\n",
              "      <th>due_dt_mon</th>\n",
              "      <th>due_dt_day_of_week</th>\n",
              "      <th>is_weekend</th>\n",
              "      <th>amnt_log</th>\n",
              "    </tr>\n",
              "  </thead>\n",
              "  <tbody>\n",
              "    <tr>\n",
              "      <th>37760</th>\n",
              "      <td>0.900517</td>\n",
              "      <td>0200769623</td>\n",
              "      <td>WAL-MAR in</td>\n",
              "      <td>2019.0</td>\n",
              "      <td>1.928540e+09</td>\n",
              "      <td>2018-12-30</td>\n",
              "      <td>2018-12-30</td>\n",
              "      <td>2019-01-14</td>\n",
              "      <td>33810.3200</td>\n",
              "      <td>2018-12-30</td>\n",
              "      <td>0.297426</td>\n",
              "      <td>1.928540e+09</td>\n",
              "      <td>-5</td>\n",
              "      <td>-1.893127</td>\n",
              "      <td>3</td>\n",
              "      <td>1</td>\n",
              "      <td>0</td>\n",
              "      <td>0</td>\n",
              "      <td>10.428521</td>\n",
              "    </tr>\n",
              "    <tr>\n",
              "      <th>41256</th>\n",
              "      <td>0.900517</td>\n",
              "      <td>0200769623</td>\n",
              "      <td>WAL-MAR corp</td>\n",
              "      <td>2019.0</td>\n",
              "      <td>1.928539e+09</td>\n",
              "      <td>2018-12-30</td>\n",
              "      <td>2018-12-30</td>\n",
              "      <td>2019-01-14</td>\n",
              "      <td>51583.1600</td>\n",
              "      <td>2018-12-30</td>\n",
              "      <td>0.297426</td>\n",
              "      <td>1.928539e+09</td>\n",
              "      <td>-5</td>\n",
              "      <td>-1.893127</td>\n",
              "      <td>3</td>\n",
              "      <td>1</td>\n",
              "      <td>0</td>\n",
              "      <td>0</td>\n",
              "      <td>10.850951</td>\n",
              "    </tr>\n",
              "    <tr>\n",
              "      <th>18049</th>\n",
              "      <td>0.900517</td>\n",
              "      <td>0200769623</td>\n",
              "      <td>WAL-MAR us</td>\n",
              "      <td>2019.0</td>\n",
              "      <td>1.928541e+09</td>\n",
              "      <td>2018-12-30</td>\n",
              "      <td>2018-12-30</td>\n",
              "      <td>2019-01-14</td>\n",
              "      <td>57924.5500</td>\n",
              "      <td>2018-12-30</td>\n",
              "      <td>0.297426</td>\n",
              "      <td>1.928541e+09</td>\n",
              "      <td>-4</td>\n",
              "      <td>-1.893127</td>\n",
              "      <td>3</td>\n",
              "      <td>1</td>\n",
              "      <td>0</td>\n",
              "      <td>0</td>\n",
              "      <td>10.966897</td>\n",
              "    </tr>\n",
              "    <tr>\n",
              "      <th>41599</th>\n",
              "      <td>0.900517</td>\n",
              "      <td>0200769623</td>\n",
              "      <td>WAL-MAR systems</td>\n",
              "      <td>2019.0</td>\n",
              "      <td>1.928531e+09</td>\n",
              "      <td>2018-12-30</td>\n",
              "      <td>2018-12-30</td>\n",
              "      <td>2019-01-14</td>\n",
              "      <td>1839.5300</td>\n",
              "      <td>2018-12-30</td>\n",
              "      <td>0.297426</td>\n",
              "      <td>1.928531e+09</td>\n",
              "      <td>1</td>\n",
              "      <td>-1.893127</td>\n",
              "      <td>3</td>\n",
              "      <td>1</td>\n",
              "      <td>0</td>\n",
              "      <td>0</td>\n",
              "      <td>7.517265</td>\n",
              "    </tr>\n",
              "    <tr>\n",
              "      <th>15023</th>\n",
              "      <td>0.081116</td>\n",
              "      <td>0140106408</td>\n",
              "      <td>WAL-M systems</td>\n",
              "      <td>2019.0</td>\n",
              "      <td>2.960520e+09</td>\n",
              "      <td>2018-12-30</td>\n",
              "      <td>2018-12-30</td>\n",
              "      <td>2019-01-09</td>\n",
              "      <td>57166.5357</td>\n",
              "      <td>2018-12-30</td>\n",
              "      <td>0.078930</td>\n",
              "      <td>2.960520e+09</td>\n",
              "      <td>16</td>\n",
              "      <td>9.420168</td>\n",
              "      <td>2</td>\n",
              "      <td>1</td>\n",
              "      <td>2</td>\n",
              "      <td>0</td>\n",
              "      <td>10.953724</td>\n",
              "    </tr>\n",
              "    <tr>\n",
              "      <th>...</th>\n",
              "      <td>...</td>\n",
              "      <td>...</td>\n",
              "      <td>...</td>\n",
              "      <td>...</td>\n",
              "      <td>...</td>\n",
              "      <td>...</td>\n",
              "      <td>...</td>\n",
              "      <td>...</td>\n",
              "      <td>...</td>\n",
              "      <td>...</td>\n",
              "      <td>...</td>\n",
              "      <td>...</td>\n",
              "      <td>...</td>\n",
              "      <td>...</td>\n",
              "      <td>...</td>\n",
              "      <td>...</td>\n",
              "      <td>...</td>\n",
              "      <td>...</td>\n",
              "      <td>...</td>\n",
              "    </tr>\n",
              "    <tr>\n",
              "      <th>39573</th>\n",
              "      <td>0.900517</td>\n",
              "      <td>0200769623</td>\n",
              "      <td>WAL-MAR llc</td>\n",
              "      <td>2019.0</td>\n",
              "      <td>1.929808e+09</td>\n",
              "      <td>2019-08-30</td>\n",
              "      <td>2019-08-30</td>\n",
              "      <td>2019-09-14</td>\n",
              "      <td>14127.2900</td>\n",
              "      <td>2019-08-30</td>\n",
              "      <td>0.297426</td>\n",
              "      <td>1.929808e+09</td>\n",
              "      <td>-4</td>\n",
              "      <td>-1.893127</td>\n",
              "      <td>37</td>\n",
              "      <td>9</td>\n",
              "      <td>5</td>\n",
              "      <td>1</td>\n",
              "      <td>9.555864</td>\n",
              "    </tr>\n",
              "    <tr>\n",
              "      <th>41165</th>\n",
              "      <td>0.900517</td>\n",
              "      <td>0200769623</td>\n",
              "      <td>WAL-MAR in</td>\n",
              "      <td>2019.0</td>\n",
              "      <td>1.929807e+09</td>\n",
              "      <td>2019-08-30</td>\n",
              "      <td>2019-08-30</td>\n",
              "      <td>2019-09-14</td>\n",
              "      <td>15521.0600</td>\n",
              "      <td>2019-08-30</td>\n",
              "      <td>0.297426</td>\n",
              "      <td>1.929807e+09</td>\n",
              "      <td>-4</td>\n",
              "      <td>-1.893127</td>\n",
              "      <td>37</td>\n",
              "      <td>9</td>\n",
              "      <td>5</td>\n",
              "      <td>1</td>\n",
              "      <td>9.649953</td>\n",
              "    </tr>\n",
              "    <tr>\n",
              "      <th>5213</th>\n",
              "      <td>0.900517</td>\n",
              "      <td>0200769623</td>\n",
              "      <td>WAL-MAR us</td>\n",
              "      <td>2019.0</td>\n",
              "      <td>1.929812e+09</td>\n",
              "      <td>2019-08-30</td>\n",
              "      <td>2019-08-30</td>\n",
              "      <td>2019-09-14</td>\n",
              "      <td>39806.0600</td>\n",
              "      <td>2019-08-30</td>\n",
              "      <td>0.297426</td>\n",
              "      <td>1.929812e+09</td>\n",
              "      <td>-1</td>\n",
              "      <td>-1.893127</td>\n",
              "      <td>37</td>\n",
              "      <td>9</td>\n",
              "      <td>5</td>\n",
              "      <td>1</td>\n",
              "      <td>10.591774</td>\n",
              "    </tr>\n",
              "    <tr>\n",
              "      <th>26151</th>\n",
              "      <td>0.900517</td>\n",
              "      <td>0200769623</td>\n",
              "      <td>WAL-MAR in</td>\n",
              "      <td>2019.0</td>\n",
              "      <td>1.929813e+09</td>\n",
              "      <td>2019-08-30</td>\n",
              "      <td>2019-08-30</td>\n",
              "      <td>2019-09-14</td>\n",
              "      <td>943.1200</td>\n",
              "      <td>2019-08-30</td>\n",
              "      <td>0.297426</td>\n",
              "      <td>1.929813e+09</td>\n",
              "      <td>-4</td>\n",
              "      <td>-1.893127</td>\n",
              "      <td>37</td>\n",
              "      <td>9</td>\n",
              "      <td>5</td>\n",
              "      <td>1</td>\n",
              "      <td>6.849194</td>\n",
              "    </tr>\n",
              "    <tr>\n",
              "      <th>26537</th>\n",
              "      <td>0.900517</td>\n",
              "      <td>0200769623</td>\n",
              "      <td>WAL-MAR us</td>\n",
              "      <td>2019.0</td>\n",
              "      <td>1.929802e+09</td>\n",
              "      <td>2019-08-30</td>\n",
              "      <td>2019-08-30</td>\n",
              "      <td>2019-09-14</td>\n",
              "      <td>20800.0000</td>\n",
              "      <td>2019-08-30</td>\n",
              "      <td>0.297426</td>\n",
              "      <td>1.929802e+09</td>\n",
              "      <td>3</td>\n",
              "      <td>-1.893127</td>\n",
              "      <td>37</td>\n",
              "      <td>9</td>\n",
              "      <td>5</td>\n",
              "      <td>1</td>\n",
              "      <td>9.942708</td>\n",
              "    </tr>\n",
              "  </tbody>\n",
              "</table>\n",
              "<p>23917 rows × 19 columns</p>\n",
              "</div>"
            ],
            "text/plain": [
              "       business_code cust_number  ... is_weekend   amnt_log\n",
              "37760       0.900517  0200769623  ...          0  10.428521\n",
              "41256       0.900517  0200769623  ...          0  10.850951\n",
              "18049       0.900517  0200769623  ...          0  10.966897\n",
              "41599       0.900517  0200769623  ...          0   7.517265\n",
              "15023       0.081116  0140106408  ...          0  10.953724\n",
              "...              ...         ...  ...        ...        ...\n",
              "39573       0.900517  0200769623  ...          1   9.555864\n",
              "41165       0.900517  0200769623  ...          1   9.649953\n",
              "5213        0.900517  0200769623  ...          1  10.591774\n",
              "26151       0.900517  0200769623  ...          1   6.849194\n",
              "26537       0.900517  0200769623  ...          1   9.942708\n",
              "\n",
              "[23917 rows x 19 columns]"
            ]
          },
          "metadata": {
            "tags": []
          },
          "execution_count": 114
        }
      ]
    },
    {
      "cell_type": "markdown",
      "metadata": {
        "id": "wmB50Fg026GJ"
      },
      "source": [
        "### Dropping unncessary columns"
      ]
    },
    {
      "cell_type": "code",
      "metadata": {
        "id": "Z2y7-BbxLbMV"
      },
      "source": [
        "x_train.drop(\"cust_number\",axis=1,inplace=True)\n",
        "x_val.drop(\"cust_number\",axis=1,inplace=True)\n",
        "x_test.drop(\"cust_number\",axis=1,inplace=True)\n",
        "clear_date_null.drop(\"cust_number\",axis=1,inplace=True)"
      ],
      "execution_count": null,
      "outputs": []
    },
    {
      "cell_type": "code",
      "metadata": {
        "id": "PjPDa0ONWHHB"
      },
      "source": [
        "x_train.drop(['posting_date'],axis=1,inplace=True)\n",
        "x_test.drop(['posting_date'],axis=1,inplace=True)\n",
        "x_val.drop(['posting_date'],axis=1,inplace=True)"
      ],
      "execution_count": null,
      "outputs": []
    },
    {
      "cell_type": "code",
      "metadata": {
        "id": "8rOA5CqO8j44"
      },
      "source": [
        "x_train.drop(['name_customer'],axis=1,inplace=True)\n",
        "x_test.drop(['name_customer'],axis=1,inplace=True)\n",
        "x_val.drop(['name_customer'],axis=1,inplace=True)"
      ],
      "execution_count": null,
      "outputs": []
    },
    {
      "cell_type": "code",
      "metadata": {
        "id": "Kv9IJDWe9ZiS"
      },
      "source": [
        "x_train.drop(['buisness_year'],axis=1,inplace=True)\n",
        "x_test.drop(['buisness_year'],axis=1,inplace=True)\n",
        "x_val.drop(['buisness_year'],axis=1,inplace=True)"
      ],
      "execution_count": null,
      "outputs": []
    },
    {
      "cell_type": "code",
      "metadata": {
        "id": "paxMRgYm96A0"
      },
      "source": [
        "x_train.drop(['document_create_date.1'],axis=1,inplace=True)\n",
        "x_test.drop(['document_create_date.1'],axis=1,inplace=True)\n",
        "x_val.drop(['document_create_date.1'],axis=1,inplace=True)"
      ],
      "execution_count": null,
      "outputs": []
    },
    {
      "cell_type": "code",
      "metadata": {
        "id": "xgi54AZj-Cbu"
      },
      "source": [
        "x_train.drop(['due_in_date'],axis=1,inplace=True)\n",
        "x_test.drop(['due_in_date'],axis=1,inplace=True)\n",
        "x_val.drop(['due_in_date'],axis=1,inplace=True)"
      ],
      "execution_count": null,
      "outputs": []
    },
    {
      "cell_type": "code",
      "metadata": {
        "id": "x6yx19T9-QIi"
      },
      "source": [
        "x_train.drop(['total_open_amount'],axis=1,inplace=True)\n",
        "x_test.drop(['total_open_amount'],axis=1,inplace=True)\n",
        "x_val.drop(['total_open_amount'],axis=1,inplace=True)"
      ],
      "execution_count": null,
      "outputs": []
    },
    {
      "cell_type": "code",
      "metadata": {
        "id": "9UXRPJ9--QSj"
      },
      "source": [
        "x_train.drop(['baseline_create_date'],axis=1,inplace=True)\n",
        "x_test.drop(['baseline_create_date'],axis=1,inplace=True)\n",
        "x_val.drop(['baseline_create_date'],axis=1,inplace=True)"
      ],
      "execution_count": null,
      "outputs": []
    },
    {
      "cell_type": "code",
      "metadata": {
        "id": "RvfZUWaf-otq"
      },
      "source": [
        "x_train.drop(['invoice_id'],axis=1,inplace=True)\n",
        "x_test.drop(['invoice_id'],axis=1,inplace=True)\n",
        "x_val.drop(['invoice_id'],axis=1,inplace=True)"
      ],
      "execution_count": null,
      "outputs": []
    },
    {
      "cell_type": "code",
      "metadata": {
        "id": "F7Lhl2i-9yS0"
      },
      "source": [
        "x_train.drop(['doc_id'],axis=1,inplace=True)\n",
        "x_test.drop(['doc_id'],axis=1,inplace=True)\n",
        "x_val.drop(['doc_id'],axis=1,inplace=True)"
      ],
      "execution_count": null,
      "outputs": []
    },
    {
      "cell_type": "code",
      "metadata": {
        "id": "uA6YX7hBEO1e"
      },
      "source": [
        "x_train.drop(['delay'],axis=1,inplace=True)"
      ],
      "execution_count": null,
      "outputs": []
    },
    {
      "cell_type": "code",
      "metadata": {
        "id": "z0VJB3UDB9yx"
      },
      "source": [
        "clear_date_null.drop(['doc_id', 'invoice_id', 'document_create_date.1','due_in_date', 'invoice_currency', 'buisness_year'],axis=1,inplace=True)"
      ],
      "execution_count": null,
      "outputs": []
    },
    {
      "cell_type": "code",
      "metadata": {
        "id": "1ybDMBRxC3ez"
      },
      "source": [
        "clear_date_null.drop(['total_open_amount', 'baseline_create_date', 'document type', 'isOpen'],axis=1,inplace=True)"
      ],
      "execution_count": null,
      "outputs": []
    },
    {
      "cell_type": "code",
      "metadata": {
        "id": "oGOdF2MXOvVm"
      },
      "source": [
        "clear_date_null.drop(['name_customer'],axis=1,inplace=True)"
      ],
      "execution_count": null,
      "outputs": []
    },
    {
      "cell_type": "code",
      "metadata": {
        "id": "hTyQh0HAM7l5"
      },
      "source": [
        "\n",
        "x_train['is_weekend']=np.where(x_train['due_dt_day_of_week']>3,1,0)\n",
        "x_val['is_weekend']=np.where(x_val['due_dt_day_of_week']>3,1,0)\n",
        "x_test['is_weekend']=np.where(x_test['due_dt_day_of_week']>3,1,0)\n",
        "clear_date_null['is_weekend']=np.where(clear_date_null['due_dt_day_of_week']>3,1,0)"
      ],
      "execution_count": null,
      "outputs": []
    },
    {
      "cell_type": "code",
      "metadata": {
        "id": "g2JlrZyoNKci",
        "colab": {
          "base_uri": "https://localhost:8080/",
          "height": 203
        },
        "outputId": "dfd813e6-4dbe-41d9-af77-0872e5480bf9"
      },
      "source": [
        "x_train.head()"
      ],
      "execution_count": null,
      "outputs": [
        {
          "output_type": "execute_result",
          "data": {
            "text/html": [
              "<div>\n",
              "<style scoped>\n",
              "    .dataframe tbody tr th:only-of-type {\n",
              "        vertical-align: middle;\n",
              "    }\n",
              "\n",
              "    .dataframe tbody tr th {\n",
              "        vertical-align: top;\n",
              "    }\n",
              "\n",
              "    .dataframe thead th {\n",
              "        text-align: right;\n",
              "    }\n",
              "</style>\n",
              "<table border=\"1\" class=\"dataframe\">\n",
              "  <thead>\n",
              "    <tr style=\"text-align: right;\">\n",
              "      <th></th>\n",
              "      <th>business_code</th>\n",
              "      <th>cust_payment_terms</th>\n",
              "      <th>mean_delay</th>\n",
              "      <th>due_dt_week</th>\n",
              "      <th>due_dt_mon</th>\n",
              "      <th>due_dt_day_of_week</th>\n",
              "      <th>is_weekend</th>\n",
              "      <th>amnt_log</th>\n",
              "    </tr>\n",
              "  </thead>\n",
              "  <tbody>\n",
              "    <tr>\n",
              "      <th>37760</th>\n",
              "      <td>0.900517</td>\n",
              "      <td>0.297426</td>\n",
              "      <td>-1.893127</td>\n",
              "      <td>3</td>\n",
              "      <td>1</td>\n",
              "      <td>0</td>\n",
              "      <td>0</td>\n",
              "      <td>10.428521</td>\n",
              "    </tr>\n",
              "    <tr>\n",
              "      <th>41256</th>\n",
              "      <td>0.900517</td>\n",
              "      <td>0.297426</td>\n",
              "      <td>-1.893127</td>\n",
              "      <td>3</td>\n",
              "      <td>1</td>\n",
              "      <td>0</td>\n",
              "      <td>0</td>\n",
              "      <td>10.850951</td>\n",
              "    </tr>\n",
              "    <tr>\n",
              "      <th>18049</th>\n",
              "      <td>0.900517</td>\n",
              "      <td>0.297426</td>\n",
              "      <td>-1.893127</td>\n",
              "      <td>3</td>\n",
              "      <td>1</td>\n",
              "      <td>0</td>\n",
              "      <td>0</td>\n",
              "      <td>10.966897</td>\n",
              "    </tr>\n",
              "    <tr>\n",
              "      <th>41599</th>\n",
              "      <td>0.900517</td>\n",
              "      <td>0.297426</td>\n",
              "      <td>-1.893127</td>\n",
              "      <td>3</td>\n",
              "      <td>1</td>\n",
              "      <td>0</td>\n",
              "      <td>0</td>\n",
              "      <td>7.517265</td>\n",
              "    </tr>\n",
              "    <tr>\n",
              "      <th>15023</th>\n",
              "      <td>0.081116</td>\n",
              "      <td>0.078930</td>\n",
              "      <td>9.420168</td>\n",
              "      <td>2</td>\n",
              "      <td>1</td>\n",
              "      <td>2</td>\n",
              "      <td>0</td>\n",
              "      <td>10.953724</td>\n",
              "    </tr>\n",
              "  </tbody>\n",
              "</table>\n",
              "</div>"
            ],
            "text/plain": [
              "       business_code  cust_payment_terms  ...  is_weekend   amnt_log\n",
              "37760       0.900517            0.297426  ...           0  10.428521\n",
              "41256       0.900517            0.297426  ...           0  10.850951\n",
              "18049       0.900517            0.297426  ...           0  10.966897\n",
              "41599       0.900517            0.297426  ...           0   7.517265\n",
              "15023       0.081116            0.078930  ...           0  10.953724\n",
              "\n",
              "[5 rows x 8 columns]"
            ]
          },
          "metadata": {
            "tags": []
          },
          "execution_count": 130
        }
      ]
    },
    {
      "cell_type": "code",
      "metadata": {
        "id": "W72XeoY7Rgr2"
      },
      "source": [
        "clear_date_null.drop(['posting_date'],axis=1,inplace=True)"
      ],
      "execution_count": null,
      "outputs": []
    },
    {
      "cell_type": "code",
      "metadata": {
        "id": "KwM9kETKSACT"
      },
      "source": [
        "clear_date_null.drop(['posting_id'],axis=1,inplace=True)"
      ],
      "execution_count": null,
      "outputs": []
    },
    {
      "cell_type": "code",
      "metadata": {
        "id": "SCBohffKN0si",
        "colab": {
          "base_uri": "https://localhost:8080/",
          "height": 203
        },
        "outputId": "7be8f26c-c0a0-4e74-83b2-3f3cd447c14d"
      },
      "source": [
        "clear_date_null.head()"
      ],
      "execution_count": null,
      "outputs": [
        {
          "output_type": "execute_result",
          "data": {
            "text/html": [
              "<div>\n",
              "<style scoped>\n",
              "    .dataframe tbody tr th:only-of-type {\n",
              "        vertical-align: middle;\n",
              "    }\n",
              "\n",
              "    .dataframe tbody tr th {\n",
              "        vertical-align: top;\n",
              "    }\n",
              "\n",
              "    .dataframe thead th {\n",
              "        text-align: right;\n",
              "    }\n",
              "</style>\n",
              "<table border=\"1\" class=\"dataframe\">\n",
              "  <thead>\n",
              "    <tr style=\"text-align: right;\">\n",
              "      <th></th>\n",
              "      <th>business_code</th>\n",
              "      <th>cust_payment_terms</th>\n",
              "      <th>mean_delay</th>\n",
              "      <th>due_dt_week</th>\n",
              "      <th>due_dt_mon</th>\n",
              "      <th>due_dt_day_of_week</th>\n",
              "      <th>amnt_log</th>\n",
              "      <th>is_weekend</th>\n",
              "    </tr>\n",
              "  </thead>\n",
              "  <tbody>\n",
              "    <tr>\n",
              "      <th>2</th>\n",
              "      <td>0.900517</td>\n",
              "      <td>0.401007</td>\n",
              "      <td>3.863309</td>\n",
              "      <td>15</td>\n",
              "      <td>4</td>\n",
              "      <td>5</td>\n",
              "      <td>8.944360</td>\n",
              "      <td>1</td>\n",
              "    </tr>\n",
              "    <tr>\n",
              "      <th>3</th>\n",
              "      <td>0.900517</td>\n",
              "      <td>0.401007</td>\n",
              "      <td>1.348837</td>\n",
              "      <td>18</td>\n",
              "      <td>4</td>\n",
              "      <td>3</td>\n",
              "      <td>9.878669</td>\n",
              "      <td>0</td>\n",
              "    </tr>\n",
              "    <tr>\n",
              "      <th>7</th>\n",
              "      <td>0.900517</td>\n",
              "      <td>0.401007</td>\n",
              "      <td>0.795918</td>\n",
              "      <td>18</td>\n",
              "      <td>4</td>\n",
              "      <td>0</td>\n",
              "      <td>10.271948</td>\n",
              "      <td>0</td>\n",
              "    </tr>\n",
              "    <tr>\n",
              "      <th>10</th>\n",
              "      <td>0.900517</td>\n",
              "      <td>0.174988</td>\n",
              "      <td>-5.042857</td>\n",
              "      <td>10</td>\n",
              "      <td>3</td>\n",
              "      <td>6</td>\n",
              "      <td>8.391206</td>\n",
              "      <td>1</td>\n",
              "    </tr>\n",
              "    <tr>\n",
              "      <th>16</th>\n",
              "      <td>0.900517</td>\n",
              "      <td>0.297426</td>\n",
              "      <td>-1.893127</td>\n",
              "      <td>15</td>\n",
              "      <td>4</td>\n",
              "      <td>6</td>\n",
              "      <td>9.484565</td>\n",
              "      <td>1</td>\n",
              "    </tr>\n",
              "  </tbody>\n",
              "</table>\n",
              "</div>"
            ],
            "text/plain": [
              "    business_code  cust_payment_terms  ...   amnt_log  is_weekend\n",
              "2        0.900517            0.401007  ...   8.944360           1\n",
              "3        0.900517            0.401007  ...   9.878669           0\n",
              "7        0.900517            0.401007  ...  10.271948           0\n",
              "10       0.900517            0.174988  ...   8.391206           1\n",
              "16       0.900517            0.297426  ...   9.484565           1\n",
              "\n",
              "[5 rows x 8 columns]"
            ]
          },
          "metadata": {
            "tags": []
          },
          "execution_count": 133
        }
      ]
    },
    {
      "cell_type": "code",
      "metadata": {
        "id": "ctg_5RHTN92-",
        "colab": {
          "base_uri": "https://localhost:8080/"
        },
        "outputId": "de922a84-f227-4c6f-fd9f-ea21d3541586"
      },
      "source": [
        "clear_date_null.shape"
      ],
      "execution_count": null,
      "outputs": [
        {
          "output_type": "execute_result",
          "data": {
            "text/plain": [
              "(10000, 8)"
            ]
          },
          "metadata": {
            "tags": []
          },
          "execution_count": 134
        }
      ]
    },
    {
      "cell_type": "code",
      "metadata": {
        "id": "V0mcAlH1RG2e",
        "colab": {
          "base_uri": "https://localhost:8080/"
        },
        "outputId": "76925a55-8748-4e75-85c0-0b3495a7de46"
      },
      "source": [
        "x_train.shape"
      ],
      "execution_count": null,
      "outputs": [
        {
          "output_type": "execute_result",
          "data": {
            "text/plain": [
              "(23917, 8)"
            ]
          },
          "metadata": {
            "tags": []
          },
          "execution_count": 135
        }
      ]
    },
    {
      "cell_type": "code",
      "metadata": {
        "colab": {
          "base_uri": "https://localhost:8080/",
          "height": 417
        },
        "id": "P1pZKloQBwah",
        "outputId": "4dca905f-5f3f-4067-a255-0657c3e2a3f0"
      },
      "source": [
        "x_train"
      ],
      "execution_count": null,
      "outputs": [
        {
          "output_type": "execute_result",
          "data": {
            "text/html": [
              "<div>\n",
              "<style scoped>\n",
              "    .dataframe tbody tr th:only-of-type {\n",
              "        vertical-align: middle;\n",
              "    }\n",
              "\n",
              "    .dataframe tbody tr th {\n",
              "        vertical-align: top;\n",
              "    }\n",
              "\n",
              "    .dataframe thead th {\n",
              "        text-align: right;\n",
              "    }\n",
              "</style>\n",
              "<table border=\"1\" class=\"dataframe\">\n",
              "  <thead>\n",
              "    <tr style=\"text-align: right;\">\n",
              "      <th></th>\n",
              "      <th>business_code</th>\n",
              "      <th>cust_payment_terms</th>\n",
              "      <th>mean_delay</th>\n",
              "      <th>due_dt_week</th>\n",
              "      <th>due_dt_mon</th>\n",
              "      <th>due_dt_day_of_week</th>\n",
              "      <th>is_weekend</th>\n",
              "      <th>amnt_log</th>\n",
              "    </tr>\n",
              "  </thead>\n",
              "  <tbody>\n",
              "    <tr>\n",
              "      <th>37760</th>\n",
              "      <td>0.900517</td>\n",
              "      <td>0.297426</td>\n",
              "      <td>-1.893127</td>\n",
              "      <td>3</td>\n",
              "      <td>1</td>\n",
              "      <td>0</td>\n",
              "      <td>0</td>\n",
              "      <td>10.428521</td>\n",
              "    </tr>\n",
              "    <tr>\n",
              "      <th>41256</th>\n",
              "      <td>0.900517</td>\n",
              "      <td>0.297426</td>\n",
              "      <td>-1.893127</td>\n",
              "      <td>3</td>\n",
              "      <td>1</td>\n",
              "      <td>0</td>\n",
              "      <td>0</td>\n",
              "      <td>10.850951</td>\n",
              "    </tr>\n",
              "    <tr>\n",
              "      <th>18049</th>\n",
              "      <td>0.900517</td>\n",
              "      <td>0.297426</td>\n",
              "      <td>-1.893127</td>\n",
              "      <td>3</td>\n",
              "      <td>1</td>\n",
              "      <td>0</td>\n",
              "      <td>0</td>\n",
              "      <td>10.966897</td>\n",
              "    </tr>\n",
              "    <tr>\n",
              "      <th>41599</th>\n",
              "      <td>0.900517</td>\n",
              "      <td>0.297426</td>\n",
              "      <td>-1.893127</td>\n",
              "      <td>3</td>\n",
              "      <td>1</td>\n",
              "      <td>0</td>\n",
              "      <td>0</td>\n",
              "      <td>7.517265</td>\n",
              "    </tr>\n",
              "    <tr>\n",
              "      <th>15023</th>\n",
              "      <td>0.081116</td>\n",
              "      <td>0.078930</td>\n",
              "      <td>9.420168</td>\n",
              "      <td>2</td>\n",
              "      <td>1</td>\n",
              "      <td>2</td>\n",
              "      <td>0</td>\n",
              "      <td>10.953724</td>\n",
              "    </tr>\n",
              "    <tr>\n",
              "      <th>...</th>\n",
              "      <td>...</td>\n",
              "      <td>...</td>\n",
              "      <td>...</td>\n",
              "      <td>...</td>\n",
              "      <td>...</td>\n",
              "      <td>...</td>\n",
              "      <td>...</td>\n",
              "      <td>...</td>\n",
              "    </tr>\n",
              "    <tr>\n",
              "      <th>39573</th>\n",
              "      <td>0.900517</td>\n",
              "      <td>0.297426</td>\n",
              "      <td>-1.893127</td>\n",
              "      <td>37</td>\n",
              "      <td>9</td>\n",
              "      <td>5</td>\n",
              "      <td>1</td>\n",
              "      <td>9.555864</td>\n",
              "    </tr>\n",
              "    <tr>\n",
              "      <th>41165</th>\n",
              "      <td>0.900517</td>\n",
              "      <td>0.297426</td>\n",
              "      <td>-1.893127</td>\n",
              "      <td>37</td>\n",
              "      <td>9</td>\n",
              "      <td>5</td>\n",
              "      <td>1</td>\n",
              "      <td>9.649953</td>\n",
              "    </tr>\n",
              "    <tr>\n",
              "      <th>5213</th>\n",
              "      <td>0.900517</td>\n",
              "      <td>0.297426</td>\n",
              "      <td>-1.893127</td>\n",
              "      <td>37</td>\n",
              "      <td>9</td>\n",
              "      <td>5</td>\n",
              "      <td>1</td>\n",
              "      <td>10.591774</td>\n",
              "    </tr>\n",
              "    <tr>\n",
              "      <th>26151</th>\n",
              "      <td>0.900517</td>\n",
              "      <td>0.297426</td>\n",
              "      <td>-1.893127</td>\n",
              "      <td>37</td>\n",
              "      <td>9</td>\n",
              "      <td>5</td>\n",
              "      <td>1</td>\n",
              "      <td>6.849194</td>\n",
              "    </tr>\n",
              "    <tr>\n",
              "      <th>26537</th>\n",
              "      <td>0.900517</td>\n",
              "      <td>0.297426</td>\n",
              "      <td>-1.893127</td>\n",
              "      <td>37</td>\n",
              "      <td>9</td>\n",
              "      <td>5</td>\n",
              "      <td>1</td>\n",
              "      <td>9.942708</td>\n",
              "    </tr>\n",
              "  </tbody>\n",
              "</table>\n",
              "<p>23917 rows × 8 columns</p>\n",
              "</div>"
            ],
            "text/plain": [
              "       business_code  cust_payment_terms  ...  is_weekend   amnt_log\n",
              "37760       0.900517            0.297426  ...           0  10.428521\n",
              "41256       0.900517            0.297426  ...           0  10.850951\n",
              "18049       0.900517            0.297426  ...           0  10.966897\n",
              "41599       0.900517            0.297426  ...           0   7.517265\n",
              "15023       0.081116            0.078930  ...           0  10.953724\n",
              "...              ...                 ...  ...         ...        ...\n",
              "39573       0.900517            0.297426  ...           1   9.555864\n",
              "41165       0.900517            0.297426  ...           1   9.649953\n",
              "5213        0.900517            0.297426  ...           1  10.591774\n",
              "26151       0.900517            0.297426  ...           1   6.849194\n",
              "26537       0.900517            0.297426  ...           1   9.942708\n",
              "\n",
              "[23917 rows x 8 columns]"
            ]
          },
          "metadata": {
            "tags": []
          },
          "execution_count": 136
        }
      ]
    },
    {
      "cell_type": "code",
      "metadata": {
        "colab": {
          "base_uri": "https://localhost:8080/",
          "height": 417
        },
        "id": "zASGJUi_ByJf",
        "outputId": "414ecff8-088a-461b-a347-aa1216eb3fd6"
      },
      "source": [
        "x_test"
      ],
      "execution_count": null,
      "outputs": [
        {
          "output_type": "execute_result",
          "data": {
            "text/html": [
              "<div>\n",
              "<style scoped>\n",
              "    .dataframe tbody tr th:only-of-type {\n",
              "        vertical-align: middle;\n",
              "    }\n",
              "\n",
              "    .dataframe tbody tr th {\n",
              "        vertical-align: top;\n",
              "    }\n",
              "\n",
              "    .dataframe thead th {\n",
              "        text-align: right;\n",
              "    }\n",
              "</style>\n",
              "<table border=\"1\" class=\"dataframe\">\n",
              "  <thead>\n",
              "    <tr style=\"text-align: right;\">\n",
              "      <th></th>\n",
              "      <th>business_code</th>\n",
              "      <th>cust_payment_terms</th>\n",
              "      <th>mean_delay</th>\n",
              "      <th>due_dt_week</th>\n",
              "      <th>due_dt_mon</th>\n",
              "      <th>due_dt_day_of_week</th>\n",
              "      <th>is_weekend</th>\n",
              "      <th>amnt_log</th>\n",
              "    </tr>\n",
              "  </thead>\n",
              "  <tbody>\n",
              "    <tr>\n",
              "      <th>47753</th>\n",
              "      <td>0.900517</td>\n",
              "      <td>0.401007</td>\n",
              "      <td>0.187500</td>\n",
              "      <td>49</td>\n",
              "      <td>12</td>\n",
              "      <td>3</td>\n",
              "      <td>0</td>\n",
              "      <td>9.945226</td>\n",
              "    </tr>\n",
              "    <tr>\n",
              "      <th>1771</th>\n",
              "      <td>0.900517</td>\n",
              "      <td>0.297426</td>\n",
              "      <td>-1.893127</td>\n",
              "      <td>49</td>\n",
              "      <td>12</td>\n",
              "      <td>3</td>\n",
              "      <td>0</td>\n",
              "      <td>10.236402</td>\n",
              "    </tr>\n",
              "    <tr>\n",
              "      <th>992</th>\n",
              "      <td>0.900517</td>\n",
              "      <td>0.297426</td>\n",
              "      <td>-1.893127</td>\n",
              "      <td>49</td>\n",
              "      <td>12</td>\n",
              "      <td>3</td>\n",
              "      <td>0</td>\n",
              "      <td>6.988616</td>\n",
              "    </tr>\n",
              "    <tr>\n",
              "      <th>44234</th>\n",
              "      <td>0.900517</td>\n",
              "      <td>0.401007</td>\n",
              "      <td>1.600000</td>\n",
              "      <td>49</td>\n",
              "      <td>12</td>\n",
              "      <td>3</td>\n",
              "      <td>0</td>\n",
              "      <td>10.924308</td>\n",
              "    </tr>\n",
              "    <tr>\n",
              "      <th>422</th>\n",
              "      <td>0.900517</td>\n",
              "      <td>0.297426</td>\n",
              "      <td>-1.893127</td>\n",
              "      <td>49</td>\n",
              "      <td>12</td>\n",
              "      <td>3</td>\n",
              "      <td>0</td>\n",
              "      <td>9.990913</td>\n",
              "    </tr>\n",
              "    <tr>\n",
              "      <th>...</th>\n",
              "      <td>...</td>\n",
              "      <td>...</td>\n",
              "      <td>...</td>\n",
              "      <td>...</td>\n",
              "      <td>...</td>\n",
              "      <td>...</td>\n",
              "      <td>...</td>\n",
              "      <td>...</td>\n",
              "    </tr>\n",
              "    <tr>\n",
              "      <th>16221</th>\n",
              "      <td>0.081116</td>\n",
              "      <td>0.078930</td>\n",
              "      <td>5.876190</td>\n",
              "      <td>12</td>\n",
              "      <td>3</td>\n",
              "      <td>0</td>\n",
              "      <td>0</td>\n",
              "      <td>6.661138</td>\n",
              "    </tr>\n",
              "    <tr>\n",
              "      <th>21835</th>\n",
              "      <td>0.900517</td>\n",
              "      <td>0.024775</td>\n",
              "      <td>-1.204868</td>\n",
              "      <td>11</td>\n",
              "      <td>3</td>\n",
              "      <td>4</td>\n",
              "      <td>1</td>\n",
              "      <td>9.081721</td>\n",
              "    </tr>\n",
              "    <tr>\n",
              "      <th>29213</th>\n",
              "      <td>0.900517</td>\n",
              "      <td>0.401007</td>\n",
              "      <td>5.550000</td>\n",
              "      <td>11</td>\n",
              "      <td>3</td>\n",
              "      <td>4</td>\n",
              "      <td>1</td>\n",
              "      <td>10.693379</td>\n",
              "    </tr>\n",
              "    <tr>\n",
              "      <th>6084</th>\n",
              "      <td>0.900517</td>\n",
              "      <td>0.174988</td>\n",
              "      <td>2.437500</td>\n",
              "      <td>18</td>\n",
              "      <td>5</td>\n",
              "      <td>5</td>\n",
              "      <td>1</td>\n",
              "      <td>9.284590</td>\n",
              "    </tr>\n",
              "    <tr>\n",
              "      <th>32208</th>\n",
              "      <td>0.900517</td>\n",
              "      <td>0.297426</td>\n",
              "      <td>1.131810</td>\n",
              "      <td>11</td>\n",
              "      <td>3</td>\n",
              "      <td>4</td>\n",
              "      <td>1</td>\n",
              "      <td>9.694091</td>\n",
              "    </tr>\n",
              "  </tbody>\n",
              "</table>\n",
              "<p>7973 rows × 8 columns</p>\n",
              "</div>"
            ],
            "text/plain": [
              "       business_code  cust_payment_terms  ...  is_weekend   amnt_log\n",
              "47753       0.900517            0.401007  ...           0   9.945226\n",
              "1771        0.900517            0.297426  ...           0  10.236402\n",
              "992         0.900517            0.297426  ...           0   6.988616\n",
              "44234       0.900517            0.401007  ...           0  10.924308\n",
              "422         0.900517            0.297426  ...           0   9.990913\n",
              "...              ...                 ...  ...         ...        ...\n",
              "16221       0.081116            0.078930  ...           0   6.661138\n",
              "21835       0.900517            0.024775  ...           1   9.081721\n",
              "29213       0.900517            0.401007  ...           1  10.693379\n",
              "6084        0.900517            0.174988  ...           1   9.284590\n",
              "32208       0.900517            0.297426  ...           1   9.694091\n",
              "\n",
              "[7973 rows x 8 columns]"
            ]
          },
          "metadata": {
            "tags": []
          },
          "execution_count": 137
        }
      ]
    },
    {
      "cell_type": "code",
      "metadata": {
        "colab": {
          "base_uri": "https://localhost:8080/",
          "height": 417
        },
        "id": "gNi9LPy-B0Sx",
        "outputId": "2e78e8ad-63d3-446c-fed9-0bb287cdb67c"
      },
      "source": [
        "x_val"
      ],
      "execution_count": null,
      "outputs": [
        {
          "output_type": "execute_result",
          "data": {
            "text/html": [
              "<div>\n",
              "<style scoped>\n",
              "    .dataframe tbody tr th:only-of-type {\n",
              "        vertical-align: middle;\n",
              "    }\n",
              "\n",
              "    .dataframe tbody tr th {\n",
              "        vertical-align: top;\n",
              "    }\n",
              "\n",
              "    .dataframe thead th {\n",
              "        text-align: right;\n",
              "    }\n",
              "</style>\n",
              "<table border=\"1\" class=\"dataframe\">\n",
              "  <thead>\n",
              "    <tr style=\"text-align: right;\">\n",
              "      <th></th>\n",
              "      <th>business_code</th>\n",
              "      <th>cust_payment_terms</th>\n",
              "      <th>mean_delay</th>\n",
              "      <th>due_dt_week</th>\n",
              "      <th>due_dt_mon</th>\n",
              "      <th>due_dt_day_of_week</th>\n",
              "      <th>is_weekend</th>\n",
              "      <th>amnt_log</th>\n",
              "    </tr>\n",
              "  </thead>\n",
              "  <tbody>\n",
              "    <tr>\n",
              "      <th>46281</th>\n",
              "      <td>0.018367</td>\n",
              "      <td>0.174988</td>\n",
              "      <td>3.428571</td>\n",
              "      <td>39</td>\n",
              "      <td>9</td>\n",
              "      <td>6</td>\n",
              "      <td>1</td>\n",
              "      <td>10.545809</td>\n",
              "    </tr>\n",
              "    <tr>\n",
              "      <th>26158</th>\n",
              "      <td>0.900517</td>\n",
              "      <td>0.297426</td>\n",
              "      <td>1.131810</td>\n",
              "      <td>37</td>\n",
              "      <td>9</td>\n",
              "      <td>5</td>\n",
              "      <td>1</td>\n",
              "      <td>9.590469</td>\n",
              "    </tr>\n",
              "    <tr>\n",
              "      <th>4433</th>\n",
              "      <td>0.900517</td>\n",
              "      <td>0.174988</td>\n",
              "      <td>1.433333</td>\n",
              "      <td>44</td>\n",
              "      <td>11</td>\n",
              "      <td>6</td>\n",
              "      <td>1</td>\n",
              "      <td>11.102455</td>\n",
              "    </tr>\n",
              "    <tr>\n",
              "      <th>38483</th>\n",
              "      <td>0.900517</td>\n",
              "      <td>0.174988</td>\n",
              "      <td>0.524752</td>\n",
              "      <td>40</td>\n",
              "      <td>10</td>\n",
              "      <td>1</td>\n",
              "      <td>0</td>\n",
              "      <td>10.124742</td>\n",
              "    </tr>\n",
              "    <tr>\n",
              "      <th>21889</th>\n",
              "      <td>0.018367</td>\n",
              "      <td>0.174988</td>\n",
              "      <td>3.428571</td>\n",
              "      <td>39</td>\n",
              "      <td>9</td>\n",
              "      <td>6</td>\n",
              "      <td>1</td>\n",
              "      <td>11.076697</td>\n",
              "    </tr>\n",
              "    <tr>\n",
              "      <th>...</th>\n",
              "      <td>...</td>\n",
              "      <td>...</td>\n",
              "      <td>...</td>\n",
              "      <td>...</td>\n",
              "      <td>...</td>\n",
              "      <td>...</td>\n",
              "      <td>...</td>\n",
              "      <td>...</td>\n",
              "    </tr>\n",
              "    <tr>\n",
              "      <th>18946</th>\n",
              "      <td>0.900517</td>\n",
              "      <td>0.035143</td>\n",
              "      <td>0.373512</td>\n",
              "      <td>49</td>\n",
              "      <td>12</td>\n",
              "      <td>3</td>\n",
              "      <td>0</td>\n",
              "      <td>11.236848</td>\n",
              "    </tr>\n",
              "    <tr>\n",
              "      <th>10602</th>\n",
              "      <td>0.900517</td>\n",
              "      <td>0.297426</td>\n",
              "      <td>-1.893127</td>\n",
              "      <td>49</td>\n",
              "      <td>12</td>\n",
              "      <td>3</td>\n",
              "      <td>0</td>\n",
              "      <td>9.639956</td>\n",
              "    </tr>\n",
              "    <tr>\n",
              "      <th>22262</th>\n",
              "      <td>0.081116</td>\n",
              "      <td>0.078930</td>\n",
              "      <td>2.895833</td>\n",
              "      <td>49</td>\n",
              "      <td>12</td>\n",
              "      <td>0</td>\n",
              "      <td>0</td>\n",
              "      <td>8.991834</td>\n",
              "    </tr>\n",
              "    <tr>\n",
              "      <th>35159</th>\n",
              "      <td>0.900517</td>\n",
              "      <td>0.401007</td>\n",
              "      <td>-0.083333</td>\n",
              "      <td>49</td>\n",
              "      <td>12</td>\n",
              "      <td>3</td>\n",
              "      <td>0</td>\n",
              "      <td>9.300198</td>\n",
              "    </tr>\n",
              "    <tr>\n",
              "      <th>42926</th>\n",
              "      <td>0.900517</td>\n",
              "      <td>0.401007</td>\n",
              "      <td>0.777070</td>\n",
              "      <td>49</td>\n",
              "      <td>12</td>\n",
              "      <td>3</td>\n",
              "      <td>0</td>\n",
              "      <td>8.194790</td>\n",
              "    </tr>\n",
              "  </tbody>\n",
              "</table>\n",
              "<p>7973 rows × 8 columns</p>\n",
              "</div>"
            ],
            "text/plain": [
              "       business_code  cust_payment_terms  ...  is_weekend   amnt_log\n",
              "46281       0.018367            0.174988  ...           1  10.545809\n",
              "26158       0.900517            0.297426  ...           1   9.590469\n",
              "4433        0.900517            0.174988  ...           1  11.102455\n",
              "38483       0.900517            0.174988  ...           0  10.124742\n",
              "21889       0.018367            0.174988  ...           1  11.076697\n",
              "...              ...                 ...  ...         ...        ...\n",
              "18946       0.900517            0.035143  ...           0  11.236848\n",
              "10602       0.900517            0.297426  ...           0   9.639956\n",
              "22262       0.081116            0.078930  ...           0   8.991834\n",
              "35159       0.900517            0.401007  ...           0   9.300198\n",
              "42926       0.900517            0.401007  ...           0   8.194790\n",
              "\n",
              "[7973 rows x 8 columns]"
            ]
          },
          "metadata": {
            "tags": []
          },
          "execution_count": 138
        }
      ]
    },
    {
      "cell_type": "code",
      "metadata": {
        "colab": {
          "base_uri": "https://localhost:8080/",
          "height": 417
        },
        "id": "5_zGCYPnB13x",
        "outputId": "359e2707-0d9e-421a-d191-65d48272eebd"
      },
      "source": [
        "clear_date_null"
      ],
      "execution_count": null,
      "outputs": [
        {
          "output_type": "execute_result",
          "data": {
            "text/html": [
              "<div>\n",
              "<style scoped>\n",
              "    .dataframe tbody tr th:only-of-type {\n",
              "        vertical-align: middle;\n",
              "    }\n",
              "\n",
              "    .dataframe tbody tr th {\n",
              "        vertical-align: top;\n",
              "    }\n",
              "\n",
              "    .dataframe thead th {\n",
              "        text-align: right;\n",
              "    }\n",
              "</style>\n",
              "<table border=\"1\" class=\"dataframe\">\n",
              "  <thead>\n",
              "    <tr style=\"text-align: right;\">\n",
              "      <th></th>\n",
              "      <th>business_code</th>\n",
              "      <th>cust_payment_terms</th>\n",
              "      <th>mean_delay</th>\n",
              "      <th>due_dt_week</th>\n",
              "      <th>due_dt_mon</th>\n",
              "      <th>due_dt_day_of_week</th>\n",
              "      <th>amnt_log</th>\n",
              "      <th>is_weekend</th>\n",
              "    </tr>\n",
              "  </thead>\n",
              "  <tbody>\n",
              "    <tr>\n",
              "      <th>2</th>\n",
              "      <td>0.900517</td>\n",
              "      <td>0.401007</td>\n",
              "      <td>3.863309</td>\n",
              "      <td>15</td>\n",
              "      <td>4</td>\n",
              "      <td>5</td>\n",
              "      <td>8.944360</td>\n",
              "      <td>1</td>\n",
              "    </tr>\n",
              "    <tr>\n",
              "      <th>3</th>\n",
              "      <td>0.900517</td>\n",
              "      <td>0.401007</td>\n",
              "      <td>1.348837</td>\n",
              "      <td>18</td>\n",
              "      <td>4</td>\n",
              "      <td>3</td>\n",
              "      <td>9.878669</td>\n",
              "      <td>0</td>\n",
              "    </tr>\n",
              "    <tr>\n",
              "      <th>7</th>\n",
              "      <td>0.900517</td>\n",
              "      <td>0.401007</td>\n",
              "      <td>0.795918</td>\n",
              "      <td>18</td>\n",
              "      <td>4</td>\n",
              "      <td>0</td>\n",
              "      <td>10.271948</td>\n",
              "      <td>0</td>\n",
              "    </tr>\n",
              "    <tr>\n",
              "      <th>10</th>\n",
              "      <td>0.900517</td>\n",
              "      <td>0.174988</td>\n",
              "      <td>-5.042857</td>\n",
              "      <td>10</td>\n",
              "      <td>3</td>\n",
              "      <td>6</td>\n",
              "      <td>8.391206</td>\n",
              "      <td>1</td>\n",
              "    </tr>\n",
              "    <tr>\n",
              "      <th>16</th>\n",
              "      <td>0.900517</td>\n",
              "      <td>0.297426</td>\n",
              "      <td>-1.893127</td>\n",
              "      <td>15</td>\n",
              "      <td>4</td>\n",
              "      <td>6</td>\n",
              "      <td>9.484565</td>\n",
              "      <td>1</td>\n",
              "    </tr>\n",
              "    <tr>\n",
              "      <th>...</th>\n",
              "      <td>...</td>\n",
              "      <td>...</td>\n",
              "      <td>...</td>\n",
              "      <td>...</td>\n",
              "      <td>...</td>\n",
              "      <td>...</td>\n",
              "      <td>...</td>\n",
              "      <td>...</td>\n",
              "    </tr>\n",
              "    <tr>\n",
              "      <th>49961</th>\n",
              "      <td>0.900517</td>\n",
              "      <td>0.297426</td>\n",
              "      <td>-2.072488</td>\n",
              "      <td>21</td>\n",
              "      <td>5</td>\n",
              "      <td>5</td>\n",
              "      <td>8.695423</td>\n",
              "      <td>1</td>\n",
              "    </tr>\n",
              "    <tr>\n",
              "      <th>49976</th>\n",
              "      <td>0.900517</td>\n",
              "      <td>0.401007</td>\n",
              "      <td>0.125000</td>\n",
              "      <td>19</td>\n",
              "      <td>5</td>\n",
              "      <td>5</td>\n",
              "      <td>11.438725</td>\n",
              "      <td>1</td>\n",
              "    </tr>\n",
              "    <tr>\n",
              "      <th>49978</th>\n",
              "      <td>0.900517</td>\n",
              "      <td>0.401007</td>\n",
              "      <td>-4.550296</td>\n",
              "      <td>16</td>\n",
              "      <td>4</td>\n",
              "      <td>0</td>\n",
              "      <td>9.541882</td>\n",
              "      <td>0</td>\n",
              "    </tr>\n",
              "    <tr>\n",
              "      <th>49979</th>\n",
              "      <td>0.900517</td>\n",
              "      <td>0.401007</td>\n",
              "      <td>0.285714</td>\n",
              "      <td>22</td>\n",
              "      <td>5</td>\n",
              "      <td>5</td>\n",
              "      <td>9.862871</td>\n",
              "      <td>1</td>\n",
              "    </tr>\n",
              "    <tr>\n",
              "      <th>49982</th>\n",
              "      <td>0.900517</td>\n",
              "      <td>0.297426</td>\n",
              "      <td>-1.893127</td>\n",
              "      <td>19</td>\n",
              "      <td>5</td>\n",
              "      <td>0</td>\n",
              "      <td>8.241993</td>\n",
              "      <td>0</td>\n",
              "    </tr>\n",
              "  </tbody>\n",
              "</table>\n",
              "<p>10000 rows × 8 columns</p>\n",
              "</div>"
            ],
            "text/plain": [
              "       business_code  cust_payment_terms  ...   amnt_log  is_weekend\n",
              "2           0.900517            0.401007  ...   8.944360           1\n",
              "3           0.900517            0.401007  ...   9.878669           0\n",
              "7           0.900517            0.401007  ...  10.271948           0\n",
              "10          0.900517            0.174988  ...   8.391206           1\n",
              "16          0.900517            0.297426  ...   9.484565           1\n",
              "...              ...                 ...  ...        ...         ...\n",
              "49961       0.900517            0.297426  ...   8.695423           1\n",
              "49976       0.900517            0.401007  ...  11.438725           1\n",
              "49978       0.900517            0.401007  ...   9.541882           0\n",
              "49979       0.900517            0.401007  ...   9.862871           1\n",
              "49982       0.900517            0.297426  ...   8.241993           0\n",
              "\n",
              "[10000 rows x 8 columns]"
            ]
          },
          "metadata": {
            "tags": []
          },
          "execution_count": 139
        }
      ]
    },
    {
      "cell_type": "code",
      "metadata": {
        "id": "Y8bjXgf0FL4O"
      },
      "source": [
        "copy = clear_date_null['amnt_log']"
      ],
      "execution_count": null,
      "outputs": []
    },
    {
      "cell_type": "code",
      "metadata": {
        "id": "B-Mu1_mqFVHR"
      },
      "source": [
        "# to fix the order of column in each set\n",
        "\n",
        "def swap_columns(df, c1, c2):\n",
        "    df['temp'] = df[c1]\n",
        "    df[c1] = df[c2]\n",
        "    df[c2] = df['temp']\n",
        "    df.drop(columns=['temp'], inplace=True)"
      ],
      "execution_count": null,
      "outputs": []
    },
    {
      "cell_type": "code",
      "metadata": {
        "id": "N-oMQe8aFYVX"
      },
      "source": [
        "swap_columns(clear_date_null,'amnt_log', 'is_weekend' )"
      ],
      "execution_count": null,
      "outputs": []
    },
    {
      "cell_type": "code",
      "metadata": {
        "id": "YRhKkjuFGl7S"
      },
      "source": [
        "clear_date_null.rename(columns={\"amnt_log\":\"temp\"},inplace=True)"
      ],
      "execution_count": null,
      "outputs": []
    },
    {
      "cell_type": "code",
      "metadata": {
        "id": "A-DNVSfrGsbA"
      },
      "source": [
        "clear_date_null.rename(columns={\"is_weekend\":\"amnt_log\"},inplace=True)"
      ],
      "execution_count": null,
      "outputs": []
    },
    {
      "cell_type": "code",
      "metadata": {
        "id": "6SKmnRI3G9N-"
      },
      "source": [
        "clear_date_null.rename(columns={\"temp\":\"is_weekend\"},inplace=True)"
      ],
      "execution_count": null,
      "outputs": []
    },
    {
      "cell_type": "code",
      "metadata": {
        "colab": {
          "base_uri": "https://localhost:8080/"
        },
        "id": "r56BwOl1D5Xh",
        "outputId": "e77a5021-aa5f-4cce-f5b5-bf4647ac788a"
      },
      "source": [
        "x_train.columns , x_test.columns , x_val.columns , clear_date_null.columns"
      ],
      "execution_count": null,
      "outputs": [
        {
          "output_type": "execute_result",
          "data": {
            "text/plain": [
              "(Index(['business_code', 'cust_payment_terms', 'mean_delay', 'due_dt_week',\n",
              "        'due_dt_mon', 'due_dt_day_of_week', 'is_weekend', 'amnt_log'],\n",
              "       dtype='object'),\n",
              " Index(['business_code', 'cust_payment_terms', 'mean_delay', 'due_dt_week',\n",
              "        'due_dt_mon', 'due_dt_day_of_week', 'is_weekend', 'amnt_log'],\n",
              "       dtype='object'),\n",
              " Index(['business_code', 'cust_payment_terms', 'mean_delay', 'due_dt_week',\n",
              "        'due_dt_mon', 'due_dt_day_of_week', 'is_weekend', 'amnt_log'],\n",
              "       dtype='object'),\n",
              " Index(['business_code', 'cust_payment_terms', 'mean_delay', 'due_dt_week',\n",
              "        'due_dt_mon', 'due_dt_day_of_week', 'is_weekend', 'amnt_log'],\n",
              "       dtype='object'))"
            ]
          },
          "metadata": {
            "tags": []
          },
          "execution_count": 146
        }
      ]
    },
    {
      "cell_type": "code",
      "metadata": {
        "colab": {
          "base_uri": "https://localhost:8080/",
          "height": 417
        },
        "id": "QChZd1acGZ34",
        "outputId": "88b226b9-8050-4c20-c129-4e0082c1e15a"
      },
      "source": [
        "clear_date_null"
      ],
      "execution_count": null,
      "outputs": [
        {
          "output_type": "execute_result",
          "data": {
            "text/html": [
              "<div>\n",
              "<style scoped>\n",
              "    .dataframe tbody tr th:only-of-type {\n",
              "        vertical-align: middle;\n",
              "    }\n",
              "\n",
              "    .dataframe tbody tr th {\n",
              "        vertical-align: top;\n",
              "    }\n",
              "\n",
              "    .dataframe thead th {\n",
              "        text-align: right;\n",
              "    }\n",
              "</style>\n",
              "<table border=\"1\" class=\"dataframe\">\n",
              "  <thead>\n",
              "    <tr style=\"text-align: right;\">\n",
              "      <th></th>\n",
              "      <th>business_code</th>\n",
              "      <th>cust_payment_terms</th>\n",
              "      <th>mean_delay</th>\n",
              "      <th>due_dt_week</th>\n",
              "      <th>due_dt_mon</th>\n",
              "      <th>due_dt_day_of_week</th>\n",
              "      <th>is_weekend</th>\n",
              "      <th>amnt_log</th>\n",
              "    </tr>\n",
              "  </thead>\n",
              "  <tbody>\n",
              "    <tr>\n",
              "      <th>2</th>\n",
              "      <td>0.900517</td>\n",
              "      <td>0.401007</td>\n",
              "      <td>3.863309</td>\n",
              "      <td>15</td>\n",
              "      <td>4</td>\n",
              "      <td>5</td>\n",
              "      <td>1</td>\n",
              "      <td>8.944360</td>\n",
              "    </tr>\n",
              "    <tr>\n",
              "      <th>3</th>\n",
              "      <td>0.900517</td>\n",
              "      <td>0.401007</td>\n",
              "      <td>1.348837</td>\n",
              "      <td>18</td>\n",
              "      <td>4</td>\n",
              "      <td>3</td>\n",
              "      <td>0</td>\n",
              "      <td>9.878669</td>\n",
              "    </tr>\n",
              "    <tr>\n",
              "      <th>7</th>\n",
              "      <td>0.900517</td>\n",
              "      <td>0.401007</td>\n",
              "      <td>0.795918</td>\n",
              "      <td>18</td>\n",
              "      <td>4</td>\n",
              "      <td>0</td>\n",
              "      <td>0</td>\n",
              "      <td>10.271948</td>\n",
              "    </tr>\n",
              "    <tr>\n",
              "      <th>10</th>\n",
              "      <td>0.900517</td>\n",
              "      <td>0.174988</td>\n",
              "      <td>-5.042857</td>\n",
              "      <td>10</td>\n",
              "      <td>3</td>\n",
              "      <td>6</td>\n",
              "      <td>1</td>\n",
              "      <td>8.391206</td>\n",
              "    </tr>\n",
              "    <tr>\n",
              "      <th>16</th>\n",
              "      <td>0.900517</td>\n",
              "      <td>0.297426</td>\n",
              "      <td>-1.893127</td>\n",
              "      <td>15</td>\n",
              "      <td>4</td>\n",
              "      <td>6</td>\n",
              "      <td>1</td>\n",
              "      <td>9.484565</td>\n",
              "    </tr>\n",
              "    <tr>\n",
              "      <th>...</th>\n",
              "      <td>...</td>\n",
              "      <td>...</td>\n",
              "      <td>...</td>\n",
              "      <td>...</td>\n",
              "      <td>...</td>\n",
              "      <td>...</td>\n",
              "      <td>...</td>\n",
              "      <td>...</td>\n",
              "    </tr>\n",
              "    <tr>\n",
              "      <th>49961</th>\n",
              "      <td>0.900517</td>\n",
              "      <td>0.297426</td>\n",
              "      <td>-2.072488</td>\n",
              "      <td>21</td>\n",
              "      <td>5</td>\n",
              "      <td>5</td>\n",
              "      <td>1</td>\n",
              "      <td>8.695423</td>\n",
              "    </tr>\n",
              "    <tr>\n",
              "      <th>49976</th>\n",
              "      <td>0.900517</td>\n",
              "      <td>0.401007</td>\n",
              "      <td>0.125000</td>\n",
              "      <td>19</td>\n",
              "      <td>5</td>\n",
              "      <td>5</td>\n",
              "      <td>1</td>\n",
              "      <td>11.438725</td>\n",
              "    </tr>\n",
              "    <tr>\n",
              "      <th>49978</th>\n",
              "      <td>0.900517</td>\n",
              "      <td>0.401007</td>\n",
              "      <td>-4.550296</td>\n",
              "      <td>16</td>\n",
              "      <td>4</td>\n",
              "      <td>0</td>\n",
              "      <td>0</td>\n",
              "      <td>9.541882</td>\n",
              "    </tr>\n",
              "    <tr>\n",
              "      <th>49979</th>\n",
              "      <td>0.900517</td>\n",
              "      <td>0.401007</td>\n",
              "      <td>0.285714</td>\n",
              "      <td>22</td>\n",
              "      <td>5</td>\n",
              "      <td>5</td>\n",
              "      <td>1</td>\n",
              "      <td>9.862871</td>\n",
              "    </tr>\n",
              "    <tr>\n",
              "      <th>49982</th>\n",
              "      <td>0.900517</td>\n",
              "      <td>0.297426</td>\n",
              "      <td>-1.893127</td>\n",
              "      <td>19</td>\n",
              "      <td>5</td>\n",
              "      <td>0</td>\n",
              "      <td>0</td>\n",
              "      <td>8.241993</td>\n",
              "    </tr>\n",
              "  </tbody>\n",
              "</table>\n",
              "<p>10000 rows × 8 columns</p>\n",
              "</div>"
            ],
            "text/plain": [
              "       business_code  cust_payment_terms  ...  is_weekend   amnt_log\n",
              "2           0.900517            0.401007  ...           1   8.944360\n",
              "3           0.900517            0.401007  ...           0   9.878669\n",
              "7           0.900517            0.401007  ...           0  10.271948\n",
              "10          0.900517            0.174988  ...           1   8.391206\n",
              "16          0.900517            0.297426  ...           1   9.484565\n",
              "...              ...                 ...  ...         ...        ...\n",
              "49961       0.900517            0.297426  ...           1   8.695423\n",
              "49976       0.900517            0.401007  ...           1  11.438725\n",
              "49978       0.900517            0.401007  ...           0   9.541882\n",
              "49979       0.900517            0.401007  ...           1   9.862871\n",
              "49982       0.900517            0.297426  ...           0   8.241993\n",
              "\n",
              "[10000 rows x 8 columns]"
            ]
          },
          "metadata": {
            "tags": []
          },
          "execution_count": 147
        }
      ]
    },
    {
      "cell_type": "code",
      "metadata": {
        "colab": {
          "base_uri": "https://localhost:8080/"
        },
        "id": "LEsndDlNHreD",
        "outputId": "cbad68cd-d8ea-4e11-a43c-1b86135f5f7e"
      },
      "source": [
        "x_val.info()"
      ],
      "execution_count": null,
      "outputs": [
        {
          "output_type": "stream",
          "text": [
            "<class 'pandas.core.frame.DataFrame'>\n",
            "Int64Index: 7973 entries, 46281 to 42926\n",
            "Data columns (total 8 columns):\n",
            " #   Column              Non-Null Count  Dtype  \n",
            "---  ------              --------------  -----  \n",
            " 0   business_code       7973 non-null   float64\n",
            " 1   cust_payment_terms  7973 non-null   float64\n",
            " 2   mean_delay          7973 non-null   float64\n",
            " 3   due_dt_week         7973 non-null   int64  \n",
            " 4   due_dt_mon          7973 non-null   int64  \n",
            " 5   due_dt_day_of_week  7973 non-null   int64  \n",
            " 6   is_weekend          7973 non-null   int64  \n",
            " 7   amnt_log            7973 non-null   float64\n",
            "dtypes: float64(4), int64(4)\n",
            "memory usage: 560.6 KB\n"
          ],
          "name": "stdout"
        }
      ]
    },
    {
      "cell_type": "markdown",
      "metadata": {
        "id": "kdZGi31pI1l1"
      },
      "source": [
        "# **Model Building and Prediction**"
      ]
    },
    {
      "cell_type": "code",
      "metadata": {
        "id": "DIRS2QuYI7EM"
      },
      "source": [
        "from sklearn.linear_model import LinearRegression\n",
        "from sklearn.tree import DecisionTreeRegressor\n",
        "from sklearn.ensemble import RandomForestRegressor\n",
        "import xgboost as xgb\n",
        "from sklearn.metrics import mean_absolute_error\n",
        "from sklearn.metrics import mean_squared_error\n",
        "from sklearn.metrics import r2_score"
      ],
      "execution_count": null,
      "outputs": []
    },
    {
      "cell_type": "markdown",
      "metadata": {
        "id": "o4de2TYDMT_J"
      },
      "source": [
        "## Linear Regression"
      ]
    },
    {
      "cell_type": "code",
      "metadata": {
        "colab": {
          "base_uri": "https://localhost:8080/"
        },
        "id": "bjcDvzZpJqS3",
        "outputId": "e39bfb1d-862f-4d0a-ac63-27f7ebd38c67"
      },
      "source": [
        "# for x_val\n",
        "\n",
        "clf = LinearRegression()\n",
        "clf.fit(x_train, y_train)\n",
        "\n",
        "# Predicting the Validation Set Results\n",
        "predicted = np.floor(clf.predict(x_val))\n",
        "\n",
        "print(predicted)"
      ],
      "execution_count": null,
      "outputs": [
        {
          "output_type": "stream",
          "text": [
            "[ 3.  0.  0. ...  1. -1.  0.]\n"
          ],
          "name": "stdout"
        }
      ]
    },
    {
      "cell_type": "code",
      "metadata": {
        "colab": {
          "base_uri": "https://localhost:8080/"
        },
        "id": "9erIZJs7J0XQ",
        "outputId": "092fb78a-c0bf-4dba-bc4e-a44f6d0a1aed"
      },
      "source": [
        "y_val"
      ],
      "execution_count": null,
      "outputs": [
        {
          "output_type": "execute_result",
          "data": {
            "text/plain": [
              "46281   -2\n",
              "26158    2\n",
              "4433     1\n",
              "38483    1\n",
              "21889   -2\n",
              "        ..\n",
              "18946    0\n",
              "10602   -3\n",
              "22262    3\n",
              "35159    0\n",
              "42926    0\n",
              "Name: delay, Length: 7973, dtype: int64"
            ]
          },
          "metadata": {
            "tags": []
          },
          "execution_count": 151
        }
      ]
    },
    {
      "cell_type": "markdown",
      "metadata": {
        "id": "I0pGE8-1Nr3v"
      },
      "source": [
        "#### Finding MAE and RMSE"
      ]
    },
    {
      "cell_type": "code",
      "metadata": {
        "colab": {
          "base_uri": "https://localhost:8080/"
        },
        "id": "voGALz5QJ4ei",
        "outputId": "e03be514-a9d7-4f7f-bcd6-4ef09395e470"
      },
      "source": [
        "mae=mean_absolute_error(y_val,predicted)\n",
        "print(mae)"
      ],
      "execution_count": null,
      "outputs": [
        {
          "output_type": "stream",
          "text": [
            "3.1705756929637525\n"
          ],
          "name": "stdout"
        }
      ]
    },
    {
      "cell_type": "code",
      "metadata": {
        "colab": {
          "base_uri": "https://localhost:8080/"
        },
        "id": "8XPESALWJ9uJ",
        "outputId": "4a8bcf27-3554-415d-8390-de8a3738dcf2"
      },
      "source": [
        "rmse=np.sqrt(mean_squared_error(y_val,predicted))\n",
        "rmse"
      ],
      "execution_count": null,
      "outputs": [
        {
          "output_type": "execute_result",
          "data": {
            "text/plain": [
              "5.892904746509662"
            ]
          },
          "metadata": {
            "tags": []
          },
          "execution_count": 153
        }
      ]
    },
    {
      "cell_type": "markdown",
      "metadata": {
        "id": "1ITzHtaqOQzs"
      },
      "source": [
        "## Predicting on clear_date_null "
      ]
    },
    {
      "cell_type": "code",
      "metadata": {
        "colab": {
          "base_uri": "https://localhost:8080/"
        },
        "id": "cbG6YKH_OUwx",
        "outputId": "d96af036-cc9a-4613-d55b-5398e1d35b96"
      },
      "source": [
        "prediction1 = np.floor(clf.predict(clear_date_null))\n",
        "print(prediction1)"
      ],
      "execution_count": null,
      "outputs": [
        {
          "output_type": "stream",
          "text": [
            "[ 4.  1.  0. ... -5.  0. -2.]\n"
          ],
          "name": "stdout"
        }
      ]
    },
    {
      "cell_type": "code",
      "metadata": {
        "id": "Qi7XEeHKRHgS"
      },
      "source": [
        "# adding predicted column in final result\n",
        "clear_date_null_copy['predicted'] = prediction1\n"
      ],
      "execution_count": null,
      "outputs": []
    },
    {
      "cell_type": "markdown",
      "metadata": {
        "id": "USy6jOiZVaLk"
      },
      "source": [
        "#### Adding Bucket"
      ]
    },
    {
      "cell_type": "code",
      "metadata": {
        "id": "OxjB91dRVd7g"
      },
      "source": [
        "def binning (x):\n",
        "   \n",
        "    if x <= 15: return \"0-15 days\"\n",
        "    elif x <= 30: return \"15-30 days\"\n",
        "    elif x <= 45: return \"30-45 days\"\n",
        "    elif x <= 60: return \"45-60 days\"\n",
        "    else: return \"60+ days\""
      ],
      "execution_count": null,
      "outputs": []
    },
    {
      "cell_type": "code",
      "metadata": {
        "id": "O2Kmr2CpVZQw"
      },
      "source": [
        "\n",
        "clear_date_null_copy['age_bin'] =clear_date_null_copy['predicted'].apply(binning)"
      ],
      "execution_count": null,
      "outputs": []
    },
    {
      "cell_type": "code",
      "metadata": {
        "id": "rvw-585gRHj5"
      },
      "source": [
        "clear_date_null_copy['due_in_date'] = pd.to_datetime(clear_date_null_copy['due_in_date'], format='%Y%m%d')"
      ],
      "execution_count": null,
      "outputs": []
    },
    {
      "cell_type": "code",
      "metadata": {
        "id": "prgJYOwHRHnU"
      },
      "source": [
        "#here i am converting the predicted days to a datetime datatype so that it can be added to another datetime datatype\n",
        "\n",
        "clear_date_null_copy['predicted']=pd.to_timedelta(clear_date_null_copy['predicted'], unit='D')\n",
        "clear_date_null_copy.drop('clear_date',axis=1,inplace=True)"
      ],
      "execution_count": null,
      "outputs": []
    },
    {
      "cell_type": "code",
      "metadata": {
        "id": "BHdXRjR8ToZ-"
      },
      "source": [
        "#adding predicted_clear_date column to final result\n",
        "\n",
        "clear_date_null_copy['predicted_clear_date']=clear_date_null_copy['due_in_date']+ clear_date_null_copy['predicted']\n",
        "clear_date_null_copy['predicted_clear_date']=pd.to_datetime(clear_date_null_copy['predicted_clear_date']).dt.date"
      ],
      "execution_count": null,
      "outputs": []
    },
    {
      "cell_type": "markdown",
      "metadata": {
        "id": "tNjzmYrGX1bF"
      },
      "source": [
        "# **FINAL RESULT**"
      ]
    },
    {
      "cell_type": "code",
      "metadata": {
        "colab": {
          "base_uri": "https://localhost:8080/",
          "height": 622
        },
        "id": "lF4pQFJnPo-2",
        "outputId": "8bb7da12-2c72-4c14-e42a-3998079a4d47"
      },
      "source": [
        "clear_date_null_copy"
      ],
      "execution_count": null,
      "outputs": [
        {
          "output_type": "execute_result",
          "data": {
            "text/html": [
              "<div>\n",
              "<style scoped>\n",
              "    .dataframe tbody tr th:only-of-type {\n",
              "        vertical-align: middle;\n",
              "    }\n",
              "\n",
              "    .dataframe tbody tr th {\n",
              "        vertical-align: top;\n",
              "    }\n",
              "\n",
              "    .dataframe thead th {\n",
              "        text-align: right;\n",
              "    }\n",
              "</style>\n",
              "<table border=\"1\" class=\"dataframe\">\n",
              "  <thead>\n",
              "    <tr style=\"text-align: right;\">\n",
              "      <th></th>\n",
              "      <th>business_code</th>\n",
              "      <th>cust_number</th>\n",
              "      <th>name_customer</th>\n",
              "      <th>buisness_year</th>\n",
              "      <th>doc_id</th>\n",
              "      <th>posting_date</th>\n",
              "      <th>document_create_date</th>\n",
              "      <th>document_create_date.1</th>\n",
              "      <th>due_in_date</th>\n",
              "      <th>invoice_currency</th>\n",
              "      <th>document type</th>\n",
              "      <th>posting_id</th>\n",
              "      <th>area_business</th>\n",
              "      <th>total_open_amount</th>\n",
              "      <th>baseline_create_date</th>\n",
              "      <th>cust_payment_terms</th>\n",
              "      <th>invoice_id</th>\n",
              "      <th>isOpen</th>\n",
              "      <th>predicted</th>\n",
              "      <th>age_bin</th>\n",
              "      <th>predicted_clear_date</th>\n",
              "    </tr>\n",
              "  </thead>\n",
              "  <tbody>\n",
              "    <tr>\n",
              "      <th>2</th>\n",
              "      <td>U001</td>\n",
              "      <td>0200744019</td>\n",
              "      <td>TARG llc</td>\n",
              "      <td>2020.0</td>\n",
              "      <td>1.930708e+09</td>\n",
              "      <td>2020-03-27</td>\n",
              "      <td>20200326</td>\n",
              "      <td>20200327</td>\n",
              "      <td>2020-04-11</td>\n",
              "      <td>USD</td>\n",
              "      <td>RV</td>\n",
              "      <td>1.0</td>\n",
              "      <td>NaN</td>\n",
              "      <td>7664.54</td>\n",
              "      <td>20200327.0</td>\n",
              "      <td>NAA8</td>\n",
              "      <td>1.930708e+09</td>\n",
              "      <td>1</td>\n",
              "      <td>4 days</td>\n",
              "      <td>0-15 days</td>\n",
              "      <td>2020-04-15</td>\n",
              "    </tr>\n",
              "    <tr>\n",
              "      <th>3</th>\n",
              "      <td>U001</td>\n",
              "      <td>0200705089</td>\n",
              "      <td>JETR llc</td>\n",
              "      <td>2020.0</td>\n",
              "      <td>1.930788e+09</td>\n",
              "      <td>2020-04-15</td>\n",
              "      <td>20200415</td>\n",
              "      <td>20200415</td>\n",
              "      <td>2020-04-30</td>\n",
              "      <td>USD</td>\n",
              "      <td>RV</td>\n",
              "      <td>1.0</td>\n",
              "      <td>NaN</td>\n",
              "      <td>19509.74</td>\n",
              "      <td>20200415.0</td>\n",
              "      <td>NAA8</td>\n",
              "      <td>1.930788e+09</td>\n",
              "      <td>1</td>\n",
              "      <td>1 days</td>\n",
              "      <td>0-15 days</td>\n",
              "      <td>2020-05-01</td>\n",
              "    </tr>\n",
              "    <tr>\n",
              "      <th>7</th>\n",
              "      <td>U001</td>\n",
              "      <td>0200793513</td>\n",
              "      <td>KROGER associates</td>\n",
              "      <td>2020.0</td>\n",
              "      <td>1.930779e+09</td>\n",
              "      <td>2020-04-12</td>\n",
              "      <td>20200412</td>\n",
              "      <td>20200412</td>\n",
              "      <td>2020-04-27</td>\n",
              "      <td>USD</td>\n",
              "      <td>RV</td>\n",
              "      <td>1.0</td>\n",
              "      <td>NaN</td>\n",
              "      <td>28910.14</td>\n",
              "      <td>20200412.0</td>\n",
              "      <td>NAA8</td>\n",
              "      <td>1.930779e+09</td>\n",
              "      <td>1</td>\n",
              "      <td>0 days</td>\n",
              "      <td>0-15 days</td>\n",
              "      <td>2020-04-27</td>\n",
              "    </tr>\n",
              "    <tr>\n",
              "      <th>10</th>\n",
              "      <td>U001</td>\n",
              "      <td>0200020431</td>\n",
              "      <td>DEC systems</td>\n",
              "      <td>2020.0</td>\n",
              "      <td>1.930600e+09</td>\n",
              "      <td>2020-03-04</td>\n",
              "      <td>20200304</td>\n",
              "      <td>20200304</td>\n",
              "      <td>2020-03-08</td>\n",
              "      <td>USD</td>\n",
              "      <td>RV</td>\n",
              "      <td>1.0</td>\n",
              "      <td>NaN</td>\n",
              "      <td>4408.13</td>\n",
              "      <td>20200301.0</td>\n",
              "      <td>NAM1</td>\n",
              "      <td>1.930600e+09</td>\n",
              "      <td>1</td>\n",
              "      <td>-5 days</td>\n",
              "      <td>0-15 days</td>\n",
              "      <td>2020-03-03</td>\n",
              "    </tr>\n",
              "    <tr>\n",
              "      <th>16</th>\n",
              "      <td>U001</td>\n",
              "      <td>0200769623</td>\n",
              "      <td>WAL-MAR us</td>\n",
              "      <td>2020.0</td>\n",
              "      <td>1.930714e+09</td>\n",
              "      <td>2020-03-28</td>\n",
              "      <td>20200328</td>\n",
              "      <td>20200328</td>\n",
              "      <td>2020-04-12</td>\n",
              "      <td>USD</td>\n",
              "      <td>RV</td>\n",
              "      <td>1.0</td>\n",
              "      <td>NaN</td>\n",
              "      <td>13155.10</td>\n",
              "      <td>20200328.0</td>\n",
              "      <td>NAH4</td>\n",
              "      <td>1.930714e+09</td>\n",
              "      <td>1</td>\n",
              "      <td>-2 days</td>\n",
              "      <td>0-15 days</td>\n",
              "      <td>2020-04-10</td>\n",
              "    </tr>\n",
              "    <tr>\n",
              "      <th>...</th>\n",
              "      <td>...</td>\n",
              "      <td>...</td>\n",
              "      <td>...</td>\n",
              "      <td>...</td>\n",
              "      <td>...</td>\n",
              "      <td>...</td>\n",
              "      <td>...</td>\n",
              "      <td>...</td>\n",
              "      <td>...</td>\n",
              "      <td>...</td>\n",
              "      <td>...</td>\n",
              "      <td>...</td>\n",
              "      <td>...</td>\n",
              "      <td>...</td>\n",
              "      <td>...</td>\n",
              "      <td>...</td>\n",
              "      <td>...</td>\n",
              "      <td>...</td>\n",
              "      <td>...</td>\n",
              "      <td>...</td>\n",
              "      <td>...</td>\n",
              "    </tr>\n",
              "    <tr>\n",
              "      <th>49961</th>\n",
              "      <td>U001</td>\n",
              "      <td>200769623</td>\n",
              "      <td>WAL-MAR corp</td>\n",
              "      <td>2020.0</td>\n",
              "      <td>1.930876e+09</td>\n",
              "      <td>2020-05-08</td>\n",
              "      <td>20200507</td>\n",
              "      <td>20200508</td>\n",
              "      <td>2020-05-23</td>\n",
              "      <td>USD</td>\n",
              "      <td>RV</td>\n",
              "      <td>1.0</td>\n",
              "      <td>NaN</td>\n",
              "      <td>5975.50</td>\n",
              "      <td>20200508.0</td>\n",
              "      <td>NAH4</td>\n",
              "      <td>1.930876e+09</td>\n",
              "      <td>1</td>\n",
              "      <td>-2 days</td>\n",
              "      <td>0-15 days</td>\n",
              "      <td>2020-05-21</td>\n",
              "    </tr>\n",
              "    <tr>\n",
              "      <th>49976</th>\n",
              "      <td>U001</td>\n",
              "      <td>0200774000</td>\n",
              "      <td>RALEY co</td>\n",
              "      <td>2020.0</td>\n",
              "      <td>1.930824e+09</td>\n",
              "      <td>2020-04-24</td>\n",
              "      <td>20200424</td>\n",
              "      <td>20200424</td>\n",
              "      <td>2020-05-09</td>\n",
              "      <td>USD</td>\n",
              "      <td>RV</td>\n",
              "      <td>1.0</td>\n",
              "      <td>NaN</td>\n",
              "      <td>92848.60</td>\n",
              "      <td>20200424.0</td>\n",
              "      <td>NAA8</td>\n",
              "      <td>1.930824e+09</td>\n",
              "      <td>1</td>\n",
              "      <td>0 days</td>\n",
              "      <td>0-15 days</td>\n",
              "      <td>2020-05-09</td>\n",
              "    </tr>\n",
              "    <tr>\n",
              "      <th>49978</th>\n",
              "      <td>U001</td>\n",
              "      <td>0200761734</td>\n",
              "      <td>H E BUT</td>\n",
              "      <td>2020.0</td>\n",
              "      <td>1.930711e+09</td>\n",
              "      <td>2020-03-29</td>\n",
              "      <td>20200328</td>\n",
              "      <td>20200329</td>\n",
              "      <td>2020-04-13</td>\n",
              "      <td>USD</td>\n",
              "      <td>RV</td>\n",
              "      <td>1.0</td>\n",
              "      <td>NaN</td>\n",
              "      <td>13931.14</td>\n",
              "      <td>20200329.0</td>\n",
              "      <td>NAA8</td>\n",
              "      <td>1.930711e+09</td>\n",
              "      <td>1</td>\n",
              "      <td>-5 days</td>\n",
              "      <td>0-15 days</td>\n",
              "      <td>2020-04-08</td>\n",
              "    </tr>\n",
              "    <tr>\n",
              "      <th>49979</th>\n",
              "      <td>U001</td>\n",
              "      <td>0200763229</td>\n",
              "      <td>MAINES corporation</td>\n",
              "      <td>2020.0</td>\n",
              "      <td>1.930906e+09</td>\n",
              "      <td>2020-05-15</td>\n",
              "      <td>20200515</td>\n",
              "      <td>20200515</td>\n",
              "      <td>2020-05-30</td>\n",
              "      <td>USD</td>\n",
              "      <td>RV</td>\n",
              "      <td>1.0</td>\n",
              "      <td>NaN</td>\n",
              "      <td>19203.95</td>\n",
              "      <td>20200515.0</td>\n",
              "      <td>NAA8</td>\n",
              "      <td>1.930906e+09</td>\n",
              "      <td>1</td>\n",
              "      <td>0 days</td>\n",
              "      <td>0-15 days</td>\n",
              "      <td>2020-05-30</td>\n",
              "    </tr>\n",
              "    <tr>\n",
              "      <th>49982</th>\n",
              "      <td>U001</td>\n",
              "      <td>0200769623</td>\n",
              "      <td>WAL-MAR corp</td>\n",
              "      <td>2020.0</td>\n",
              "      <td>1.930800e+09</td>\n",
              "      <td>2020-04-19</td>\n",
              "      <td>20200418</td>\n",
              "      <td>20200419</td>\n",
              "      <td>2020-05-04</td>\n",
              "      <td>USD</td>\n",
              "      <td>RV</td>\n",
              "      <td>1.0</td>\n",
              "      <td>NaN</td>\n",
              "      <td>3797.10</td>\n",
              "      <td>20200419.0</td>\n",
              "      <td>NAH4</td>\n",
              "      <td>1.930800e+09</td>\n",
              "      <td>1</td>\n",
              "      <td>-2 days</td>\n",
              "      <td>0-15 days</td>\n",
              "      <td>2020-05-02</td>\n",
              "    </tr>\n",
              "  </tbody>\n",
              "</table>\n",
              "<p>10000 rows × 21 columns</p>\n",
              "</div>"
            ],
            "text/plain": [
              "      business_code cust_number  ...    age_bin  predicted_clear_date\n",
              "2              U001  0200744019  ...  0-15 days            2020-04-15\n",
              "3              U001  0200705089  ...  0-15 days            2020-05-01\n",
              "7              U001  0200793513  ...  0-15 days            2020-04-27\n",
              "10             U001  0200020431  ...  0-15 days            2020-03-03\n",
              "16             U001  0200769623  ...  0-15 days            2020-04-10\n",
              "...             ...         ...  ...        ...                   ...\n",
              "49961          U001   200769623  ...  0-15 days            2020-05-21\n",
              "49976          U001  0200774000  ...  0-15 days            2020-05-09\n",
              "49978          U001  0200761734  ...  0-15 days            2020-04-08\n",
              "49979          U001  0200763229  ...  0-15 days            2020-05-30\n",
              "49982          U001  0200769623  ...  0-15 days            2020-05-02\n",
              "\n",
              "[10000 rows x 21 columns]"
            ]
          },
          "metadata": {
            "tags": []
          },
          "execution_count": 161
        }
      ]
    },
    {
      "cell_type": "markdown",
      "metadata": {
        "id": "29LbtReyxqDH"
      },
      "source": [
        "# Data Preparation For Loading In Database"
      ]
    },
    {
      "cell_type": "code",
      "metadata": {
        "colab": {
          "base_uri": "https://localhost:8080/",
          "height": 487
        },
        "id": "OJg3YezDxv4t",
        "outputId": "248713d4-768f-4e7d-834b-07fa6c9eaa8e"
      },
      "source": [
        "db_data"
      ],
      "execution_count": null,
      "outputs": [
        {
          "output_type": "execute_result",
          "data": {
            "text/html": [
              "<div>\n",
              "<style scoped>\n",
              "    .dataframe tbody tr th:only-of-type {\n",
              "        vertical-align: middle;\n",
              "    }\n",
              "\n",
              "    .dataframe tbody tr th {\n",
              "        vertical-align: top;\n",
              "    }\n",
              "\n",
              "    .dataframe thead th {\n",
              "        text-align: right;\n",
              "    }\n",
              "</style>\n",
              "<table border=\"1\" class=\"dataframe\">\n",
              "  <thead>\n",
              "    <tr style=\"text-align: right;\">\n",
              "      <th></th>\n",
              "      <th>business_code</th>\n",
              "      <th>cust_number</th>\n",
              "      <th>name_customer</th>\n",
              "      <th>clear_date</th>\n",
              "      <th>buisness_year</th>\n",
              "      <th>doc_id</th>\n",
              "      <th>posting_date</th>\n",
              "      <th>document_create_date</th>\n",
              "      <th>document_create_date.1</th>\n",
              "      <th>due_in_date</th>\n",
              "      <th>invoice_currency</th>\n",
              "      <th>document type</th>\n",
              "      <th>posting_id</th>\n",
              "      <th>area_business</th>\n",
              "      <th>total_open_amount</th>\n",
              "      <th>baseline_create_date</th>\n",
              "      <th>cust_payment_terms</th>\n",
              "      <th>invoice_id</th>\n",
              "      <th>isOpen</th>\n",
              "    </tr>\n",
              "  </thead>\n",
              "  <tbody>\n",
              "    <tr>\n",
              "      <th>2</th>\n",
              "      <td>U001</td>\n",
              "      <td>0200744019</td>\n",
              "      <td>TARG llc</td>\n",
              "      <td>NaN</td>\n",
              "      <td>2020.0</td>\n",
              "      <td>1.930708e+09</td>\n",
              "      <td>2020-03-27</td>\n",
              "      <td>20200326</td>\n",
              "      <td>20200327</td>\n",
              "      <td>20200411.0</td>\n",
              "      <td>USD</td>\n",
              "      <td>RV</td>\n",
              "      <td>1.0</td>\n",
              "      <td>NaN</td>\n",
              "      <td>7664.54</td>\n",
              "      <td>20200327.0</td>\n",
              "      <td>NAA8</td>\n",
              "      <td>1.930708e+09</td>\n",
              "      <td>1</td>\n",
              "    </tr>\n",
              "    <tr>\n",
              "      <th>3</th>\n",
              "      <td>U001</td>\n",
              "      <td>0200705089</td>\n",
              "      <td>JETR llc</td>\n",
              "      <td>NaN</td>\n",
              "      <td>2020.0</td>\n",
              "      <td>1.930788e+09</td>\n",
              "      <td>2020-04-15</td>\n",
              "      <td>20200415</td>\n",
              "      <td>20200415</td>\n",
              "      <td>20200430.0</td>\n",
              "      <td>USD</td>\n",
              "      <td>RV</td>\n",
              "      <td>1.0</td>\n",
              "      <td>NaN</td>\n",
              "      <td>19509.74</td>\n",
              "      <td>20200415.0</td>\n",
              "      <td>NAA8</td>\n",
              "      <td>1.930788e+09</td>\n",
              "      <td>1</td>\n",
              "    </tr>\n",
              "    <tr>\n",
              "      <th>7</th>\n",
              "      <td>U001</td>\n",
              "      <td>0200793513</td>\n",
              "      <td>KROGER associates</td>\n",
              "      <td>NaN</td>\n",
              "      <td>2020.0</td>\n",
              "      <td>1.930779e+09</td>\n",
              "      <td>2020-04-12</td>\n",
              "      <td>20200412</td>\n",
              "      <td>20200412</td>\n",
              "      <td>20200427.0</td>\n",
              "      <td>USD</td>\n",
              "      <td>RV</td>\n",
              "      <td>1.0</td>\n",
              "      <td>NaN</td>\n",
              "      <td>28910.14</td>\n",
              "      <td>20200412.0</td>\n",
              "      <td>NAA8</td>\n",
              "      <td>1.930779e+09</td>\n",
              "      <td>1</td>\n",
              "    </tr>\n",
              "    <tr>\n",
              "      <th>10</th>\n",
              "      <td>U001</td>\n",
              "      <td>0200020431</td>\n",
              "      <td>DEC systems</td>\n",
              "      <td>NaN</td>\n",
              "      <td>2020.0</td>\n",
              "      <td>1.930600e+09</td>\n",
              "      <td>2020-03-04</td>\n",
              "      <td>20200304</td>\n",
              "      <td>20200304</td>\n",
              "      <td>20200308.0</td>\n",
              "      <td>USD</td>\n",
              "      <td>RV</td>\n",
              "      <td>1.0</td>\n",
              "      <td>NaN</td>\n",
              "      <td>4408.13</td>\n",
              "      <td>20200301.0</td>\n",
              "      <td>NAM1</td>\n",
              "      <td>1.930600e+09</td>\n",
              "      <td>1</td>\n",
              "    </tr>\n",
              "    <tr>\n",
              "      <th>16</th>\n",
              "      <td>U001</td>\n",
              "      <td>0200769623</td>\n",
              "      <td>WAL-MAR us</td>\n",
              "      <td>NaN</td>\n",
              "      <td>2020.0</td>\n",
              "      <td>1.930714e+09</td>\n",
              "      <td>2020-03-28</td>\n",
              "      <td>20200328</td>\n",
              "      <td>20200328</td>\n",
              "      <td>20200412.0</td>\n",
              "      <td>USD</td>\n",
              "      <td>RV</td>\n",
              "      <td>1.0</td>\n",
              "      <td>NaN</td>\n",
              "      <td>13155.10</td>\n",
              "      <td>20200328.0</td>\n",
              "      <td>NAH4</td>\n",
              "      <td>1.930714e+09</td>\n",
              "      <td>1</td>\n",
              "    </tr>\n",
              "    <tr>\n",
              "      <th>...</th>\n",
              "      <td>...</td>\n",
              "      <td>...</td>\n",
              "      <td>...</td>\n",
              "      <td>...</td>\n",
              "      <td>...</td>\n",
              "      <td>...</td>\n",
              "      <td>...</td>\n",
              "      <td>...</td>\n",
              "      <td>...</td>\n",
              "      <td>...</td>\n",
              "      <td>...</td>\n",
              "      <td>...</td>\n",
              "      <td>...</td>\n",
              "      <td>...</td>\n",
              "      <td>...</td>\n",
              "      <td>...</td>\n",
              "      <td>...</td>\n",
              "      <td>...</td>\n",
              "      <td>...</td>\n",
              "    </tr>\n",
              "    <tr>\n",
              "      <th>49961</th>\n",
              "      <td>U001</td>\n",
              "      <td>200769623</td>\n",
              "      <td>WAL-MAR corp</td>\n",
              "      <td>NaN</td>\n",
              "      <td>2020.0</td>\n",
              "      <td>1.930876e+09</td>\n",
              "      <td>2020-05-08</td>\n",
              "      <td>20200507</td>\n",
              "      <td>20200508</td>\n",
              "      <td>20200523.0</td>\n",
              "      <td>USD</td>\n",
              "      <td>RV</td>\n",
              "      <td>1.0</td>\n",
              "      <td>NaN</td>\n",
              "      <td>5975.50</td>\n",
              "      <td>20200508.0</td>\n",
              "      <td>NAH4</td>\n",
              "      <td>1.930876e+09</td>\n",
              "      <td>1</td>\n",
              "    </tr>\n",
              "    <tr>\n",
              "      <th>49976</th>\n",
              "      <td>U001</td>\n",
              "      <td>0200774000</td>\n",
              "      <td>RALEY co</td>\n",
              "      <td>NaN</td>\n",
              "      <td>2020.0</td>\n",
              "      <td>1.930824e+09</td>\n",
              "      <td>2020-04-24</td>\n",
              "      <td>20200424</td>\n",
              "      <td>20200424</td>\n",
              "      <td>20200509.0</td>\n",
              "      <td>USD</td>\n",
              "      <td>RV</td>\n",
              "      <td>1.0</td>\n",
              "      <td>NaN</td>\n",
              "      <td>92848.60</td>\n",
              "      <td>20200424.0</td>\n",
              "      <td>NAA8</td>\n",
              "      <td>1.930824e+09</td>\n",
              "      <td>1</td>\n",
              "    </tr>\n",
              "    <tr>\n",
              "      <th>49978</th>\n",
              "      <td>U001</td>\n",
              "      <td>0200761734</td>\n",
              "      <td>H E BUT</td>\n",
              "      <td>NaN</td>\n",
              "      <td>2020.0</td>\n",
              "      <td>1.930711e+09</td>\n",
              "      <td>2020-03-29</td>\n",
              "      <td>20200328</td>\n",
              "      <td>20200329</td>\n",
              "      <td>20200413.0</td>\n",
              "      <td>USD</td>\n",
              "      <td>RV</td>\n",
              "      <td>1.0</td>\n",
              "      <td>NaN</td>\n",
              "      <td>13931.14</td>\n",
              "      <td>20200329.0</td>\n",
              "      <td>NAA8</td>\n",
              "      <td>1.930711e+09</td>\n",
              "      <td>1</td>\n",
              "    </tr>\n",
              "    <tr>\n",
              "      <th>49979</th>\n",
              "      <td>U001</td>\n",
              "      <td>0200763229</td>\n",
              "      <td>MAINES corporation</td>\n",
              "      <td>NaN</td>\n",
              "      <td>2020.0</td>\n",
              "      <td>1.930906e+09</td>\n",
              "      <td>2020-05-15</td>\n",
              "      <td>20200515</td>\n",
              "      <td>20200515</td>\n",
              "      <td>20200530.0</td>\n",
              "      <td>USD</td>\n",
              "      <td>RV</td>\n",
              "      <td>1.0</td>\n",
              "      <td>NaN</td>\n",
              "      <td>19203.95</td>\n",
              "      <td>20200515.0</td>\n",
              "      <td>NAA8</td>\n",
              "      <td>1.930906e+09</td>\n",
              "      <td>1</td>\n",
              "    </tr>\n",
              "    <tr>\n",
              "      <th>49982</th>\n",
              "      <td>U001</td>\n",
              "      <td>0200769623</td>\n",
              "      <td>WAL-MAR corp</td>\n",
              "      <td>NaN</td>\n",
              "      <td>2020.0</td>\n",
              "      <td>1.930800e+09</td>\n",
              "      <td>2020-04-19</td>\n",
              "      <td>20200418</td>\n",
              "      <td>20200419</td>\n",
              "      <td>20200504.0</td>\n",
              "      <td>USD</td>\n",
              "      <td>RV</td>\n",
              "      <td>1.0</td>\n",
              "      <td>NaN</td>\n",
              "      <td>3797.10</td>\n",
              "      <td>20200419.0</td>\n",
              "      <td>NAH4</td>\n",
              "      <td>1.930800e+09</td>\n",
              "      <td>1</td>\n",
              "    </tr>\n",
              "  </tbody>\n",
              "</table>\n",
              "<p>10000 rows × 19 columns</p>\n",
              "</div>"
            ],
            "text/plain": [
              "      business_code cust_number  ...    invoice_id isOpen\n",
              "2              U001  0200744019  ...  1.930708e+09      1\n",
              "3              U001  0200705089  ...  1.930788e+09      1\n",
              "7              U001  0200793513  ...  1.930779e+09      1\n",
              "10             U001  0200020431  ...  1.930600e+09      1\n",
              "16             U001  0200769623  ...  1.930714e+09      1\n",
              "...             ...         ...  ...           ...    ...\n",
              "49961          U001   200769623  ...  1.930876e+09      1\n",
              "49976          U001  0200774000  ...  1.930824e+09      1\n",
              "49978          U001  0200761734  ...  1.930711e+09      1\n",
              "49979          U001  0200763229  ...  1.930906e+09      1\n",
              "49982          U001  0200769623  ...  1.930800e+09      1\n",
              "\n",
              "[10000 rows x 19 columns]"
            ]
          },
          "metadata": {
            "tags": []
          },
          "execution_count": 162
        }
      ]
    },
    {
      "cell_type": "code",
      "metadata": {
        "id": "wYTIYviBx9dc"
      },
      "source": [
        "db_data.drop(['document_create_date'], axis=1, inplace=True)"
      ],
      "execution_count": null,
      "outputs": []
    },
    {
      "cell_type": "code",
      "metadata": {
        "id": "sg2W8BlAyT5G"
      },
      "source": [
        "db_data = db_data.rename(columns={'document_create_date.1' : 'document_create_date_1'})"
      ],
      "execution_count": null,
      "outputs": []
    },
    {
      "cell_type": "code",
      "metadata": {
        "id": "dN3JDAH7zuw4"
      },
      "source": [
        "db_data['due_in_date'] = pd.to_datetime(db_data['due_in_date'], format='%Y%m%d')\n",
        "db_data['baseline_create_date'] = pd.to_datetime(db_data['baseline_create_date'], format='%Y%m%d')\n",
        "db_data['clear_date'] = pd.to_datetime(db_data['clear_date'])\n",
        "db_data['posting_date'] = pd.to_datetime(db_data['posting_date'])\n",
        "db_data['document_create_date_1'] = pd.to_datetime(db_data['document_create_date_1'], format='%Y%m%d')"
      ],
      "execution_count": null,
      "outputs": []
    },
    {
      "cell_type": "code",
      "metadata": {
        "id": "IvUl25Qb05hk"
      },
      "source": [
        "# adding predicted column in final result\n",
        "db_data['predicted'] = prediction1\n",
        "db_data['predicted']=pd.to_timedelta(db_data['predicted'], unit='D')"
      ],
      "execution_count": null,
      "outputs": []
    },
    {
      "cell_type": "code",
      "metadata": {
        "id": "7uYGzjw20vKx"
      },
      "source": [
        "#adding predicted_clear_date column to final result\n",
        "\n",
        "db_data['predicted_clear_date']=db_data['due_in_date']+ db_data['predicted']\n",
        "db_data['predicted_clear_date']=pd.to_datetime(db_data['predicted_clear_date']).dt.date"
      ],
      "execution_count": null,
      "outputs": []
    },
    {
      "cell_type": "code",
      "metadata": {
        "id": "A0fai82U1NrA"
      },
      "source": [
        "db_data['predicted_clear_date'] = pd.to_datetime(db_data['predicted_clear_date'])"
      ],
      "execution_count": null,
      "outputs": []
    },
    {
      "cell_type": "code",
      "metadata": {
        "colab": {
          "base_uri": "https://localhost:8080/"
        },
        "id": "EojZQZb3yuYo",
        "outputId": "056f3cc7-1f18-4e8e-ed1b-505b69e8311c"
      },
      "source": [
        "db_data.info()"
      ],
      "execution_count": null,
      "outputs": [
        {
          "output_type": "stream",
          "text": [
            "<class 'pandas.core.frame.DataFrame'>\n",
            "Int64Index: 10000 entries, 2 to 49982\n",
            "Data columns (total 20 columns):\n",
            " #   Column                  Non-Null Count  Dtype          \n",
            "---  ------                  --------------  -----          \n",
            " 0   business_code           10000 non-null  object         \n",
            " 1   cust_number             10000 non-null  object         \n",
            " 2   name_customer           10000 non-null  object         \n",
            " 3   clear_date              0 non-null      datetime64[ns] \n",
            " 4   buisness_year           10000 non-null  float64        \n",
            " 5   doc_id                  10000 non-null  float64        \n",
            " 6   posting_date            10000 non-null  datetime64[ns] \n",
            " 7   document_create_date_1  10000 non-null  datetime64[ns] \n",
            " 8   due_in_date             10000 non-null  datetime64[ns] \n",
            " 9   invoice_currency        10000 non-null  object         \n",
            " 10  document type           10000 non-null  object         \n",
            " 11  posting_id              10000 non-null  float64        \n",
            " 12  area_business           0 non-null      float64        \n",
            " 13  total_open_amount       10000 non-null  float64        \n",
            " 14  baseline_create_date    10000 non-null  datetime64[ns] \n",
            " 15  cust_payment_terms      10000 non-null  object         \n",
            " 16  invoice_id              10000 non-null  float64        \n",
            " 17  isOpen                  10000 non-null  int64          \n",
            " 18  predicted               10000 non-null  timedelta64[ns]\n",
            " 19  predicted_clear_date    10000 non-null  datetime64[ns] \n",
            "dtypes: datetime64[ns](6), float64(6), int64(1), object(6), timedelta64[ns](1)\n",
            "memory usage: 1.6+ MB\n"
          ],
          "name": "stdout"
        }
      ]
    },
    {
      "cell_type": "code",
      "metadata": {
        "id": "rQeIdI1q12z7"
      },
      "source": [
        "db_data.to_csv('db_data.csv', date_format='%Y%m%d')"
      ],
      "execution_count": null,
      "outputs": []
    }
  ]
}